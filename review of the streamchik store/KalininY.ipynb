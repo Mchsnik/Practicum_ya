{
 "cells": [
  {
   "cell_type": "markdown",
   "metadata": {},
   "source": [
    "Привет, Ярослав!\n",
    "\n",
    "Меня зовут Вячеслав Погорелый, и я буду проводить ревью твоего проекта. \n",
    "\n",
    "Предлагаю перейти на \"ты\", если не против)\n",
    "\n",
    "Но если это не удобно - дай знать, и мы перейдем на \"вы\". Моя главная задача — не находить сделанные тобою ошибки, а передать свой опыт и помочь тебе стать аналитиком данных.\n",
    "\n",
    "Я отметил комментарии и замечания разным цветом далее по тексту markdown:\n",
    "\n",
    "---    \n",
    "<div class=\"alert alert-block alert-danger\">\n",
    "    \n",
    "### Ошибка\n",
    "    \n",
    "Критическое замечание, которые следует исправить.\n",
    "</div> \n",
    "    \n",
    "---\n",
    "    \n",
    "<div class=\"alert alert-block alert-warning\">\n",
    "    \n",
    "### Совет\n",
    "    \n",
    "Замечание\\совет на будущее.\n",
    "</div>\n",
    "    \n",
    "---\n",
    "    \n",
    "<div class=\"alert alert-block alert-success\">\n",
    "    \n",
    "### Успех\n",
    "    \n",
    "Когда всё сделано правильно.\n",
    "</div>\n",
    "    \n",
    "    \n",
    "    \n",
    "Будет здорово, если для ответов ты выберешь любой **<font color=\"maroon\">читабельный и заметный цвет</font>**, так мне будет проще все проверить.\n",
    "\n",
    "\n",
    "При доработке проекта попрошу тебя сохранить и не видоизменять заметки ревьюера, это осложняет повторную проверку"
   ]
  },
  {
   "cell_type": "markdown",
   "metadata": {},
   "source": [
    "<div class=\"alert alert-block alert-info\">\n",
    " \n",
    "### Итоговый Комментарий ревьюера\n",
    "    \n",
    "#### Успех\n",
    "    \n",
    "Благодарю тебя за выполнение работы. Мне понравился твой проект за структурность и последовательность. Во многих местах ты подбираешь оптимальный код и автоматизируешь свою работу, а это очень пригодится в будущем. Выделить бы хотел Предобработку данных. На мой взгляд она получилась особенно удачно. Очень насыщенный итоговый вывод вышел. Старайся такие выводы делать и в будущем. \n",
    "    \n",
    "    \n",
    "Однако, в проекте есть несколько замечаний, которые надо исправить:\n",
    "\n",
    "* Делать выводы на основе данных актуального периода.\n",
    "* Ящик с усами доработать. \n",
    "* С одного из графиков убрать значения-заглушки.\n",
    "* Доработать проект.\n",
    "       \n",
    "Еще я оставил рекомендации. Очень надеюсь, что ты учтешь их в этом и последующих проектах.\n",
    "       \n",
    "Жду проект после доработки. Уверен, ты справишься.\n",
    "</div>"
   ]
  },
  {
   "cell_type": "markdown",
   "metadata": {},
   "source": [
    "<div class=\"alert alert-block alert-info\">\n",
    "  \n",
    "# Итоговый Комментарий ревьюера ver.2 \n",
    "    \n",
    "#### Успех\n",
    "    \n",
    "Ярослав, ты хорошо постарался и критических замечаний нет, кроме итогогов вывода. Уверен, ты быстро с ним справишься и я смогу принять проект. Спасибо за устранения замечаний \n",
    "</div>"
   ]
  },
  {
   "cell_type": "markdown",
   "metadata": {},
   "source": [
    "<div class=\"alert alert-block alert-success\">\n",
    " \n",
    "# Итоговый Комментарий ревьюера ver.3\n",
    "    \n",
    "#### Успех\n",
    "\n",
    "Вывод превосходный вышел, как и весь проект. Спасибо тебе за доработку. Я принимаю работу и желаю тебе успехов в дальнейшей учебе. Ты точно справишься и дальше, я уверен.  "
   ]
  },
  {
   "cell_type": "markdown",
   "metadata": {},
   "source": [
    "Описание проекта\n",
    "\n",
    "Вы работаете в интернет-магазине «Стримчик», который продаёт по всему миру компьютерные игры. Из открытых источников доступны исторические данные о продажах игр, оценки пользователей и экспертов, жанры и платформы (например, Xbox или PlayStation). Вам нужно выявить определяющие успешность игры закономерности. Это позволит сделать ставку на потенциально популярный продукт и спланировать рекламные кампании.\n",
    "\n",
    "Перед вами данные до 2016 года. Представим, что сейчас декабрь 2016 г., и вы планируете кампанию на 2017-й. Нужно отработать принцип работы с данными. Неважно, прогнозируете ли вы продажи на 2017 год по данным 2016-го или же 2027-й — по данным 2026 года.\n",
    "\n",
    "В наборе данных попадается аббревиатура ESRB (Entertainment Software Rating Board) — это ассоциация, определяющая возрастной рейтинг компьютерных игр. ESRB оценивает игровой контент и присваивает ему подходящую возрастную категорию, например, «Для взрослых», «Для детей младшего возраста» или «Для подростков»."
   ]
  },
  {
   "cell_type": "markdown",
   "metadata": {},
   "source": [
    "Описание данных\n",
    "\n",
    "Name — название игры\n",
    "Platform — платформа\n",
    "Year_of_Release — год выпуска\n",
    "Genre — жанр игры\n",
    "NA_sales — продажи в Северной Америке (миллионы проданных копий)\n",
    "EU_sales — продажи в Европе (миллионы проданных копий)\n",
    "JP_sales — продажи в Японии (миллионы проданных копий)\n",
    "Other_sales — продажи в других странах (миллионы проданных копий)\n",
    "Critic_Score — оценка критиков (максимум 100)\n",
    "User_Score — оценка пользователей (максимум 10)\n",
    "Rating — рейтинг от организации ESRB (англ. Entertainment Software Rating Board). Эта ассоциация определяет рейтинг компьютерных игр и присваивает им подходящую возрастную категорию.\n",
    "\n",
    "Данные за 2016 год могут быть неполными."
   ]
  },
  {
   "cell_type": "markdown",
   "metadata": {},
   "source": [
    "<div class=\"alert alert-block alert-success\">\n",
    " \n",
    "### Комментарий ревьюера\n",
    "    \n",
    "#### Успех\n",
    "\n",
    "Спасибо тебе за оформление оглавления к проекту. С ним работа выглядит опрятнее и это правило хорошего тона. "
   ]
  },
  {
   "cell_type": "markdown",
   "metadata": {},
   "source": [
    "### Первичный осмотр данных"
   ]
  },
  {
   "cell_type": "code",
   "execution_count": 11,
   "metadata": {},
   "outputs": [
    {
     "name": "stdout",
     "output_type": "stream",
     "text": [
      "Collecting missingno\n",
      "  Downloading missingno-0.5.2-py3-none-any.whl (8.7 kB)\n",
      "Requirement already satisfied: matplotlib in /opt/conda/lib/python3.9/site-packages (from missingno) (3.3.4)\n",
      "Requirement already satisfied: scipy in /opt/conda/lib/python3.9/site-packages (from missingno) (1.9.1)\n",
      "Requirement already satisfied: seaborn in /opt/conda/lib/python3.9/site-packages (from missingno) (0.11.1)\n",
      "Requirement already satisfied: numpy in /opt/conda/lib/python3.9/site-packages (from missingno) (1.21.1)\n",
      "Requirement already satisfied: pyparsing!=2.0.4,!=2.1.2,!=2.1.6,>=2.0.3 in /opt/conda/lib/python3.9/site-packages (from matplotlib->missingno) (2.4.7)\n",
      "Requirement already satisfied: kiwisolver>=1.0.1 in /opt/conda/lib/python3.9/site-packages (from matplotlib->missingno) (1.4.4)\n",
      "Requirement already satisfied: python-dateutil>=2.1 in /opt/conda/lib/python3.9/site-packages (from matplotlib->missingno) (2.8.1)\n",
      "Requirement already satisfied: cycler>=0.10 in /opt/conda/lib/python3.9/site-packages (from matplotlib->missingno) (0.11.0)\n",
      "Requirement already satisfied: pillow>=6.2.0 in /opt/conda/lib/python3.9/site-packages (from matplotlib->missingno) (8.4.0)\n",
      "Requirement already satisfied: six>=1.5 in /opt/conda/lib/python3.9/site-packages (from python-dateutil>=2.1->matplotlib->missingno) (1.16.0)\n",
      "Requirement already satisfied: pandas>=0.23 in /opt/conda/lib/python3.9/site-packages (from seaborn->missingno) (1.2.4)\n",
      "Requirement already satisfied: pytz>=2017.3 in /opt/conda/lib/python3.9/site-packages (from pandas>=0.23->seaborn->missingno) (2021.1)\n",
      "Installing collected packages: missingno\n",
      "Successfully installed missingno-0.5.2\n",
      "Note: you may need to restart the kernel to use updated packages.\n"
     ]
    }
   ],
   "source": [
    "pip install missingno"
   ]
  },
  {
   "cell_type": "code",
   "execution_count": 12,
   "metadata": {},
   "outputs": [],
   "source": [
    "# Загружаем библиотеки\n",
    "import pandas as pd\n",
    "import numpy as np\n",
    "import matplotlib.pyplot as plt\n",
    "from scipy.stats import ttest_ind\n",
    "import seaborn as sns\n",
    "from scipy import stats as st\n",
    "import missingno as msno"
   ]
  },
  {
   "cell_type": "code",
   "execution_count": 13,
   "metadata": {},
   "outputs": [],
   "source": [
    "# Загружаем датафрейм\n",
    "df = pd.read_csv('/datasets/games.csv')"
   ]
  },
  {
   "cell_type": "code",
   "execution_count": 14,
   "metadata": {
    "scrolled": false
   },
   "outputs": [
    {
     "name": "stdout",
     "output_type": "stream",
     "text": [
      "<class 'pandas.core.frame.DataFrame'>\n",
      "RangeIndex: 16715 entries, 0 to 16714\n",
      "Data columns (total 11 columns):\n",
      " #   Column           Non-Null Count  Dtype  \n",
      "---  ------           --------------  -----  \n",
      " 0   Name             16713 non-null  object \n",
      " 1   Platform         16715 non-null  object \n",
      " 2   Year_of_Release  16446 non-null  float64\n",
      " 3   Genre            16713 non-null  object \n",
      " 4   NA_sales         16715 non-null  float64\n",
      " 5   EU_sales         16715 non-null  float64\n",
      " 6   JP_sales         16715 non-null  float64\n",
      " 7   Other_sales      16715 non-null  float64\n",
      " 8   Critic_Score     8137 non-null   float64\n",
      " 9   User_Score       10014 non-null  object \n",
      " 10  Rating           9949 non-null   object \n",
      "dtypes: float64(6), object(5)\n",
      "memory usage: 1.4+ MB\n"
     ]
    }
   ],
   "source": [
    "# Смотрим информацию о датафрейме\n",
    "df.info()"
   ]
  },
  {
   "cell_type": "code",
   "execution_count": 15,
   "metadata": {
    "scrolled": true
   },
   "outputs": [
    {
     "data": {
      "text/html": [
       "<div>\n",
       "<style scoped>\n",
       "    .dataframe tbody tr th:only-of-type {\n",
       "        vertical-align: middle;\n",
       "    }\n",
       "\n",
       "    .dataframe tbody tr th {\n",
       "        vertical-align: top;\n",
       "    }\n",
       "\n",
       "    .dataframe thead th {\n",
       "        text-align: right;\n",
       "    }\n",
       "</style>\n",
       "<table border=\"1\" class=\"dataframe\">\n",
       "  <thead>\n",
       "    <tr style=\"text-align: right;\">\n",
       "      <th></th>\n",
       "      <th>Name</th>\n",
       "      <th>Platform</th>\n",
       "      <th>Year_of_Release</th>\n",
       "      <th>Genre</th>\n",
       "      <th>NA_sales</th>\n",
       "      <th>EU_sales</th>\n",
       "      <th>JP_sales</th>\n",
       "      <th>Other_sales</th>\n",
       "      <th>Critic_Score</th>\n",
       "      <th>User_Score</th>\n",
       "      <th>Rating</th>\n",
       "    </tr>\n",
       "  </thead>\n",
       "  <tbody>\n",
       "    <tr>\n",
       "      <th>0</th>\n",
       "      <td>Wii Sports</td>\n",
       "      <td>Wii</td>\n",
       "      <td>2006.0</td>\n",
       "      <td>Sports</td>\n",
       "      <td>41.36</td>\n",
       "      <td>28.96</td>\n",
       "      <td>3.77</td>\n",
       "      <td>8.45</td>\n",
       "      <td>76.0</td>\n",
       "      <td>8</td>\n",
       "      <td>E</td>\n",
       "    </tr>\n",
       "    <tr>\n",
       "      <th>1</th>\n",
       "      <td>Super Mario Bros.</td>\n",
       "      <td>NES</td>\n",
       "      <td>1985.0</td>\n",
       "      <td>Platform</td>\n",
       "      <td>29.08</td>\n",
       "      <td>3.58</td>\n",
       "      <td>6.81</td>\n",
       "      <td>0.77</td>\n",
       "      <td>NaN</td>\n",
       "      <td>NaN</td>\n",
       "      <td>NaN</td>\n",
       "    </tr>\n",
       "    <tr>\n",
       "      <th>2</th>\n",
       "      <td>Mario Kart Wii</td>\n",
       "      <td>Wii</td>\n",
       "      <td>2008.0</td>\n",
       "      <td>Racing</td>\n",
       "      <td>15.68</td>\n",
       "      <td>12.76</td>\n",
       "      <td>3.79</td>\n",
       "      <td>3.29</td>\n",
       "      <td>82.0</td>\n",
       "      <td>8.3</td>\n",
       "      <td>E</td>\n",
       "    </tr>\n",
       "    <tr>\n",
       "      <th>3</th>\n",
       "      <td>Wii Sports Resort</td>\n",
       "      <td>Wii</td>\n",
       "      <td>2009.0</td>\n",
       "      <td>Sports</td>\n",
       "      <td>15.61</td>\n",
       "      <td>10.93</td>\n",
       "      <td>3.28</td>\n",
       "      <td>2.95</td>\n",
       "      <td>80.0</td>\n",
       "      <td>8</td>\n",
       "      <td>E</td>\n",
       "    </tr>\n",
       "    <tr>\n",
       "      <th>4</th>\n",
       "      <td>Pokemon Red/Pokemon Blue</td>\n",
       "      <td>GB</td>\n",
       "      <td>1996.0</td>\n",
       "      <td>Role-Playing</td>\n",
       "      <td>11.27</td>\n",
       "      <td>8.89</td>\n",
       "      <td>10.22</td>\n",
       "      <td>1.00</td>\n",
       "      <td>NaN</td>\n",
       "      <td>NaN</td>\n",
       "      <td>NaN</td>\n",
       "    </tr>\n",
       "    <tr>\n",
       "      <th>5</th>\n",
       "      <td>Tetris</td>\n",
       "      <td>GB</td>\n",
       "      <td>1989.0</td>\n",
       "      <td>Puzzle</td>\n",
       "      <td>23.20</td>\n",
       "      <td>2.26</td>\n",
       "      <td>4.22</td>\n",
       "      <td>0.58</td>\n",
       "      <td>NaN</td>\n",
       "      <td>NaN</td>\n",
       "      <td>NaN</td>\n",
       "    </tr>\n",
       "    <tr>\n",
       "      <th>6</th>\n",
       "      <td>New Super Mario Bros.</td>\n",
       "      <td>DS</td>\n",
       "      <td>2006.0</td>\n",
       "      <td>Platform</td>\n",
       "      <td>11.28</td>\n",
       "      <td>9.14</td>\n",
       "      <td>6.50</td>\n",
       "      <td>2.88</td>\n",
       "      <td>89.0</td>\n",
       "      <td>8.5</td>\n",
       "      <td>E</td>\n",
       "    </tr>\n",
       "    <tr>\n",
       "      <th>7</th>\n",
       "      <td>Wii Play</td>\n",
       "      <td>Wii</td>\n",
       "      <td>2006.0</td>\n",
       "      <td>Misc</td>\n",
       "      <td>13.96</td>\n",
       "      <td>9.18</td>\n",
       "      <td>2.93</td>\n",
       "      <td>2.84</td>\n",
       "      <td>58.0</td>\n",
       "      <td>6.6</td>\n",
       "      <td>E</td>\n",
       "    </tr>\n",
       "    <tr>\n",
       "      <th>8</th>\n",
       "      <td>New Super Mario Bros. Wii</td>\n",
       "      <td>Wii</td>\n",
       "      <td>2009.0</td>\n",
       "      <td>Platform</td>\n",
       "      <td>14.44</td>\n",
       "      <td>6.94</td>\n",
       "      <td>4.70</td>\n",
       "      <td>2.24</td>\n",
       "      <td>87.0</td>\n",
       "      <td>8.4</td>\n",
       "      <td>E</td>\n",
       "    </tr>\n",
       "    <tr>\n",
       "      <th>9</th>\n",
       "      <td>Duck Hunt</td>\n",
       "      <td>NES</td>\n",
       "      <td>1984.0</td>\n",
       "      <td>Shooter</td>\n",
       "      <td>26.93</td>\n",
       "      <td>0.63</td>\n",
       "      <td>0.28</td>\n",
       "      <td>0.47</td>\n",
       "      <td>NaN</td>\n",
       "      <td>NaN</td>\n",
       "      <td>NaN</td>\n",
       "    </tr>\n",
       "  </tbody>\n",
       "</table>\n",
       "</div>"
      ],
      "text/plain": [
       "                        Name Platform  Year_of_Release         Genre  \\\n",
       "0                 Wii Sports      Wii           2006.0        Sports   \n",
       "1          Super Mario Bros.      NES           1985.0      Platform   \n",
       "2             Mario Kart Wii      Wii           2008.0        Racing   \n",
       "3          Wii Sports Resort      Wii           2009.0        Sports   \n",
       "4   Pokemon Red/Pokemon Blue       GB           1996.0  Role-Playing   \n",
       "5                     Tetris       GB           1989.0        Puzzle   \n",
       "6      New Super Mario Bros.       DS           2006.0      Platform   \n",
       "7                   Wii Play      Wii           2006.0          Misc   \n",
       "8  New Super Mario Bros. Wii      Wii           2009.0      Platform   \n",
       "9                  Duck Hunt      NES           1984.0       Shooter   \n",
       "\n",
       "   NA_sales  EU_sales  JP_sales  Other_sales  Critic_Score User_Score Rating  \n",
       "0     41.36     28.96      3.77         8.45          76.0          8      E  \n",
       "1     29.08      3.58      6.81         0.77           NaN        NaN    NaN  \n",
       "2     15.68     12.76      3.79         3.29          82.0        8.3      E  \n",
       "3     15.61     10.93      3.28         2.95          80.0          8      E  \n",
       "4     11.27      8.89     10.22         1.00           NaN        NaN    NaN  \n",
       "5     23.20      2.26      4.22         0.58           NaN        NaN    NaN  \n",
       "6     11.28      9.14      6.50         2.88          89.0        8.5      E  \n",
       "7     13.96      9.18      2.93         2.84          58.0        6.6      E  \n",
       "8     14.44      6.94      4.70         2.24          87.0        8.4      E  \n",
       "9     26.93      0.63      0.28         0.47           NaN        NaN    NaN  "
      ]
     },
     "execution_count": 15,
     "metadata": {},
     "output_type": "execute_result"
    }
   ],
   "source": [
    "#Загрузим первые 10 строк таблицы\n",
    "df.head (10)"
   ]
  },
  {
   "cell_type": "markdown",
   "metadata": {},
   "source": [
    "<div class=\"alert alert-block alert-success\">\n",
    " \n",
    "### Комментарий ревьюера\n",
    "    \n",
    "#### Успех\n",
    "\n",
    "Проект сохранен в переменную и получена первичная информация о данных. Здорово"
   ]
  },
  {
   "cell_type": "code",
   "execution_count": 16,
   "metadata": {
    "scrolled": true
   },
   "outputs": [
    {
     "data": {
      "text/html": [
       "<div>\n",
       "<style scoped>\n",
       "    .dataframe tbody tr th:only-of-type {\n",
       "        vertical-align: middle;\n",
       "    }\n",
       "\n",
       "    .dataframe tbody tr th {\n",
       "        vertical-align: top;\n",
       "    }\n",
       "\n",
       "    .dataframe thead th {\n",
       "        text-align: right;\n",
       "    }\n",
       "</style>\n",
       "<table border=\"1\" class=\"dataframe\">\n",
       "  <thead>\n",
       "    <tr style=\"text-align: right;\">\n",
       "      <th></th>\n",
       "      <th>Year_of_Release</th>\n",
       "      <th>NA_sales</th>\n",
       "      <th>EU_sales</th>\n",
       "      <th>JP_sales</th>\n",
       "      <th>Other_sales</th>\n",
       "      <th>Critic_Score</th>\n",
       "    </tr>\n",
       "  </thead>\n",
       "  <tbody>\n",
       "    <tr>\n",
       "      <th>count</th>\n",
       "      <td>16446.000000</td>\n",
       "      <td>16715.000000</td>\n",
       "      <td>16715.000000</td>\n",
       "      <td>16715.000000</td>\n",
       "      <td>16715.000000</td>\n",
       "      <td>8137.000000</td>\n",
       "    </tr>\n",
       "    <tr>\n",
       "      <th>mean</th>\n",
       "      <td>2006.484616</td>\n",
       "      <td>0.263377</td>\n",
       "      <td>0.145060</td>\n",
       "      <td>0.077617</td>\n",
       "      <td>0.047342</td>\n",
       "      <td>68.967679</td>\n",
       "    </tr>\n",
       "    <tr>\n",
       "      <th>std</th>\n",
       "      <td>5.877050</td>\n",
       "      <td>0.813604</td>\n",
       "      <td>0.503339</td>\n",
       "      <td>0.308853</td>\n",
       "      <td>0.186731</td>\n",
       "      <td>13.938165</td>\n",
       "    </tr>\n",
       "    <tr>\n",
       "      <th>min</th>\n",
       "      <td>1980.000000</td>\n",
       "      <td>0.000000</td>\n",
       "      <td>0.000000</td>\n",
       "      <td>0.000000</td>\n",
       "      <td>0.000000</td>\n",
       "      <td>13.000000</td>\n",
       "    </tr>\n",
       "    <tr>\n",
       "      <th>25%</th>\n",
       "      <td>2003.000000</td>\n",
       "      <td>0.000000</td>\n",
       "      <td>0.000000</td>\n",
       "      <td>0.000000</td>\n",
       "      <td>0.000000</td>\n",
       "      <td>60.000000</td>\n",
       "    </tr>\n",
       "    <tr>\n",
       "      <th>50%</th>\n",
       "      <td>2007.000000</td>\n",
       "      <td>0.080000</td>\n",
       "      <td>0.020000</td>\n",
       "      <td>0.000000</td>\n",
       "      <td>0.010000</td>\n",
       "      <td>71.000000</td>\n",
       "    </tr>\n",
       "    <tr>\n",
       "      <th>75%</th>\n",
       "      <td>2010.000000</td>\n",
       "      <td>0.240000</td>\n",
       "      <td>0.110000</td>\n",
       "      <td>0.040000</td>\n",
       "      <td>0.030000</td>\n",
       "      <td>79.000000</td>\n",
       "    </tr>\n",
       "    <tr>\n",
       "      <th>max</th>\n",
       "      <td>2016.000000</td>\n",
       "      <td>41.360000</td>\n",
       "      <td>28.960000</td>\n",
       "      <td>10.220000</td>\n",
       "      <td>10.570000</td>\n",
       "      <td>98.000000</td>\n",
       "    </tr>\n",
       "  </tbody>\n",
       "</table>\n",
       "</div>"
      ],
      "text/plain": [
       "       Year_of_Release      NA_sales      EU_sales      JP_sales  \\\n",
       "count     16446.000000  16715.000000  16715.000000  16715.000000   \n",
       "mean       2006.484616      0.263377      0.145060      0.077617   \n",
       "std           5.877050      0.813604      0.503339      0.308853   \n",
       "min        1980.000000      0.000000      0.000000      0.000000   \n",
       "25%        2003.000000      0.000000      0.000000      0.000000   \n",
       "50%        2007.000000      0.080000      0.020000      0.000000   \n",
       "75%        2010.000000      0.240000      0.110000      0.040000   \n",
       "max        2016.000000     41.360000     28.960000     10.220000   \n",
       "\n",
       "        Other_sales  Critic_Score  \n",
       "count  16715.000000   8137.000000  \n",
       "mean       0.047342     68.967679  \n",
       "std        0.186731     13.938165  \n",
       "min        0.000000     13.000000  \n",
       "25%        0.000000     60.000000  \n",
       "50%        0.010000     71.000000  \n",
       "75%        0.030000     79.000000  \n",
       "max       10.570000     98.000000  "
      ]
     },
     "execution_count": 16,
     "metadata": {},
     "output_type": "execute_result"
    }
   ],
   "source": [
    "# Посмотрим на значения\n",
    "df.describe()"
   ]
  },
  {
   "cell_type": "code",
   "execution_count": 17,
   "metadata": {},
   "outputs": [
    {
     "data": {
      "text/plain": [
       "Name                  2\n",
       "Platform              0\n",
       "Year_of_Release     269\n",
       "Genre                 2\n",
       "NA_sales              0\n",
       "EU_sales              0\n",
       "JP_sales              0\n",
       "Other_sales           0\n",
       "Critic_Score       8578\n",
       "User_Score         6701\n",
       "Rating             6766\n",
       "dtype: int64"
      ]
     },
     "execution_count": 17,
     "metadata": {},
     "output_type": "execute_result"
    }
   ],
   "source": [
    "# Смотрим на пропуски\n",
    "df.isna().sum()"
   ]
  },
  {
   "cell_type": "code",
   "execution_count": 18,
   "metadata": {},
   "outputs": [
    {
     "data": {
      "text/plain": [
       "<AxesSubplot:>"
      ]
     },
     "execution_count": 18,
     "metadata": {},
     "output_type": "execute_result"
    },
    {
     "data": {
      "image/png": "[encoded data removed]",
      "text/plain": [
       "<Figure size 1800x720 with 3 Axes>"
      ]
     },
     "metadata": {
      "needs_background": "light"
     },
     "output_type": "display_data"
    }
   ],
   "source": [
    "msno.bar(df)"
   ]
  },
  {
   "cell_type": "markdown",
   "metadata": {},
   "source": [
    "<div class=\"alert alert-block alert-warning\">\n",
    " \n",
    "### Комментарий ревьюера\n",
    "    \n",
    "#### Совет\n",
    "\n",
    "Для визуализации пропусков рекомендую использовать  https://russianblogs.com/article/5001266235/"
   ]
  },
  {
   "cell_type": "markdown",
   "metadata": {},
   "source": [
    "<div class=\"alert alert-block alert-info\">\n",
    "  \n",
    "# Коментария студента ver.2 \n",
    "    \n",
    "Спасибо прикольно, я воспользовался!! выше установил и добавил в работу\n",
    "    \n",
    "\n",
    "</div>"
   ]
  },
  {
   "cell_type": "markdown",
   "metadata": {},
   "source": [
    "Вывод: Здесь первое что бросается в глаза:\n",
    "1) Пропуски\n",
    "2) Year_of_Release - не в формате даты\n",
    "3) User_Score, Rating - вроде как, не тот формат.\n",
    "4) Регистр названий столбцов"
   ]
  },
  {
   "cell_type": "markdown",
   "metadata": {},
   "source": [
    "### Подготовьте данные"
   ]
  },
  {
   "cell_type": "markdown",
   "metadata": {},
   "source": [
    "1) Замените названия столбцов (приведите к нижнему регистру);\n",
    "2) Преобразуйте данные в нужные типы. Опишите, в каких столбцах заменили тип данных и почему;\n",
    "3) Обработайте пропуски при необходимости:\n",
    "- Объясните, почему заполнили пропуски определённым образом или почему не стали это делать;\n",
    "- Опишите причины, которые могли привести к пропускам;\n",
    "- Обратите внимание на аббревиатуру 'tbd' в столбце с оценкой пользователей. Отдельно разберите это значение и опишите, как его обработать;\n",
    "4) Посчитайте суммарные продажи во всех регионах и запишите их в отдельный столбец."
   ]
  },
  {
   "cell_type": "code",
   "execution_count": 7,
   "metadata": {},
   "outputs": [],
   "source": [
    "# Приводим к нижнему регистру\n",
    "df.columns = df.columns.str.lower()"
   ]
  },
  {
   "cell_type": "markdown",
   "metadata": {},
   "source": [
    "<div class=\"alert alert-block alert-success\">\n",
    " \n",
    "### Комментарий ревьюера\n",
    "    \n",
    "#### Успех\n",
    "\n",
    "Использован удобный метод приведения к нижнему регистру. "
   ]
  },
  {
   "cell_type": "code",
   "execution_count": 8,
   "metadata": {},
   "outputs": [
    {
     "data": {
      "text/plain": [
       "Index(['name', 'platform', 'year_of_release', 'genre', 'na_sales', 'eu_sales',\n",
       "       'jp_sales', 'other_sales', 'critic_score', 'user_score', 'rating'],\n",
       "      dtype='object')"
      ]
     },
     "execution_count": 8,
     "metadata": {},
     "output_type": "execute_result"
    }
   ],
   "source": [
    "# Проверяем\n",
    "df.columns"
   ]
  },
  {
   "cell_type": "code",
   "execution_count": 9,
   "metadata": {},
   "outputs": [],
   "source": [
    "# Начнем работу с пропусками для столбца \"name\"\n",
    "df = df.dropna(subset = ['name']) # т.к. пропусков всего 2 они не повлияют как-то на выборку, вероятно выгрузили неправильно"
   ]
  },
  {
   "cell_type": "markdown",
   "metadata": {},
   "source": [
    "<div class=\"alert alert-block alert-success\">\n",
    " \n",
    "### Комментарий ревьюера\n",
    "    \n",
    "#### Успех\n",
    "\n",
    "В данном случае пропусков мало и логично избавиться от них. "
   ]
  },
  {
   "cell_type": "code",
   "execution_count": 10,
   "metadata": {},
   "outputs": [
    {
     "name": "stdout",
     "output_type": "stream",
     "text": [
      "Процентное соотношение пропущенных значений: 1.6%\n"
     ]
    }
   ],
   "source": [
    "# Далее посмотрим на столбец с годом, необходимо понять какое у него процентное соотношение ко всей выборке\n",
    "miss_year = df.year_of_release.isna().sum() / len(df)\n",
    "print(f\"Процентное соотношение пропущенных значений: {miss_year:.1%}\")"
   ]
  },
  {
   "cell_type": "code",
   "execution_count": 11,
   "metadata": {},
   "outputs": [],
   "source": [
    "# Исходя из того, что пропущенных значений менее 2%, а пропуски не заполнить медианным значением, просто удаляем\n",
    "df = df.dropna(subset = ['year_of_release'])"
   ]
  },
  {
   "cell_type": "markdown",
   "metadata": {},
   "source": [
    "<div class=\"alert alert-block alert-success\">\n",
    " \n",
    "### Комментарий ревьюера\n",
    "    \n",
    "#### Успех\n",
    "\n",
    "В случае с годом выпуска тоже пропусков достаточно мало и проще не терять время и сразу убрать лишнее"
   ]
  },
  {
   "cell_type": "code",
   "execution_count": 12,
   "metadata": {},
   "outputs": [
    {
     "name": "stdout",
     "output_type": "stream",
     "text": [
      "Процентное соотношение пропущенных значений в столбце critic_score: 51.5%\n",
      "Процентное соотношение пропущенных значений в столбце user_score: 40.2%\n",
      "Процентное соотношение пропущенных значений в столбце rating : 40.6%\n"
     ]
    }
   ],
   "source": [
    "# Посмотрим на процентное соотношение процущенных значений последних столбцов\n",
    "miss_critic_score = df.critic_score.isna().sum() / len(df)\n",
    "print(f\"Процентное соотношение пропущенных значений в столбце critic_score: {miss_critic_score:.1%}\")\n",
    "miss_user_score = df.user_score.isna().sum() / len(df)\n",
    "print(f\"Процентное соотношение пропущенных значений в столбце user_score: {miss_user_score:.1%}\")\n",
    "miss_rating = df.rating.isna().sum() / len(df)\n",
    "print(f\"Процентное соотношение пропущенных значений в столбце rating : {miss_rating:.1%}\")"
   ]
  },
  {
   "cell_type": "code",
   "execution_count": 13,
   "metadata": {},
   "outputs": [
    {
     "data": {
      "text/plain": [
       "array(['8', nan, '8.3', '8.5', '6.6', '8.4', '8.6', '7.7', '6.3', '7.4',\n",
       "       '8.2', '9', '7.9', '8.1', '8.7', '7.1', '3.4', '5.3', '4.8', '3.2',\n",
       "       '8.9', '6.4', '7.8', '7.5', '2.6', '7.2', '9.2', '7', '7.3', '4.3',\n",
       "       '7.6', '5.7', '5', '9.1', '6.5', 'tbd', '8.8', '6.9', '9.4', '6.8',\n",
       "       '6.1', '6.7', '5.4', '4', '4.9', '4.5', '9.3', '6.2', '4.2', '6',\n",
       "       '3.7', '4.1', '5.8', '5.6', '5.5', '4.4', '4.6', '5.9', '3.9',\n",
       "       '3.1', '2.9', '5.2', '3.3', '4.7', '5.1', '3.5', '2.5', '1.9', '3',\n",
       "       '2.7', '2.2', '2', '9.5', '2.1', '3.6', '2.8', '1.8', '3.8', '0',\n",
       "       '1.6', '9.6', '2.4', '1.7', '1.1', '0.3', '1.5', '0.7', '1.2',\n",
       "       '2.3', '0.5', '1.3', '0.2', '0.6', '1.4', '0.9', '1', '9.7'],\n",
       "      dtype=object)"
      ]
     },
     "execution_count": 13,
     "metadata": {},
     "output_type": "execute_result"
    }
   ],
   "source": [
    "# посмотрим на уникальные значения рейтинга пользователей\n",
    "df.user_score.unique()"
   ]
  },
  {
   "cell_type": "markdown",
   "metadata": {},
   "source": [
    "И так, количество пропуков очень большое - удалять нельзя. Т.к. рейтинг цифрой можно подставить значение 0. Почему такое возможно - были неправильно выгружены данные, произошел сбой, или если пресмотрется есть аббревиатура \"TBD\" которая расшифровывается как \"To be determined\" или \"Предстоит определить\". А значит мы можем смело считать фильмы с пропусками как, фильмы с TBD"
   ]
  },
  {
   "cell_type": "markdown",
   "metadata": {},
   "source": [
    "<div class=\"alert alert-block alert-success\">\n",
    " \n",
    "### Комментарий ревьюера\n",
    "    \n",
    "#### Успех\n",
    "\n",
    "А по оценкам оптимально пропуски заменить не получится и лучше всего оставить их как есть или подставить заглушку. "
   ]
  },
  {
   "cell_type": "code",
   "execution_count": 14,
   "metadata": {},
   "outputs": [],
   "source": [
    "# Замена 'tbd' на np.nan для унификации отсутствующих значений\n",
    "df['user_score'] = df['user_score'].replace('tbd', np.nan)"
   ]
  },
  {
   "cell_type": "code",
   "execution_count": 15,
   "metadata": {},
   "outputs": [],
   "source": [
    "# Замена np.nan на 0\n",
    "df['user_score'] = df['user_score'].fillna(0)"
   ]
  },
  {
   "cell_type": "code",
   "execution_count": 16,
   "metadata": {},
   "outputs": [],
   "source": [
    "# Замена тиба данных столбца user_score\n",
    "df['user_score'] = df['user_score'].astype('float')"
   ]
  },
  {
   "cell_type": "markdown",
   "metadata": {},
   "source": [
    "Ситуация с critic_score, анологичная. Меняем значения на 0 (будем считать, что эти фильмы - юзеры не оценили"
   ]
  },
  {
   "cell_type": "code",
   "execution_count": 17,
   "metadata": {},
   "outputs": [],
   "source": [
    "# Заменяем рейтинг критиков\n",
    "df.critic_score = df.critic_score.fillna(0)"
   ]
  },
  {
   "cell_type": "code",
   "execution_count": 18,
   "metadata": {
    "scrolled": true
   },
   "outputs": [
    {
     "data": {
      "text/plain": [
       "array(['E', nan, 'M', 'T', 'E10+', 'K-A', 'AO', 'EC', 'RP'], dtype=object)"
      ]
     },
     "execution_count": 18,
     "metadata": {},
     "output_type": "execute_result"
    }
   ],
   "source": [
    "# Просмотрим уникальные значения колонки [rating]\n",
    "df.rating.unique()"
   ]
  },
  {
   "cell_type": "code",
   "execution_count": 19,
   "metadata": {},
   "outputs": [
    {
     "data": {
      "text/html": [
       "<div>\n",
       "<style scoped>\n",
       "    .dataframe tbody tr th:only-of-type {\n",
       "        vertical-align: middle;\n",
       "    }\n",
       "\n",
       "    .dataframe tbody tr th {\n",
       "        vertical-align: top;\n",
       "    }\n",
       "\n",
       "    .dataframe thead th {\n",
       "        text-align: right;\n",
       "    }\n",
       "</style>\n",
       "<table border=\"1\" class=\"dataframe\">\n",
       "  <thead>\n",
       "    <tr style=\"text-align: right;\">\n",
       "      <th></th>\n",
       "      <th>name</th>\n",
       "      <th>platform</th>\n",
       "      <th>year_of_release</th>\n",
       "      <th>genre</th>\n",
       "      <th>na_sales</th>\n",
       "      <th>eu_sales</th>\n",
       "      <th>jp_sales</th>\n",
       "      <th>other_sales</th>\n",
       "      <th>critic_score</th>\n",
       "      <th>user_score</th>\n",
       "      <th>rating</th>\n",
       "    </tr>\n",
       "  </thead>\n",
       "  <tbody>\n",
       "    <tr>\n",
       "      <th>1</th>\n",
       "      <td>Super Mario Bros.</td>\n",
       "      <td>NES</td>\n",
       "      <td>1985.0</td>\n",
       "      <td>Platform</td>\n",
       "      <td>29.08</td>\n",
       "      <td>3.58</td>\n",
       "      <td>6.81</td>\n",
       "      <td>0.77</td>\n",
       "      <td>0.0</td>\n",
       "      <td>0.0</td>\n",
       "      <td>NaN</td>\n",
       "    </tr>\n",
       "    <tr>\n",
       "      <th>4</th>\n",
       "      <td>Pokemon Red/Pokemon Blue</td>\n",
       "      <td>GB</td>\n",
       "      <td>1996.0</td>\n",
       "      <td>Role-Playing</td>\n",
       "      <td>11.27</td>\n",
       "      <td>8.89</td>\n",
       "      <td>10.22</td>\n",
       "      <td>1.00</td>\n",
       "      <td>0.0</td>\n",
       "      <td>0.0</td>\n",
       "      <td>NaN</td>\n",
       "    </tr>\n",
       "    <tr>\n",
       "      <th>5</th>\n",
       "      <td>Tetris</td>\n",
       "      <td>GB</td>\n",
       "      <td>1989.0</td>\n",
       "      <td>Puzzle</td>\n",
       "      <td>23.20</td>\n",
       "      <td>2.26</td>\n",
       "      <td>4.22</td>\n",
       "      <td>0.58</td>\n",
       "      <td>0.0</td>\n",
       "      <td>0.0</td>\n",
       "      <td>NaN</td>\n",
       "    </tr>\n",
       "    <tr>\n",
       "      <th>9</th>\n",
       "      <td>Duck Hunt</td>\n",
       "      <td>NES</td>\n",
       "      <td>1984.0</td>\n",
       "      <td>Shooter</td>\n",
       "      <td>26.93</td>\n",
       "      <td>0.63</td>\n",
       "      <td>0.28</td>\n",
       "      <td>0.47</td>\n",
       "      <td>0.0</td>\n",
       "      <td>0.0</td>\n",
       "      <td>NaN</td>\n",
       "    </tr>\n",
       "    <tr>\n",
       "      <th>10</th>\n",
       "      <td>Nintendogs</td>\n",
       "      <td>DS</td>\n",
       "      <td>2005.0</td>\n",
       "      <td>Simulation</td>\n",
       "      <td>9.05</td>\n",
       "      <td>10.95</td>\n",
       "      <td>1.93</td>\n",
       "      <td>2.74</td>\n",
       "      <td>0.0</td>\n",
       "      <td>0.0</td>\n",
       "      <td>NaN</td>\n",
       "    </tr>\n",
       "    <tr>\n",
       "      <th>...</th>\n",
       "      <td>...</td>\n",
       "      <td>...</td>\n",
       "      <td>...</td>\n",
       "      <td>...</td>\n",
       "      <td>...</td>\n",
       "      <td>...</td>\n",
       "      <td>...</td>\n",
       "      <td>...</td>\n",
       "      <td>...</td>\n",
       "      <td>...</td>\n",
       "      <td>...</td>\n",
       "    </tr>\n",
       "    <tr>\n",
       "      <th>16710</th>\n",
       "      <td>Samurai Warriors: Sanada Maru</td>\n",
       "      <td>PS3</td>\n",
       "      <td>2016.0</td>\n",
       "      <td>Action</td>\n",
       "      <td>0.00</td>\n",
       "      <td>0.00</td>\n",
       "      <td>0.01</td>\n",
       "      <td>0.00</td>\n",
       "      <td>0.0</td>\n",
       "      <td>0.0</td>\n",
       "      <td>NaN</td>\n",
       "    </tr>\n",
       "    <tr>\n",
       "      <th>16711</th>\n",
       "      <td>LMA Manager 2007</td>\n",
       "      <td>X360</td>\n",
       "      <td>2006.0</td>\n",
       "      <td>Sports</td>\n",
       "      <td>0.00</td>\n",
       "      <td>0.01</td>\n",
       "      <td>0.00</td>\n",
       "      <td>0.00</td>\n",
       "      <td>0.0</td>\n",
       "      <td>0.0</td>\n",
       "      <td>NaN</td>\n",
       "    </tr>\n",
       "    <tr>\n",
       "      <th>16712</th>\n",
       "      <td>Haitaka no Psychedelica</td>\n",
       "      <td>PSV</td>\n",
       "      <td>2016.0</td>\n",
       "      <td>Adventure</td>\n",
       "      <td>0.00</td>\n",
       "      <td>0.00</td>\n",
       "      <td>0.01</td>\n",
       "      <td>0.00</td>\n",
       "      <td>0.0</td>\n",
       "      <td>0.0</td>\n",
       "      <td>NaN</td>\n",
       "    </tr>\n",
       "    <tr>\n",
       "      <th>16713</th>\n",
       "      <td>Spirits &amp; Spells</td>\n",
       "      <td>GBA</td>\n",
       "      <td>2003.0</td>\n",
       "      <td>Platform</td>\n",
       "      <td>0.01</td>\n",
       "      <td>0.00</td>\n",
       "      <td>0.00</td>\n",
       "      <td>0.00</td>\n",
       "      <td>0.0</td>\n",
       "      <td>0.0</td>\n",
       "      <td>NaN</td>\n",
       "    </tr>\n",
       "    <tr>\n",
       "      <th>16714</th>\n",
       "      <td>Winning Post 8 2016</td>\n",
       "      <td>PSV</td>\n",
       "      <td>2016.0</td>\n",
       "      <td>Simulation</td>\n",
       "      <td>0.00</td>\n",
       "      <td>0.00</td>\n",
       "      <td>0.01</td>\n",
       "      <td>0.00</td>\n",
       "      <td>0.0</td>\n",
       "      <td>0.0</td>\n",
       "      <td>NaN</td>\n",
       "    </tr>\n",
       "  </tbody>\n",
       "</table>\n",
       "<p>6676 rows × 11 columns</p>\n",
       "</div>"
      ],
      "text/plain": [
       "                                name platform  year_of_release         genre  \\\n",
       "1                  Super Mario Bros.      NES           1985.0      Platform   \n",
       "4           Pokemon Red/Pokemon Blue       GB           1996.0  Role-Playing   \n",
       "5                             Tetris       GB           1989.0        Puzzle   \n",
       "9                          Duck Hunt      NES           1984.0       Shooter   \n",
       "10                        Nintendogs       DS           2005.0    Simulation   \n",
       "...                              ...      ...              ...           ...   \n",
       "16710  Samurai Warriors: Sanada Maru      PS3           2016.0        Action   \n",
       "16711               LMA Manager 2007     X360           2006.0        Sports   \n",
       "16712        Haitaka no Psychedelica      PSV           2016.0     Adventure   \n",
       "16713               Spirits & Spells      GBA           2003.0      Platform   \n",
       "16714            Winning Post 8 2016      PSV           2016.0    Simulation   \n",
       "\n",
       "       na_sales  eu_sales  jp_sales  other_sales  critic_score  user_score  \\\n",
       "1         29.08      3.58      6.81         0.77           0.0         0.0   \n",
       "4         11.27      8.89     10.22         1.00           0.0         0.0   \n",
       "5         23.20      2.26      4.22         0.58           0.0         0.0   \n",
       "9         26.93      0.63      0.28         0.47           0.0         0.0   \n",
       "10         9.05     10.95      1.93         2.74           0.0         0.0   \n",
       "...         ...       ...       ...          ...           ...         ...   \n",
       "16710      0.00      0.00      0.01         0.00           0.0         0.0   \n",
       "16711      0.00      0.01      0.00         0.00           0.0         0.0   \n",
       "16712      0.00      0.00      0.01         0.00           0.0         0.0   \n",
       "16713      0.01      0.00      0.00         0.00           0.0         0.0   \n",
       "16714      0.00      0.00      0.01         0.00           0.0         0.0   \n",
       "\n",
       "      rating  \n",
       "1        NaN  \n",
       "4        NaN  \n",
       "5        NaN  \n",
       "9        NaN  \n",
       "10       NaN  \n",
       "...      ...  \n",
       "16710    NaN  \n",
       "16711    NaN  \n",
       "16712    NaN  \n",
       "16713    NaN  \n",
       "16714    NaN  \n",
       "\n",
       "[6676 rows x 11 columns]"
      ]
     },
     "execution_count": 19,
     "metadata": {},
     "output_type": "execute_result"
    }
   ],
   "source": [
    "# Посмтрим, что за игры хранятся под значением nan\n",
    "nan_in_rating = df[df['rating'].isna()]\n",
    "nan_in_rating"
   ]
  },
  {
   "cell_type": "markdown",
   "metadata": {},
   "source": [
    "Я залез на официальный сайт https://www.esrb.org/, где прописаны рейтинги всех игр и по поиску посмотрел - все игры имеюют разный рейтинг, это проблема с выгрузкой. Поэтому, заменим эти значнеия на \"U\" - unknown. \n",
    "Дополнительно видно, что в таблице указан только ГОД, поэтому приведем в формат year_of_release"
   ]
  },
  {
   "cell_type": "code",
   "execution_count": 20,
   "metadata": {},
   "outputs": [],
   "source": [
    "# Меняем рейтинг nan на U\n",
    "df['rating'] = df['rating'].fillna('U')"
   ]
  },
  {
   "cell_type": "markdown",
   "metadata": {},
   "source": [
    "<div class=\"alert alert-block alert-success\">\n",
    " \n",
    "### Комментарий ревьюера\n",
    "    \n",
    "#### Успех\n",
    "\n",
    "Заглушка это хорошее решение в данном случае"
   ]
  },
  {
   "cell_type": "code",
   "execution_count": 21,
   "metadata": {},
   "outputs": [],
   "source": [
    "# Меняем тип данных в стобце с датами\n",
    "df['year_of_release'] = pd.to_datetime(df['year_of_release'], format = '%Y')"
   ]
  },
  {
   "cell_type": "code",
   "execution_count": 22,
   "metadata": {},
   "outputs": [],
   "source": [
    "# Посчитаем сумарные продажи и сохраним в отдельный стобец\n",
    "df['total_sales'] = df.na_sales + df.eu_sales + df.jp_sales + df.other_sales"
   ]
  },
  {
   "cell_type": "markdown",
   "metadata": {},
   "source": [
    "<div class=\"alert alert-block alert-warning\">\n",
    " \n",
    "### Комментарий ревьюера\n",
    "    \n",
    "#### Совет\n",
    "\n",
    "А здесь еще есть такой метод `df['x'] = df[['a', 'b', 'c']].sum(axis=1)`"
   ]
  },
  {
   "cell_type": "code",
   "execution_count": 23,
   "metadata": {},
   "outputs": [
    {
     "data": {
      "text/html": [
       "<div>\n",
       "<style scoped>\n",
       "    .dataframe tbody tr th:only-of-type {\n",
       "        vertical-align: middle;\n",
       "    }\n",
       "\n",
       "    .dataframe tbody tr th {\n",
       "        vertical-align: top;\n",
       "    }\n",
       "\n",
       "    .dataframe thead th {\n",
       "        text-align: right;\n",
       "    }\n",
       "</style>\n",
       "<table border=\"1\" class=\"dataframe\">\n",
       "  <thead>\n",
       "    <tr style=\"text-align: right;\">\n",
       "      <th></th>\n",
       "      <th>name</th>\n",
       "      <th>platform</th>\n",
       "      <th>year_of_release</th>\n",
       "      <th>genre</th>\n",
       "      <th>na_sales</th>\n",
       "      <th>eu_sales</th>\n",
       "      <th>jp_sales</th>\n",
       "      <th>other_sales</th>\n",
       "      <th>critic_score</th>\n",
       "      <th>user_score</th>\n",
       "      <th>rating</th>\n",
       "      <th>total_sales</th>\n",
       "    </tr>\n",
       "  </thead>\n",
       "  <tbody>\n",
       "    <tr>\n",
       "      <th>0</th>\n",
       "      <td>Wii Sports</td>\n",
       "      <td>Wii</td>\n",
       "      <td>2006-01-01</td>\n",
       "      <td>Sports</td>\n",
       "      <td>41.36</td>\n",
       "      <td>28.96</td>\n",
       "      <td>3.77</td>\n",
       "      <td>8.45</td>\n",
       "      <td>76.0</td>\n",
       "      <td>8.0</td>\n",
       "      <td>E</td>\n",
       "      <td>82.54</td>\n",
       "    </tr>\n",
       "    <tr>\n",
       "      <th>1</th>\n",
       "      <td>Super Mario Bros.</td>\n",
       "      <td>NES</td>\n",
       "      <td>1985-01-01</td>\n",
       "      <td>Platform</td>\n",
       "      <td>29.08</td>\n",
       "      <td>3.58</td>\n",
       "      <td>6.81</td>\n",
       "      <td>0.77</td>\n",
       "      <td>0.0</td>\n",
       "      <td>0.0</td>\n",
       "      <td>U</td>\n",
       "      <td>40.24</td>\n",
       "    </tr>\n",
       "    <tr>\n",
       "      <th>2</th>\n",
       "      <td>Mario Kart Wii</td>\n",
       "      <td>Wii</td>\n",
       "      <td>2008-01-01</td>\n",
       "      <td>Racing</td>\n",
       "      <td>15.68</td>\n",
       "      <td>12.76</td>\n",
       "      <td>3.79</td>\n",
       "      <td>3.29</td>\n",
       "      <td>82.0</td>\n",
       "      <td>8.3</td>\n",
       "      <td>E</td>\n",
       "      <td>35.52</td>\n",
       "    </tr>\n",
       "    <tr>\n",
       "      <th>3</th>\n",
       "      <td>Wii Sports Resort</td>\n",
       "      <td>Wii</td>\n",
       "      <td>2009-01-01</td>\n",
       "      <td>Sports</td>\n",
       "      <td>15.61</td>\n",
       "      <td>10.93</td>\n",
       "      <td>3.28</td>\n",
       "      <td>2.95</td>\n",
       "      <td>80.0</td>\n",
       "      <td>8.0</td>\n",
       "      <td>E</td>\n",
       "      <td>32.77</td>\n",
       "    </tr>\n",
       "    <tr>\n",
       "      <th>4</th>\n",
       "      <td>Pokemon Red/Pokemon Blue</td>\n",
       "      <td>GB</td>\n",
       "      <td>1996-01-01</td>\n",
       "      <td>Role-Playing</td>\n",
       "      <td>11.27</td>\n",
       "      <td>8.89</td>\n",
       "      <td>10.22</td>\n",
       "      <td>1.00</td>\n",
       "      <td>0.0</td>\n",
       "      <td>0.0</td>\n",
       "      <td>U</td>\n",
       "      <td>31.38</td>\n",
       "    </tr>\n",
       "    <tr>\n",
       "      <th>5</th>\n",
       "      <td>Tetris</td>\n",
       "      <td>GB</td>\n",
       "      <td>1989-01-01</td>\n",
       "      <td>Puzzle</td>\n",
       "      <td>23.20</td>\n",
       "      <td>2.26</td>\n",
       "      <td>4.22</td>\n",
       "      <td>0.58</td>\n",
       "      <td>0.0</td>\n",
       "      <td>0.0</td>\n",
       "      <td>U</td>\n",
       "      <td>30.26</td>\n",
       "    </tr>\n",
       "    <tr>\n",
       "      <th>6</th>\n",
       "      <td>New Super Mario Bros.</td>\n",
       "      <td>DS</td>\n",
       "      <td>2006-01-01</td>\n",
       "      <td>Platform</td>\n",
       "      <td>11.28</td>\n",
       "      <td>9.14</td>\n",
       "      <td>6.50</td>\n",
       "      <td>2.88</td>\n",
       "      <td>89.0</td>\n",
       "      <td>8.5</td>\n",
       "      <td>E</td>\n",
       "      <td>29.80</td>\n",
       "    </tr>\n",
       "    <tr>\n",
       "      <th>7</th>\n",
       "      <td>Wii Play</td>\n",
       "      <td>Wii</td>\n",
       "      <td>2006-01-01</td>\n",
       "      <td>Misc</td>\n",
       "      <td>13.96</td>\n",
       "      <td>9.18</td>\n",
       "      <td>2.93</td>\n",
       "      <td>2.84</td>\n",
       "      <td>58.0</td>\n",
       "      <td>6.6</td>\n",
       "      <td>E</td>\n",
       "      <td>28.91</td>\n",
       "    </tr>\n",
       "    <tr>\n",
       "      <th>8</th>\n",
       "      <td>New Super Mario Bros. Wii</td>\n",
       "      <td>Wii</td>\n",
       "      <td>2009-01-01</td>\n",
       "      <td>Platform</td>\n",
       "      <td>14.44</td>\n",
       "      <td>6.94</td>\n",
       "      <td>4.70</td>\n",
       "      <td>2.24</td>\n",
       "      <td>87.0</td>\n",
       "      <td>8.4</td>\n",
       "      <td>E</td>\n",
       "      <td>28.32</td>\n",
       "    </tr>\n",
       "    <tr>\n",
       "      <th>9</th>\n",
       "      <td>Duck Hunt</td>\n",
       "      <td>NES</td>\n",
       "      <td>1984-01-01</td>\n",
       "      <td>Shooter</td>\n",
       "      <td>26.93</td>\n",
       "      <td>0.63</td>\n",
       "      <td>0.28</td>\n",
       "      <td>0.47</td>\n",
       "      <td>0.0</td>\n",
       "      <td>0.0</td>\n",
       "      <td>U</td>\n",
       "      <td>28.31</td>\n",
       "    </tr>\n",
       "  </tbody>\n",
       "</table>\n",
       "</div>"
      ],
      "text/plain": [
       "                        name platform year_of_release         genre  na_sales  \\\n",
       "0                 Wii Sports      Wii      2006-01-01        Sports     41.36   \n",
       "1          Super Mario Bros.      NES      1985-01-01      Platform     29.08   \n",
       "2             Mario Kart Wii      Wii      2008-01-01        Racing     15.68   \n",
       "3          Wii Sports Resort      Wii      2009-01-01        Sports     15.61   \n",
       "4   Pokemon Red/Pokemon Blue       GB      1996-01-01  Role-Playing     11.27   \n",
       "5                     Tetris       GB      1989-01-01        Puzzle     23.20   \n",
       "6      New Super Mario Bros.       DS      2006-01-01      Platform     11.28   \n",
       "7                   Wii Play      Wii      2006-01-01          Misc     13.96   \n",
       "8  New Super Mario Bros. Wii      Wii      2009-01-01      Platform     14.44   \n",
       "9                  Duck Hunt      NES      1984-01-01       Shooter     26.93   \n",
       "\n",
       "   eu_sales  jp_sales  other_sales  critic_score  user_score rating  \\\n",
       "0     28.96      3.77         8.45          76.0         8.0      E   \n",
       "1      3.58      6.81         0.77           0.0         0.0      U   \n",
       "2     12.76      3.79         3.29          82.0         8.3      E   \n",
       "3     10.93      3.28         2.95          80.0         8.0      E   \n",
       "4      8.89     10.22         1.00           0.0         0.0      U   \n",
       "5      2.26      4.22         0.58           0.0         0.0      U   \n",
       "6      9.14      6.50         2.88          89.0         8.5      E   \n",
       "7      9.18      2.93         2.84          58.0         6.6      E   \n",
       "8      6.94      4.70         2.24          87.0         8.4      E   \n",
       "9      0.63      0.28         0.47           0.0         0.0      U   \n",
       "\n",
       "   total_sales  \n",
       "0        82.54  \n",
       "1        40.24  \n",
       "2        35.52  \n",
       "3        32.77  \n",
       "4        31.38  \n",
       "5        30.26  \n",
       "6        29.80  \n",
       "7        28.91  \n",
       "8        28.32  \n",
       "9        28.31  "
      ]
     },
     "execution_count": 23,
     "metadata": {},
     "output_type": "execute_result"
    }
   ],
   "source": [
    "# Посмотрим на результат работ\n",
    "df.head(10)"
   ]
  },
  {
   "cell_type": "markdown",
   "metadata": {},
   "source": [
    "Вывод:\n",
    "В подготовки данных:\n",
    "- были заполнены пропуски и даны обьяснения по логике заполнения\n",
    "- унифицированы типы данных в колонках\n",
    "- добавлена новая колонка с сумарными продажами."
   ]
  },
  {
   "cell_type": "markdown",
   "metadata": {},
   "source": [
    "<div class=\"alert alert-block alert-success\">\n",
    " \n",
    "### Комментарий ревьюера\n",
    "    \n",
    "#### Успех\n",
    "\n",
    "А теперь данные готовы к дальнейшему анализу. "
   ]
  },
  {
   "cell_type": "markdown",
   "metadata": {},
   "source": [
    "### Проведите исследовательский анализ данных"
   ]
  },
  {
   "cell_type": "markdown",
   "metadata": {},
   "source": [
    "1) Посмотрите, сколько игр выпускалось в разные годы. Важны ли данные за все периоды?\n",
    "2) Посмотрите, как менялись продажи по платформам. Выберите платформы с наибольшими суммарными продажами и постройте распределение по годам. За какой характерный срок появляются новые и исчезают старые платформы?\n",
    "3) Возьмите данные за соответствующий актуальный период. Актуальный период определите самостоятельно в результате исследования предыдущих вопросов. Основной фактор — эти данные помогут построить прогноз на 2017 год.\n",
    "4) Не учитывайте в работе данные за предыдущие годы.\n",
    "5) Какие платформы лидируют по продажам, растут или падают? Выберите несколько потенциально прибыльных платформ.\n",
    "6) Постройте график «ящик с усами» по глобальным продажам игр в разбивке по платформам. Опишите результат.\n",
    "7) Посмотрите, как влияют на продажи внутри одной популярной платформы отзывы пользователей и критиков. Постройте диаграмму рассеяния и посчитайте корреляцию между отзывами и продажами. Сформулируйте выводы.\n",
    "8) Соотнесите выводы с продажами игр на других платформах.\n",
    "9) Посмотрите на общее распределение игр по жанрам. Что можно сказать о самых прибыльных жанрах? Выделяются ли жанры с высокими и низкими продажами?"
   ]
  },
  {
   "cell_type": "code",
   "execution_count": 24,
   "metadata": {},
   "outputs": [
    {
     "data": {
      "text/plain": [
       "year_of_release\n",
       "1980-01-01       9\n",
       "1981-01-01      46\n",
       "1982-01-01      36\n",
       "1983-01-01      17\n",
       "1984-01-01      14\n",
       "1985-01-01      14\n",
       "1986-01-01      21\n",
       "1987-01-01      16\n",
       "1988-01-01      15\n",
       "1989-01-01      17\n",
       "1990-01-01      16\n",
       "1991-01-01      41\n",
       "1992-01-01      43\n",
       "1993-01-01      60\n",
       "1994-01-01     121\n",
       "1995-01-01     219\n",
       "1996-01-01     263\n",
       "1997-01-01     289\n",
       "1998-01-01     379\n",
       "1999-01-01     338\n",
       "2000-01-01     350\n",
       "2001-01-01     482\n",
       "2002-01-01     829\n",
       "2003-01-01     775\n",
       "2004-01-01     762\n",
       "2005-01-01     939\n",
       "2006-01-01    1006\n",
       "2007-01-01    1197\n",
       "2008-01-01    1427\n",
       "2009-01-01    1426\n",
       "2010-01-01    1255\n",
       "2011-01-01    1136\n",
       "2012-01-01     653\n",
       "2013-01-01     544\n",
       "2014-01-01     581\n",
       "2015-01-01     606\n",
       "2016-01-01     502\n",
       "Name: name, dtype: int64"
      ]
     },
     "execution_count": 24,
     "metadata": {},
     "output_type": "execute_result"
    }
   ],
   "source": [
    "# Посмотрим сколько игр выпускалось в разные года\n",
    "df.groupby('year_of_release')['name'].count()"
   ]
  },
  {
   "cell_type": "code",
   "execution_count": 25,
   "metadata": {},
   "outputs": [
    {
     "data": {
      "image/png": "[encoded data removed]",
      "text/plain": [
       "<Figure size 1440x504 with 1 Axes>"
      ]
     },
     "metadata": {
      "needs_background": "light"
     },
     "output_type": "display_data"
    }
   ],
   "source": [
    "# Построим графиг для наглядности\n",
    "df.groupby('year_of_release')['name'].count().plot(figsize = (20, 7), grid = True)\n",
    "plt.title('Количество выпущенных игр по годам')\n",
    "plt.xlabel('Год')\n",
    "plt.ylabel('Количество игр')\n",
    "plt.show()"
   ]
  },
  {
   "cell_type": "markdown",
   "metadata": {},
   "source": [
    "<div class=\"alert alert-block alert-success\">\n",
    " \n",
    "### Комментарий ревьюера\n",
    "    \n",
    "#### Успех\n",
    "\n",
    "Хороший график у тебя получился. По нему мы видим, как ведет себя выпуск платформ с каждым годом. "
   ]
  },
  {
   "cell_type": "markdown",
   "metadata": {},
   "source": [
    "Исходя из данны выше и смотря на график, видно, что до 1990 года динамики практически не было. 1991 начался подьем, а с 2011 года резкий спад в два раза. Поэтому интересно понимать, что повлияло и привелок к таким результатам."
   ]
  },
  {
   "cell_type": "code",
   "execution_count": 26,
   "metadata": {},
   "outputs": [
    {
     "data": {
      "text/plain": [
       "platform\n",
       "PS2     1233.56\n",
       "X360     961.24\n",
       "PS3      931.34\n",
       "Wii      891.18\n",
       "DS       802.78\n",
       "PS       727.58\n",
       "PS4      314.14\n",
       "GBA      312.88\n",
       "PSP      289.53\n",
       "3DS      257.81\n",
       "PC       255.76\n",
       "GB       254.43\n",
       "XB       251.57\n",
       "NES      251.05\n",
       "N64      218.01\n",
       "SNES     200.04\n",
       "GC       196.73\n",
       "XOne     159.32\n",
       "2600      86.48\n",
       "WiiU      82.19\n",
       "PSV       53.81\n",
       "SAT       33.59\n",
       "GEN       28.35\n",
       "DC        15.95\n",
       "SCD        1.86\n",
       "NG         1.44\n",
       "WS         1.42\n",
       "TG16       0.16\n",
       "3DO        0.10\n",
       "GG         0.04\n",
       "PCFX       0.03\n",
       "Name: total_sales, dtype: float64"
      ]
     },
     "execution_count": 26,
     "metadata": {},
     "output_type": "execute_result"
    }
   ],
   "source": [
    "# Посмотрим на продажи по платформам\n",
    "df.groupby('platform')['total_sales'].sum().sort_values(ascending = False)"
   ]
  },
  {
   "cell_type": "code",
   "execution_count": 27,
   "metadata": {},
   "outputs": [
    {
     "data": {
      "image/png": "[encoded data removed]",
      "text/plain": [
       "<Figure size 1440x504 with 1 Axes>"
      ]
     },
     "metadata": {
      "needs_background": "light"
     },
     "output_type": "display_data"
    }
   ],
   "source": [
    "# Построим график по данным выше\n",
    "df.groupby('platform')['total_sales'].sum().sort_values(ascending = False).plot(kind = 'barh', figsize = (20, 7))\n",
    "plt.xlabel('Продажи')\n",
    "plt.ylabel('Платформа')\n",
    "plt.title('Продажи игр по платформам')\n",
    "plt.show()"
   ]
  },
  {
   "cell_type": "markdown",
   "metadata": {},
   "source": [
    "<div class=\"alert alert-block alert-success\">\n",
    " \n",
    "### Комментарий ревьюера\n",
    "    \n",
    "#### Успех\n",
    "\n",
    "Рейтинг по суммарным продажам получен"
   ]
  },
  {
   "cell_type": "code",
   "execution_count": 28,
   "metadata": {
    "scrolled": false
   },
   "outputs": [
    {
     "data": {
      "image/png": "[encoded data removed]",
      "text/plain": [
       "<Figure size 1440x504 with 1 Axes>"
      ]
     },
     "metadata": {
      "needs_background": "light"
     },
     "output_type": "display_data"
    }
   ],
   "source": [
    "# Фильтрация данных и построение сводной таблицы\n",
    "pivot_table = df.query('platform == [\"PS2\", \"X360\", \"Wii\", \"DS\"]').pivot_table(\n",
    "    index='year_of_release', \n",
    "    columns='platform', \n",
    "    values='total_sales', \n",
    "    aggfunc='sum'\n",
    ")\n",
    "\n",
    "# Построение графика\n",
    "pivot_table.plot(grid=True, figsize=(20, 7))\n",
    "\n",
    "# Настройка меток и заголовка\n",
    "plt.xlabel('Год')\n",
    "plt.ylabel('Продажи')\n",
    "plt.title('Продажи игр по платформам \"PS2\", \"X360\", \"Wii\", \"DS\"')\n",
    "plt.show()"
   ]
  },
  {
   "cell_type": "code",
   "execution_count": 29,
   "metadata": {},
   "outputs": [
    {
     "data": {
      "text/plain": [
       "Timedelta('2780 days 11:36:46.451612896')"
      ]
     },
     "execution_count": 29,
     "metadata": {},
     "output_type": "execute_result"
    }
   ],
   "source": [
    "# Определим за какой характерный срок появляются новые и исчезают старые платформы\n",
    "# Сначала построим сводную таблицу по всем платформам\n",
    "platform_sales = df.pivot_table(\n",
    "    index='year_of_release', \n",
    "    columns='platform', \n",
    "    values='total_sales', \n",
    "    aggfunc='sum'\n",
    ")\n",
    "\n",
    "# Теперь найдем первый и последний год продаж для каждой платформы\n",
    "platform_lifespan = platform_sales.apply(lambda x: x.dropna().index.min(), axis=0)\n",
    "platform_lifespan = platform_lifespan.to_frame(name='first_year')\n",
    "platform_lifespan['last_year'] = platform_sales.apply(lambda x: x.dropna().index.max(), axis=0)\n",
    "\n",
    "# Рассчитаем продолжительность жизни каждой платформы\n",
    "platform_lifespan['lifespan'] = platform_lifespan['last_year'] - platform_lifespan['first_year']\n",
    "\n",
    "# Теперь можно вычислить среднюю продолжительность жизни платформы\n",
    "average_lifespan = platform_lifespan['lifespan'].mean()\n",
    "\n",
    "average_lifespan"
   ]
  },
  {
   "cell_type": "markdown",
   "metadata": {},
   "source": [
    "По данным выше выявлено, что:\n",
    "1) PS2 и XBOX 360 это две самые популярные плавтформы в данной выгрузке\n",
    "2) Средний срок жизни каждой платформы составляет 2780 дней или 7 лет и 7 месяцев"
   ]
  },
  {
   "cell_type": "markdown",
   "metadata": {},
   "source": [
    "<div class=\"alert alert-block alert-danger\">\n",
    " \n",
    "### Комментарий ревьюера\n",
    "    \n",
    "#### Ошибка\n",
    "\n",
    "Тут правильно было бы хотя бы штук 5-6 платформ рассмотреть для определения корректного срока жизни."
   ]
  },
  {
   "cell_type": "markdown",
   "metadata": {},
   "source": [
    "<div class=\"alert alert-block alert-info\">\n",
    " \n",
    "### Ответ ученика:\n",
    "\n",
    "Добавил ещё 3 плалтформы, но в целом на фунцию выше - это не влияет т.к. она сделана с выборкой по всему столбцу\n",
    "\n",
    "</div>"
   ]
  },
  {
   "cell_type": "markdown",
   "metadata": {},
   "source": [
    "<div class=\"alert alert-block alert-success\">\n",
    " \n",
    "# Комментарий ревьюера ver.2\n",
    "    \n",
    "#### Успех\n",
    "\n",
    "Вот так лучше. Спасибо"
   ]
  },
  {
   "cell_type": "code",
   "execution_count": 30,
   "metadata": {},
   "outputs": [
    {
     "data": {
      "image/png": "[encoded data removed]",
      "text/plain": [
       "<Figure size 1440x720 with 1 Axes>"
      ]
     },
     "metadata": {
      "needs_background": "light"
     },
     "output_type": "display_data"
    }
   ],
   "source": [
    "# Фильтрация данных за актуальный период\n",
    "actual_data = df.query('2013 <= year_of_release <= 2016')\n",
    "\n",
    "# Анализ продаж по платформам за актуальный период\n",
    "platform_sales_actual = actual_data.pivot_table(\n",
    "    index='year_of_release', \n",
    "    columns='platform', \n",
    "    values='total_sales', \n",
    "    aggfunc='sum'\n",
    ")\n",
    "\n",
    "# Построение графика продаж по платформам\n",
    "platform_sales_actual.plot(figsize=(20, 10), grid=True)\n",
    "plt.xlabel('Год выпуска')\n",
    "plt.ylabel('Продажи (млн. копий)')\n",
    "plt.title('Продажи игр по платформам за актуальный период (2013-2016)')\n",
    "plt.legend(title='Платформа')\n",
    "plt.show()"
   ]
  },
  {
   "cell_type": "markdown",
   "metadata": {},
   "source": [
    "<div class=\"alert alert-block alert-success\">\n",
    " \n",
    "### Комментарий ревьюера\n",
    "    \n",
    "#### Успех\n",
    "\n",
    "С актуальным периодом согласен. Нам незачем смотреть на слишком старые данные."
   ]
  },
  {
   "cell_type": "raw",
   "metadata": {},
   "source": [
    "Я взял отрезок с 2013 по 2016\n",
    "Судя по графику:\n",
    "1) В тренде продаж PS4 и Xbox ONE\n",
    "2) Продажи PSP оборвались 2015, а вот Wii держится на самом низком уровне, но продается"
   ]
  },
  {
   "cell_type": "code",
   "execution_count": 31,
   "metadata": {},
   "outputs": [
    {
     "data": {
      "image/png": "[encoded data removed]",
      "text/plain": [
       "<Figure size 1080x504 with 1 Axes>"
      ]
     },
     "metadata": {
      "needs_background": "light"
     },
     "output_type": "display_data"
    }
   ],
   "source": [
    "# Построим ящик с \"усами\"\n",
    "actual_data.boxplot(column = 'total_sales', by = 'platform', figsize = (15, 7))\n",
    "plt.title('Продажи по платформам, диаграмма размаха')\n",
    "plt.xlabel('Платформа')\n",
    "plt.show()"
   ]
  },
  {
   "cell_type": "code",
   "execution_count": 32,
   "metadata": {
    "scrolled": false
   },
   "outputs": [
    {
     "data": {
      "image/png": "[encoded data removed]",
      "text/plain": [
       "<Figure size 1080x504 with 1 Axes>"
      ]
     },
     "metadata": {
      "needs_background": "light"
     },
     "output_type": "display_data"
    }
   ],
   "source": [
    "# и второй без выбросов\n",
    "actual_data.boxplot(column = 'total_sales', by = 'platform', figsize = (15, 7), showfliers=False )\n",
    "plt.title('Продажи по платформам, диаграмма размаха без выбросов')\n",
    "plt.xlabel('Платформа')\n",
    "plt.show()"
   ]
  },
  {
   "cell_type": "markdown",
   "metadata": {},
   "source": [
    "<div class=\"alert alert-block alert-danger\">\n",
    " \n",
    "### Комментарий ревьюера\n",
    "    \n",
    "#### Ошибка\n",
    "\n",
    "А вот тут и далее надо было рассматривать данные уже только актуального периода."
   ]
  },
  {
   "cell_type": "markdown",
   "metadata": {},
   "source": [
    "<div class=\"alert alert-block alert-info\">\n",
    " \n",
    "### Ответ ученика:\n",
    "\n",
    "Взял переменную \"actual_data\" из предыдущех графиков она ограничивал с 2013 по 2016 год \n",
    "Исправил ящик с усами и переписал вывод (т.к. он изменился)\n",
    "\n",
    "</div>"
   ]
  },
  {
   "cell_type": "markdown",
   "metadata": {},
   "source": [
    "<div class=\"alert alert-block alert-success\">\n",
    " \n",
    "# Комментарий ревьюера ver.2\n",
    "    \n",
    "#### Успех\n",
    "\n",
    "Супер"
   ]
  },
  {
   "cell_type": "markdown",
   "metadata": {},
   "source": [
    "Вывод: Некоторые значения на диаграмме размаха значительно превышают остальные, однако исключать их нецелесообразно, поскольку они могут отражать высокую популярность конкретной платформы. \n",
    "\n",
    "Исходя из графиков без выбросов видно, что медиана протекает у всех по разному.\n",
    "Больше всех продаж у x360, затем Wii, после PS4 и т.д. PSP на последнем месте. "
   ]
  },
  {
   "cell_type": "code",
   "execution_count": 33,
   "metadata": {},
   "outputs": [
    {
     "data": {
      "image/png": "[encoded data removed]",
      "text/plain": [
       "<Figure size 864x432 with 1 Axes>"
      ]
     },
     "metadata": {
      "needs_background": "light"
     },
     "output_type": "display_data"
    }
   ],
   "source": [
    "# Выделим одну популярную платформу и убедимся, что рейтинг не равен \"U\"\n",
    "ps = df[(df['platform'] == 'PS4') & (df['rating'] != \"U\")]\n",
    "\n",
    "# Построим диаграмму рассеяния\n",
    "plt.figure(figsize=(12,6))\n",
    "sns.scatterplot(x='user_score', y='total_sales', data=ps)\n",
    "plt.title('Зависимость от рейтинга пользователей')\n",
    "plt.xlabel('Оценка пользователя', fontsize=12)\n",
    "plt.ylabel('Количество продаж', fontsize=12)\n",
    "plt.show()"
   ]
  },
  {
   "cell_type": "code",
   "execution_count": 34,
   "metadata": {},
   "outputs": [
    {
     "data": {
      "text/plain": [
       "0.03160948710759462"
      ]
     },
     "execution_count": 34,
     "metadata": {},
     "output_type": "execute_result"
    }
   ],
   "source": [
    "# Посмотрим на корреляцию\n",
    "ps['user_score'].corr(ps['total_sales'])"
   ]
  },
  {
   "cell_type": "code",
   "execution_count": 35,
   "metadata": {},
   "outputs": [
    {
     "data": {
      "image/png": "[encoded data removed]",
      "text/plain": [
       "<Figure size 864x432 with 1 Axes>"
      ]
     },
     "metadata": {
      "needs_background": "light"
     },
     "output_type": "display_data"
    }
   ],
   "source": [
    "# Введем услови по ранее созданной заглушке\n",
    "filtered_data = ps[ps['critic_score'] != 0]\n",
    "\n",
    "# Построим диаграмму рассеяния для критиков\n",
    "plt.figure(figsize=(12,6))\n",
    "sns.scatterplot(x='critic_score', y='total_sales', data=filtered_data)\n",
    "plt.title('Зависимость от рейтинга критиков')\n",
    "plt.xlabel('Оценка пользователя', fontsize=12)\n",
    "plt.ylabel('Количество продаж', fontsize=12)\n",
    "plt.show()\n"
   ]
  },
  {
   "cell_type": "markdown",
   "metadata": {},
   "source": [
    "<div class=\"alert alert-block alert-danger\">\n",
    " \n",
    "### Комментарий ревьюера\n",
    "    \n",
    "#### Ошибка\n",
    "\n",
    "Здесь ты правильный метод определяешь для показа зависимости. Надо только ограничить вывод значений-заглушек, которыми ты заменял пропуски. "
   ]
  },
  {
   "cell_type": "markdown",
   "metadata": {},
   "source": [
    "<div class=\"alert alert-block alert-info\">\n",
    " \n",
    "### Ответ ученика:\n",
    "\n",
    "Добавил условие\n",
    "\n",
    "</div>"
   ]
  },
  {
   "cell_type": "markdown",
   "metadata": {},
   "source": [
    "<div class=\"alert alert-block alert-success\">\n",
    " \n",
    "# Комментарий ревьюера ver.2\n",
    "    \n",
    "#### Успех\n",
    "\n",
    "Сейчас смотрим на чистые данные. Супер. "
   ]
  },
  {
   "cell_type": "code",
   "execution_count": 36,
   "metadata": {},
   "outputs": [
    {
     "data": {
      "text/plain": [
       "0.3237123719473319"
      ]
     },
     "execution_count": 36,
     "metadata": {},
     "output_type": "execute_result"
    }
   ],
   "source": [
    "# Посмотрим на корреляцию\n",
    "ps['critic_score'].corr(ps['total_sales'])"
   ]
  },
  {
   "cell_type": "markdown",
   "metadata": {},
   "source": [
    "Вывод: корреляции между оценками пользователей и продажами почти нет,  а вот от отзывов критиков зависмость есть"
   ]
  },
  {
   "cell_type": "code",
   "execution_count": 37,
   "metadata": {
    "scrolled": false
   },
   "outputs": [
    {
     "data": {
      "image/png": "[encoded data removed]",
      "text/plain": [
       "<Figure size 1080x360 with 2 Axes>"
      ]
     },
     "metadata": {
      "needs_background": "light"
     },
     "output_type": "display_data"
    },
    {
     "name": "stdout",
     "output_type": "stream",
     "text": [
      "Корреляция между отзывами пользователей и продажами для платформы PS2: Слабая (0.21)\n",
      "Корреляция между отзывами критиков и продажами для платформы PS2: Слабая (0.28)\n",
      "n\n"
     ]
    },
    {
     "data": {
      "image/png": "[encoded data removed]",
      "text/plain": [
       "<Figure size 1080x360 with 2 Axes>"
      ]
     },
     "metadata": {
      "needs_background": "light"
     },
     "output_type": "display_data"
    },
    {
     "name": "stdout",
     "output_type": "stream",
     "text": [
      "Корреляция между отзывами пользователей и продажами для платформы XONE: Корреляция не выявлена (0.08)\n",
      "Корреляция между отзывами критиков и продажами для платформы XONE: Сильная (0.36)\n",
      "n\n"
     ]
    },
    {
     "data": {
      "image/png": "[encoded data removed]",
      "text/plain": [
       "<Figure size 1080x360 with 2 Axes>"
      ]
     },
     "metadata": {
      "needs_background": "light"
     },
     "output_type": "display_data"
    },
    {
     "name": "stdout",
     "output_type": "stream",
     "text": [
      "Корреляция между отзывами пользователей и продажами для платформы PC: Корреляция не выявлена (0.04)\n",
      "Корреляция между отзывами критиков и продажами для платформы PC: Слабая (0.16)\n",
      "n\n"
     ]
    },
    {
     "data": {
      "image/png": "[encoded data removed]",
      "text/plain": [
       "<Figure size 1080x360 with 2 Axes>"
      ]
     },
     "metadata": {
      "needs_background": "light"
     },
     "output_type": "display_data"
    },
    {
     "name": "stdout",
     "output_type": "stream",
     "text": [
      "Корреляция между отзывами пользователей и продажами для платформы X360: Слабая (0.17)\n",
      "Корреляция между отзывами критиков и продажами для платформы X360: Сильная (0.31)\n",
      "n\n"
     ]
    },
    {
     "data": {
      "image/png": "[encoded data removed]",
      "text/plain": [
       "<Figure size 1080x360 with 2 Axes>"
      ]
     },
     "metadata": {
      "needs_background": "light"
     },
     "output_type": "display_data"
    },
    {
     "name": "stdout",
     "output_type": "stream",
     "text": [
      "Корреляция между отзывами пользователей и продажами для платформы WIIU: Сильная (0.35)\n",
      "Корреляция между отзывами критиков и продажами для платформы WIIU: Сильная (0.34)\n",
      "n\n"
     ]
    }
   ],
   "source": [
    "# Строим графики для других платформ\n",
    "def print_correlation(correlation, score_type, platform_name):\n",
    "    if abs(correlation) > 0.3:\n",
    "        strength = 'Сильная'\n",
    "    elif abs(correlation) > 0.1:\n",
    "        strength = 'Слабая'\n",
    "    else:\n",
    "        strength = 'Корреляция не выявлена'\n",
    "    print(f'Корреляция между {score_type} и продажами для платформы {platform_name.upper()}: {strength} ({correlation:.2f})')\n",
    "\n",
    "def other_platform_matrix(name_of_platform):\n",
    "    # Фильтрация данных по платформе и рейтингу, исключая игры с рейтингом \"U\"\n",
    "    platform = df[(df['platform'] == name_of_platform) & (df['rating'] != \"U\")]\n",
    "    \n",
    "    fig, ax = plt.subplots(1, 2, figsize=(15, 5))\n",
    "    sns.scatterplot(x='user_score', y='total_sales', data=platform, ax=ax[0])\n",
    "    sns.scatterplot(x='critic_score', y='total_sales', data=platform, ax=ax[1])\n",
    "    ax[0].set_title('Оценка пользователей')\n",
    "    ax[1].set_title('Оценка критиков')\n",
    "    for a in ax:\n",
    "        a.set(xlabel='Оценка', ylabel='Количество продаж')\n",
    "    fig.suptitle(name_of_platform, fontsize=15)\n",
    "    plt.show()\n",
    "    \n",
    "    user_correl = platform['user_score'].corr(platform['total_sales'])\n",
    "    critic_correl = platform['critic_score'].corr(platform['total_sales'])\n",
    "    \n",
    "    print_correlation(user_correl, 'отзывами пользователей', name_of_platform)\n",
    "    print_correlation(critic_correl, 'отзывами критиков', name_of_platform)\n",
    "    print('n')\n",
    "\n",
    "# Предполагая, что list_of_top_5 содержит список названий топ-5 платформ\n",
    "list_of_top_5 = ['PS2', 'XOne', 'PC', 'X360', 'WiiU']\n",
    "for i in list_of_top_5:\n",
    "    other_platform_matrix(i)\n"
   ]
  },
  {
   "cell_type": "markdown",
   "metadata": {},
   "source": [
    "<div class=\"alert alert-block alert-warning\">\n",
    " \n",
    "### Комментарий ревьюера\n",
    "    \n",
    "#### Совет\n",
    "\n",
    "Импорт библиотек правильно делать в самом начале проекта. "
   ]
  },
  {
   "cell_type": "markdown",
   "metadata": {},
   "source": [
    "<div class=\"alert alert-block alert-info\">\n",
    " \n",
    "### Ответ ученика:\n",
    "\n",
    "Убрал\n",
    "\n",
    "</div>"
   ]
  },
  {
   "cell_type": "raw",
   "metadata": {},
   "source": [
    "Вывод: В целом по 5 плафтормам видно, что всегда есть зависимость от отзыва критиков, и на некоторых есть зависмость от пользователей"
   ]
  },
  {
   "cell_type": "code",
   "execution_count": 38,
   "metadata": {},
   "outputs": [
    {
     "data": {
      "text/plain": [
       "genre\n",
       "Action          3307\n",
       "Sports          2306\n",
       "Misc            1721\n",
       "Role-Playing    1481\n",
       "Shooter         1296\n",
       "Adventure       1293\n",
       "Racing          1226\n",
       "Platform         878\n",
       "Simulation       857\n",
       "Fighting         837\n",
       "Strategy         673\n",
       "Puzzle           569\n",
       "Name: name, dtype: int64"
      ]
     },
     "execution_count": 38,
     "metadata": {},
     "output_type": "execute_result"
    }
   ],
   "source": [
    "# Смотриv на распределение игр по жанрам\n",
    "df.groupby('genre')['name'].count().sort_values(ascending = False)"
   ]
  },
  {
   "cell_type": "code",
   "execution_count": 39,
   "metadata": {
    "scrolled": true
   },
   "outputs": [
    {
     "data": {
      "image/png": "[encoded data removed]",
      "text/plain": [
       "<Figure size 432x288 with 1 Axes>"
      ]
     },
     "metadata": {},
     "output_type": "display_data"
    }
   ],
   "source": [
    "# посмотрим процентное соотношения \n",
    "count_by_genre = df.groupby('genre')['name'].count().sort_values(ascending=False)\n",
    "plt.pie(count_by_genre, labels=count_by_genre.index, autopct='%1.1f%%')\n",
    "plt.title('Распределение игр по жанрам')\n",
    "plt.axis('equal')  \n",
    "plt.show()"
   ]
  },
  {
   "cell_type": "raw",
   "metadata": {},
   "source": [
    "Больше всего в выборке игр жанра Action 20% а меньше puzzle 3,5%"
   ]
  },
  {
   "cell_type": "code",
   "execution_count": 40,
   "metadata": {
    "scrolled": false
   },
   "outputs": [
    {
     "data": {
      "image/png": "[encoded data removed]",
      "text/plain": [
       "<Figure size 720x432 with 1 Axes>"
      ]
     },
     "metadata": {
      "needs_background": "light"
     },
     "output_type": "display_data"
    }
   ],
   "source": [
    "median_sales_by_genre = df.groupby('genre')['total_sales'].median().sort_values(ascending=False)\n",
    "median_sales_by_genre.plot(kind='bar', color='steelblue', alpha=0.8, figsize=(10,6))\n",
    "plt.title('Продажи по жанрам', fontsize=15)\n",
    "plt.xlabel('Жанры', fontsize=12)\n",
    "plt.ylabel('Продажи', fontsize=12)\n",
    "plt.show()"
   ]
  },
  {
   "cell_type": "code",
   "execution_count": 61,
   "metadata": {},
   "outputs": [
    {
     "data": {
      "text/html": [
       "<div>\n",
       "<style scoped>\n",
       "    .dataframe tbody tr th:only-of-type {\n",
       "        vertical-align: middle;\n",
       "    }\n",
       "\n",
       "    .dataframe tbody tr th {\n",
       "        vertical-align: top;\n",
       "    }\n",
       "\n",
       "    .dataframe thead th {\n",
       "        text-align: right;\n",
       "    }\n",
       "</style>\n",
       "<table border=\"1\" class=\"dataframe\">\n",
       "  <thead>\n",
       "    <tr style=\"text-align: right;\">\n",
       "      <th></th>\n",
       "      <th>genre</th>\n",
       "      <th>sum</th>\n",
       "      <th>count</th>\n",
       "      <th>mean</th>\n",
       "    </tr>\n",
       "  </thead>\n",
       "  <tbody>\n",
       "    <tr>\n",
       "      <th>4</th>\n",
       "      <td>Platform</td>\n",
       "      <td>825.55</td>\n",
       "      <td>878</td>\n",
       "      <td>0.940262</td>\n",
       "    </tr>\n",
       "    <tr>\n",
       "      <th>8</th>\n",
       "      <td>Shooter</td>\n",
       "      <td>1041.36</td>\n",
       "      <td>1296</td>\n",
       "      <td>0.803519</td>\n",
       "    </tr>\n",
       "    <tr>\n",
       "      <th>7</th>\n",
       "      <td>Role-Playing</td>\n",
       "      <td>931.08</td>\n",
       "      <td>1481</td>\n",
       "      <td>0.628683</td>\n",
       "    </tr>\n",
       "    <tr>\n",
       "      <th>6</th>\n",
       "      <td>Racing</td>\n",
       "      <td>723.49</td>\n",
       "      <td>1226</td>\n",
       "      <td>0.590122</td>\n",
       "    </tr>\n",
       "    <tr>\n",
       "      <th>10</th>\n",
       "      <td>Sports</td>\n",
       "      <td>1309.67</td>\n",
       "      <td>2306</td>\n",
       "      <td>0.567940</td>\n",
       "    </tr>\n",
       "    <tr>\n",
       "      <th>2</th>\n",
       "      <td>Fighting</td>\n",
       "      <td>442.66</td>\n",
       "      <td>837</td>\n",
       "      <td>0.528865</td>\n",
       "    </tr>\n",
       "    <tr>\n",
       "      <th>0</th>\n",
       "      <td>Action</td>\n",
       "      <td>1716.52</td>\n",
       "      <td>3307</td>\n",
       "      <td>0.519057</td>\n",
       "    </tr>\n",
       "    <tr>\n",
       "      <th>3</th>\n",
       "      <td>Misc</td>\n",
       "      <td>790.29</td>\n",
       "      <td>1721</td>\n",
       "      <td>0.459204</td>\n",
       "    </tr>\n",
       "    <tr>\n",
       "      <th>9</th>\n",
       "      <td>Simulation</td>\n",
       "      <td>387.96</td>\n",
       "      <td>857</td>\n",
       "      <td>0.452695</td>\n",
       "    </tr>\n",
       "    <tr>\n",
       "      <th>5</th>\n",
       "      <td>Puzzle</td>\n",
       "      <td>239.89</td>\n",
       "      <td>569</td>\n",
       "      <td>0.421599</td>\n",
       "    </tr>\n",
       "    <tr>\n",
       "      <th>11</th>\n",
       "      <td>Strategy</td>\n",
       "      <td>172.57</td>\n",
       "      <td>673</td>\n",
       "      <td>0.256419</td>\n",
       "    </tr>\n",
       "    <tr>\n",
       "      <th>1</th>\n",
       "      <td>Adventure</td>\n",
       "      <td>233.33</td>\n",
       "      <td>1293</td>\n",
       "      <td>0.180456</td>\n",
       "    </tr>\n",
       "  </tbody>\n",
       "</table>\n",
       "</div>"
      ],
      "text/plain": [
       "           genre      sum  count      mean\n",
       "4       Platform   825.55    878  0.940262\n",
       "8        Shooter  1041.36   1296  0.803519\n",
       "7   Role-Playing   931.08   1481  0.628683\n",
       "6         Racing   723.49   1226  0.590122\n",
       "10        Sports  1309.67   2306  0.567940\n",
       "2       Fighting   442.66    837  0.528865\n",
       "0         Action  1716.52   3307  0.519057\n",
       "3           Misc   790.29   1721  0.459204\n",
       "9     Simulation   387.96    857  0.452695\n",
       "5         Puzzle   239.89    569  0.421599\n",
       "11      Strategy   172.57    673  0.256419\n",
       "1      Adventure   233.33   1293  0.180456"
      ]
     },
     "execution_count": 61,
     "metadata": {},
     "output_type": "execute_result"
    }
   ],
   "source": [
    "#Проанализируем продажи по жанрам видеоигр\n",
    "#общие продажи по каждому жанру, количество выпущенных игр в каждом жанре, а также средние продажи на игру в каждом жанре.\n",
    "# Сортируем по среднему значения\n",
    "ganre_stat = df.pivot_table(index='genre', values='total_sales', aggfunc=['sum', 'count', 'mean']).reset_index()\n",
    "ganre_stat.columns = ['genre', 'sum', 'count', 'mean']\n",
    "ganre_stat.sort_values(by = 'mean', ascending = False)"
   ]
  },
  {
   "cell_type": "raw",
   "metadata": {},
   "source": [
    "Вывод: \n",
    "- Больше всего суммарных продаж у жанра action, меньше всего puzzle\n",
    "- Самое большое количество продаж у жанра action, меньше всего puzzle\n",
    "- Среднее по продажам больше всего у жанра shooter, меньше всех у adventure"
   ]
  },
  {
   "cell_type": "markdown",
   "metadata": {},
   "source": [
    "<div class=\"alert alert-block alert-danger\">\n",
    " \n",
    "### Комментарий ревьюера\n",
    "    \n",
    "#### Ошибка\n",
    "    \n",
    "Высокие продажи могут быть вызваны не успехом, а просто огромным количеством игр. Вполне могут быть жанры, где игр немного, но при этом продажи сопоставимы с продажами Экшена. Чтобы проверить это, стоит рассмотреть средние или медианные продажи."
   ]
  },
  {
   "cell_type": "markdown",
   "metadata": {},
   "source": [
    "<div class=\"alert alert-block alert-info\">\n",
    " \n",
    "### Ответ ученика:\n",
    "\n",
    "Да действительно после составления таблицы по продажам, скоректировал вывод\n",
    "\n",
    "</div>"
   ]
  },
  {
   "cell_type": "markdown",
   "metadata": {},
   "source": [
    "<div class=\"alert alert-block alert-success\">\n",
    " \n",
    "# Комментарий ревьюера ver.2\n",
    "    \n",
    "#### Успех\n",
    "\n",
    "И выводы поменялись. Отлично"
   ]
  },
  {
   "cell_type": "markdown",
   "metadata": {},
   "source": [
    "Общий вывод: \n",
    "\n",
    "Наибольшее количество пиков выпуска игр приходится на 2008-2009 годы, после чего наблюдается снижение их числа. Основными платформами, показывающими высокий уровень продаж, являются PS2, X360 и PS3, в то время как PCFX демонстрирует наименьшие показатели. Новые игровые платформы появляются примерно раз в год, при этом старые постепенно теряют свою актуальность, за исключением Nintendo, которые прекратили использование в один год. В рамках анализа будут рассматриваться данные за период с 2013 по 2016 год.\n",
    "\n",
    "Анализ графика позволяет утверждать, что наиболее прибыльными платформами являются PS4 и XOne, хотя второй показатель существенно ниже, но все еще значителен. Был проведен анализ \"Ящика с усами\", который позволил оценить глобальные продажи игр в разрезе платформ.\n",
    "\n",
    "В целом по 5 плафтормам видно, что всегда есть зависимость от отзыва критиков, и на некоторых есть зависмость от пользователей\n",
    "\n",
    "В среднем, наибольшее количество продаж отмечается у игр жанров Shooter и Platform, в то время как наименьший показатель характерен для игр жанров Strategy и Adventure."
   ]
  },
  {
   "cell_type": "markdown",
   "metadata": {},
   "source": [
    "Прошу проверить до текущего момента и дать коментарии так как осталось мало время до дедлайна и хотелось бы понимать, что я сделал не так в предыдущих заданиях"
   ]
  },
  {
   "cell_type": "markdown",
   "metadata": {},
   "source": [
    "<div class=\"alert alert-block alert-success\">\n",
    " \n",
    "### Комментарий ревьюера\n",
    "    \n",
    "#### Успех\n",
    "\n",
    "Итоговый вывод получился достаточно хороший, но он будет более дополненный, когда сможешь доделать проект. "
   ]
  },
  {
   "cell_type": "markdown",
   "metadata": {},
   "source": [
    "###  Составьте портрет пользователя каждого региона"
   ]
  },
  {
   "cell_type": "markdown",
   "metadata": {},
   "source": [
    "Определите для пользователя каждого региона (NA, EU, JP):\n",
    "- Самые популярные платформы (топ-5). Опишите различия в долях продаж.\n",
    "- Самые популярные жанры (топ-5). Поясните разницу.\n",
    "- Влияет ли рейтинг ESRB на продажи в отдельном регионе?"
   ]
  },
  {
   "cell_type": "code",
   "execution_count": 41,
   "metadata": {},
   "outputs": [
    {
     "data": {
      "image/png": "[encoded data removed]",
      "text/plain": [
       "<Figure size 1080x360 with 3 Axes>"
      ]
     },
     "metadata": {
      "needs_background": "light"
     },
     "output_type": "display_data"
    }
   ],
   "source": [
    "# Рассмотрим Северную Америку \"NA\"\n",
    "# Группируем данные по платформам и суммируем продажи\n",
    "platform_sales = actual_data.groupby('platform')['na_sales'].sum().sort_values(ascending=False)\n",
    "\n",
    "# Группируем данные по жанрам и суммируем продажи\n",
    "genre_sales = actual_data.groupby('genre')['na_sales'].sum().sort_values(ascending=False)\n",
    "\n",
    "# Группируем данные по рейтингу ESRB и суммируем продажи\n",
    "rating_sales = actual_data.groupby('rating')['na_sales'].sum().sort_values(ascending=False)\n",
    "\n",
    "# Создаем фигуру с тремя панелями\n",
    "fig, axes = plt.subplots(1, 3, figsize=(15, 5))\n",
    "\n",
    "# Рисуем график продаж по платформам и добавляем легенду\n",
    "platform_sales.plot(kind='barh', legend=True, color='blue', ax=axes[0])\n",
    "axes[0].set_title('Продажи в зависимости от платформы')\n",
    "axes[0].set_ylabel('Платформа')\n",
    "axes[0].set_xlabel('Продажи')\n",
    "\n",
    "# Рисуем график продаж по жанрам и добавляем легенду\n",
    "genre_sales.plot(kind='barh', legend=True, color='green', ax=axes[1])\n",
    "axes[1].set_title('Продажи в зависимости от жанра')\n",
    "axes[1].set_ylabel('Жанр')\n",
    "axes[1].set_xlabel('Продажи')\n",
    "\n",
    "# Рисуем график продаж по рейтингам ESRB и добавляем легенду\n",
    "rating_sales.plot(kind='barh', legend=True, color='red', ax=axes[2])\n",
    "axes[2].set_title('Продажи в зависимости от рейтинга ESRB')\n",
    "axes[2].set_ylabel('Рейтинг')\n",
    "axes[2].set_xlabel('Продажи')\n",
    "\n",
    "# Показываем график\n",
    "plt.show()\n"
   ]
  },
  {
   "cell_type": "markdown",
   "metadata": {},
   "source": [
    "<div class=\"alert alert-block alert-success\">\n",
    " \n",
    "# Комментарий ревьюера ver.2\n",
    "    \n",
    "#### Успех\n",
    "\n",
    "Первичное представление по регионам мы получили. "
   ]
  },
  {
   "cell_type": "code",
   "execution_count": 42,
   "metadata": {},
   "outputs": [
    {
     "name": "stdout",
     "output_type": "stream",
     "text": [
      "Продажи по рейтингу в Северной Америке:\n",
      "rating\n",
      "M       165.21\n",
      "U        89.42\n",
      "E        79.05\n",
      "E10+     54.24\n",
      "T        49.79\n",
      "Name: na_sales, dtype: float64\n",
      "Продажи по жанрам в Северной Америке:\n",
      "genre\n",
      "Action          126.05\n",
      "Shooter         109.74\n",
      "Sports           65.27\n",
      "Role-Playing     46.40\n",
      "Misc             27.49\n",
      "Name: na_sales, dtype: float64\n",
      "Продажи по платформам в Северной Америке:\n",
      "platform\n",
      "PS4     108.74\n",
      "XOne     93.12\n",
      "X360     81.66\n",
      "PS3      63.50\n",
      "3DS      38.20\n",
      "Name: na_sales, dtype: float64\n"
     ]
    }
   ],
   "source": [
    "# Посмотрим на цифры в Северной Америке \"NA\"\n",
    "# Группируем данные по рейтингу и суммируем продажи в Северной Америке, затем сортируем\n",
    "rating_sales = actual_data.groupby('rating')['na_sales'].sum().sort_values(ascending=False).head(5)\n",
    "\n",
    "# Группируем данные по жанрам и суммируем продажи в Северной Америке, затем сортируем\n",
    "genre_sales = actual_data.groupby('genre')['na_sales'].sum().sort_values(ascending=False).head(5)\n",
    "\n",
    "# Группируем данные по платформам и суммируем продажи в Северной Америке, затем сортируем\n",
    "platform_sales = actual_data.groupby('platform')['na_sales'].sum().sort_values(ascending=False).head(5)\n",
    "\n",
    "# Выводим на экран\n",
    "print(\"Продажи по рейтингу в Северной Америке:\")\n",
    "print(rating_sales)\n",
    "print\n",
    "print(\"Продажи по жанрам в Северной Америке:\")\n",
    "print(genre_sales)\n",
    "print\n",
    "print(\"Продажи по платформам в Северной Америке:\")\n",
    "print(platform_sales)"
   ]
  },
  {
   "cell_type": "markdown",
   "metadata": {},
   "source": [
    "Вывод по Северной Америке:\n",
    "- Топ 5 жанров в Северной Америке за актуальный период: action, shooter, sports, role-playing, misc.\n",
    "- Топ 5 платформ в Северной Америке за актуальный период: PS4, XOne, X360, PS3, 3DS\n",
    "- Игры с рейтингом 17+ (М) продаются больше"
   ]
  },
  {
   "cell_type": "code",
   "execution_count": 43,
   "metadata": {},
   "outputs": [
    {
     "data": {
      "image/png": "[encoded data removed]",
      "text/plain": [
       "<Figure size 1080x360 with 3 Axes>"
      ]
     },
     "metadata": {
      "needs_background": "light"
     },
     "output_type": "display_data"
    }
   ],
   "source": [
    "# Рассмотрим Европу \"EU\"\n",
    "# Группируем данные по платформам и суммируем продажи\n",
    "platform_sales = actual_data.groupby('platform')['eu_sales'].sum().sort_values(ascending=False)\n",
    "\n",
    "# Группируем данные по жанрам и суммируем продажи\n",
    "genre_sales = actual_data.groupby('genre')['eu_sales'].sum().sort_values(ascending=False)\n",
    "\n",
    "# Группируем данные по рейтингу ESRB и суммируем продажи\n",
    "rating_sales = actual_data.groupby('rating')['eu_sales'].sum().sort_values(ascending=False)\n",
    "\n",
    "# Создаем фигуру с тремя панелями\n",
    "fig, axes = plt.subplots(1, 3, figsize=(15, 5))\n",
    "\n",
    "# Рисуем график продаж по платформам и добавляем легенду\n",
    "platform_sales.plot(kind='barh', legend=True, color='blue', ax=axes[0])\n",
    "axes[0].set_title('Продажи в зависимости от платформы')\n",
    "axes[0].set_ylabel('Платформа')\n",
    "axes[0].set_xlabel('Продажи')\n",
    "\n",
    "# Рисуем график продаж по жанрам и добавляем легенду\n",
    "genre_sales.plot(kind='barh', legend=True, color='green', ax=axes[1])\n",
    "axes[1].set_title('Продажи в зависимости от жанра')\n",
    "axes[1].set_ylabel('Жанр')\n",
    "axes[1].set_xlabel('Продажи')\n",
    "\n",
    "# Рисуем график продаж по рейтингам ESRB и добавляем легенду\n",
    "rating_sales.plot(kind='barh', legend=True, color='red', ax=axes[2])\n",
    "axes[2].set_title('Продажи в зависимости от рейтинга ESRB')\n",
    "axes[2].set_ylabel('Рейтинг')\n",
    "axes[2].set_xlabel('Продажи')\n",
    "\n",
    "# Показываем график\n",
    "plt.show()"
   ]
  },
  {
   "cell_type": "code",
   "execution_count": 44,
   "metadata": {},
   "outputs": [
    {
     "name": "stdout",
     "output_type": "stream",
     "text": [
      "Продажи по рейтингу в Северной Америке:\n",
      "rating\n",
      "M       145.32\n",
      "E        83.36\n",
      "U        78.91\n",
      "E10+     42.69\n",
      "T        41.95\n",
      "Name: eu_sales, dtype: float64\n",
      "Продажи по жанрам в Северной Америке:\n",
      "genre\n",
      "Action          118.13\n",
      "Shooter          87.86\n",
      "Sports           60.52\n",
      "Role-Playing     36.97\n",
      "Racing           20.19\n",
      "Name: eu_sales, dtype: float64\n",
      "Продажи по платформам в Северной Америке:\n",
      "platform\n",
      "PS4     141.09\n",
      "PS3      67.81\n",
      "XOne     51.59\n",
      "X360     42.52\n",
      "3DS      30.96\n",
      "Name: eu_sales, dtype: float64\n"
     ]
    }
   ],
   "source": [
    "# Посмотрим на цифры в Европе \"EU\"\n",
    "# Группируем данные по рейтингу и суммируем продажи в Северной Америке, затем сортируем\n",
    "rating_sales = actual_data.groupby('rating')['eu_sales'].sum().sort_values(ascending=False).head(5)\n",
    "\n",
    "# Группируем данные по жанрам и суммируем продажи в Северной Америке, затем сортируем\n",
    "genre_sales = actual_data.groupby('genre')['eu_sales'].sum().sort_values(ascending=False).head(5)\n",
    "\n",
    "# Группируем данные по платформам и суммируем продажи в Северной Америке, затем сортируем\n",
    "platform_sales = actual_data.groupby('platform')['eu_sales'].sum().sort_values(ascending=False).head(5)\n",
    "\n",
    "# Выводим на экран\n",
    "print(\"Продажи по рейтингу в Северной Америке:\")\n",
    "print(rating_sales)\n",
    "print\n",
    "print(\"Продажи по жанрам в Северной Америке:\")\n",
    "print(genre_sales)\n",
    "print\n",
    "print(\"Продажи по платформам в Северной Америке:\")\n",
    "print(platform_sales)\n"
   ]
  },
  {
   "cell_type": "markdown",
   "metadata": {},
   "source": [
    "Вывод по Европе:\n",
    "- Топ 5 жанров в Северной Америке за актуальный период: action, shooter, sports, role-playing, racing.\n",
    "- Топ 5 платформ в Северной Америке за актуальный период: PS4, PS3, XOne, X360, 3DS\n",
    "- Игры с рейтингом 17+ (М) продаются больше"
   ]
  },
  {
   "cell_type": "markdown",
   "metadata": {},
   "source": [
    "<div class=\"alert alert-block alert-success\">\n",
    " \n",
    "# Комментарий ревьюера ver.2\n",
    "    \n",
    "#### Успех\n",
    "\n",
    "Европа очень многим похожа на Северную Америку. "
   ]
  },
  {
   "cell_type": "code",
   "execution_count": 45,
   "metadata": {},
   "outputs": [
    {
     "data": {
      "image/png": "[encoded data removed]",
      "text/plain": [
       "<Figure size 1080x360 with 3 Axes>"
      ]
     },
     "metadata": {
      "needs_background": "light"
     },
     "output_type": "display_data"
    }
   ],
   "source": [
    "# Рассмотрим Японию \"JP\"\n",
    "# Группируем данные по платформам и суммируем продажи\n",
    "platform_sales = actual_data.groupby('platform')['jp_sales'].sum().sort_values(ascending=False)\n",
    "\n",
    "# Группируем данные по жанрам и суммируем продажи\n",
    "genre_sales = actual_data.groupby('genre')['jp_sales'].sum().sort_values(ascending=False)\n",
    "\n",
    "# Группируем данные по рейтингу ESRB и суммируем продажи\n",
    "rating_sales = actual_data.groupby('rating')['jp_sales'].sum().sort_values(ascending=False)\n",
    "\n",
    "# Создаем фигуру с тремя панелями\n",
    "fig, axes = plt.subplots(1, 3, figsize=(15, 5))\n",
    "\n",
    "# Рисуем график продаж по платформам и добавляем легенду\n",
    "platform_sales.plot(kind='barh', legend=True, color='blue', ax=axes[0])\n",
    "axes[0].set_title('Продажи в зависимости от платформы')\n",
    "axes[0].set_ylabel('Платформа')\n",
    "axes[0].set_xlabel('Продажи')\n",
    "\n",
    "# Рисуем график продаж по жанрам и добавляем легенду\n",
    "genre_sales.plot(kind='barh', legend=True, color='green', ax=axes[1])\n",
    "axes[1].set_title('Продажи в зависимости от жанра')\n",
    "axes[1].set_ylabel('Жанр')\n",
    "axes[1].set_xlabel('Продажи')\n",
    "\n",
    "# Рисуем график продаж по рейтингам ESRB и добавляем легенду\n",
    "rating_sales.plot(kind='barh', legend=True, color='red', ax=axes[2])\n",
    "axes[2].set_title('Продажи в зависимости от рейтинга ESRB')\n",
    "axes[2].set_ylabel('Рейтинг')\n",
    "axes[2].set_xlabel('Продажи')\n",
    "\n",
    "# Показываем график\n",
    "plt.show()"
   ]
  },
  {
   "cell_type": "code",
   "execution_count": 46,
   "metadata": {},
   "outputs": [
    {
     "name": "stdout",
     "output_type": "stream",
     "text": [
      "Продажи по рейтингу в Северной Америке:\n",
      "rating\n",
      "U       85.05\n",
      "T       20.59\n",
      "E       15.14\n",
      "M       14.11\n",
      "E10+     5.89\n",
      "Name: jp_sales, dtype: float64\n",
      "Продажи по жанрам в Северной Америке:\n",
      "genre\n",
      "Role-Playing    51.04\n",
      "Action          40.49\n",
      "Misc             9.20\n",
      "Fighting         7.65\n",
      "Shooter          6.61\n",
      "Name: jp_sales, dtype: float64\n",
      "Продажи по платформам в Северной Америке:\n",
      "platform\n",
      "3DS     67.81\n",
      "PS3     23.35\n",
      "PSV     18.59\n",
      "PS4     15.96\n",
      "WiiU    10.88\n",
      "Name: jp_sales, dtype: float64\n"
     ]
    }
   ],
   "source": [
    "# Посмотрим на цифры в Японии \"JP\"\n",
    "# Группируем данные по рейтингу и суммируем продажи в Северной Америке, затем сортируем\n",
    "rating_sales = actual_data.groupby('rating')['jp_sales'].sum().sort_values(ascending=False).head(5)\n",
    "\n",
    "# Группируем данные по жанрам и суммируем продажи в Северной Америке, затем сортируем\n",
    "genre_sales = actual_data.groupby('genre')['jp_sales'].sum().sort_values(ascending=False).head(5)\n",
    "\n",
    "# Группируем данные по платформам и суммируем продажи в Северной Америке, затем сортируем\n",
    "platform_sales = actual_data.groupby('platform')['jp_sales'].sum().sort_values(ascending=False).head(5)\n",
    "\n",
    "# Выводим на экран\n",
    "print(\"Продажи по рейтингу в Северной Америке:\")\n",
    "print(rating_sales)\n",
    "print\n",
    "print(\"Продажи по жанрам в Северной Америке:\")\n",
    "print(genre_sales)\n",
    "print\n",
    "print(\"Продажи по платформам в Северной Америке:\")\n",
    "print(platform_sales)"
   ]
  },
  {
   "cell_type": "markdown",
   "metadata": {},
   "source": [
    "Вывод по Японии:\n",
    "- Топ 5 жанров в Северной Америке за актуальный период:  role-playing, action, misc, fighting, shooter,\n",
    "- Топ 5 платформ в Северной Америке за актуальный период: 3DS, PS3, PSV, PS4, WiiU, \n",
    "- По рейтингу вышла заглушка, поэтому достоверно сказать по зависмости нельзя, но второе место занимают игры для тинейджеров"
   ]
  },
  {
   "cell_type": "markdown",
   "metadata": {},
   "source": [
    "<div class=\"alert alert-block alert-success\">\n",
    " \n",
    "# Комментарий ревьюера ver.2\n",
    "    \n",
    "#### Успех\n",
    "\n",
    "А вот Япония получилась наиболее уникальна среди регионов. Это точно стоит учитывать при прогнозе продаж на 2017"
   ]
  },
  {
   "cell_type": "raw",
   "metadata": {},
   "source": [
    "Общий вывод:\n",
    "- Рынок Америки и Европы схож по платформам, жанрам и рейтингу различи я не существенны. Здесь ключевую особеннность играет менталитет и ценности - они общие\n",
    "- Рынок Японии довольно сильно отличается по платформам и жанрам, но по рейтингу - достоверно не определить. По платформам предпочттение можно обосновать тем, что в данной стране находится фабрика по изготовлению, а значит стоимость и доступность - гораздо лучше. "
   ]
  },
  {
   "cell_type": "markdown",
   "metadata": {},
   "source": [
    "### Проверьте гипотезы"
   ]
  },
  {
   "cell_type": "markdown",
   "metadata": {},
   "source": [
    "- Средние пользовательские рейтинги платформ Xbox One и PC одинаковые;\n",
    "- Средние пользовательские рейтинги жанров Action (англ. «действие», экшен-игры) и Sports (англ. «спортивные соревнования») разные.\n",
    "- Задайте самостоятельно пороговое значение alpha.\n",
    "Поясните:\n",
    "- Как вы сформулировали нулевую и альтернативную гипотезы;\n",
    "- Какой критерий применили для проверки гипотез и почему."
   ]
  },
  {
   "cell_type": "markdown",
   "metadata": {},
   "source": [
    "Для сравнения средних пользовательских рейтингов двух платформ, Xbox One и PC, нулевая гипотеза (H₀) предполагает, что нет статистически значимой разницы между средними пользовательскими рейтингами игр на этих платформах:\n",
    "\n",
    "H₀: μXboxOne = μPC\n",
    "\n",
    "где μXboxOne - средний пользовательский рейтинг игр на платформе Xbox One, а μPC - средний пользовательский рейтинг игр на платформе PC.\n",
    "\n",
    "Альтернативная гипотеза (H₁) утверждает, что существует статистически значимая разница между этими средними:\n",
    "\n",
    "H₁: μXboxOne ≠ μPC"
   ]
  },
  {
   "cell_type": "code",
   "execution_count": 55,
   "metadata": {
    "scrolled": true
   },
   "outputs": [
    {
     "name": "stdout",
     "output_type": "stream",
     "text": [
      "p-value: 0.24875948537089854\n",
      "Нет оснований отвергнуть нулевую гипотезу\n"
     ]
    }
   ],
   "source": [
    "results = st.ttest_ind(actual_data.query('platform == \"PC\" and user_score != \"U\"')['user_score'].astype('float'), actual_data.query('platform == \"XOne\" and user_score != \"U\"')['user_score'].astype('float'))\n",
    "\n",
    "alpha = 0.05 #Задаём уровень статистической важности\n",
    "print(f'p-value: {results.pvalue}')\n",
    "if results.pvalue < alpha:\n",
    "    print('Отвергаем нулевую гипотезу.')\n",
    "else:\n",
    "    print('Нет оснований отвергнуть нулевую гипотезу')"
   ]
  },
  {
   "cell_type": "markdown",
   "metadata": {},
   "source": [
    "Вывод: Мы провели проверку гипотезы и не смогли опровергнуть предположение о том, что средние оценки платформ XboxOne и PC идентичны."
   ]
  },
  {
   "cell_type": "markdown",
   "metadata": {},
   "source": [
    "<div class=\"alert alert-block alert-success\">\n",
    " \n",
    "# Комментарий ревьюера ver.2\n",
    "    \n",
    "#### Успех\n",
    "\n",
    "Гипотезы сформулированы и верно определен метод проверки. Здорово"
   ]
  },
  {
   "cell_type": "markdown",
   "metadata": {},
   "source": [
    "Нулевая гипотеза (H₀) обычно формулируется так, чтобы указывать на отсутствие различия или эффекта. В данном случае, средние пользовательские рейтинги для жанров action и sports одинаковы. Математически это можно представить как:\n",
    "\n",
    "H₀: μaction = μsports\n",
    "\n",
    "где μaction – средний пользовательский рейтинг для жанра action, а μsports – средний пользовательский рейтинг для жанра sports.\n",
    "\n",
    "Альтернативная гипотеза (H₁) формулируется так, чтобы предположить наличие различия. В вашем случае, альтернативная гипотеза утверждает, что средние пользовательские рейтинги жанров action и sports различаются:\n",
    "\n",
    "H₁: μaction ≠ μsports"
   ]
  },
  {
   "cell_type": "code",
   "execution_count": 56,
   "metadata": {},
   "outputs": [
    {
     "name": "stdout",
     "output_type": "stream",
     "text": [
      "p-value: 0.09074207113403263\n",
      "Нет оснований отвергнуть нулевую гипотезу\n"
     ]
    }
   ],
   "source": [
    "results = st.ttest_ind(actual_data.query('genre == \"Action\" and user_score != \"U\"')['user_score'].astype('float'), actual_data.query('genre == \"Sports\"and user_score != \"U\"')['user_score'].astype('float'))\n",
    "\n",
    "alpha = 0.05 #Задаём уровень статистической важности\n",
    "print(f'p-value: {results.pvalue}')\n",
    "if results.pvalue < alpha:\n",
    "    print('Отвергаем нулевую гипотезу.')\n",
    "else:\n",
    "    print('Нет оснований отвергнуть нулевую гипотезу')"
   ]
  },
  {
   "cell_type": "markdown",
   "metadata": {},
   "source": [
    "Вывод: Мы провели проверку гипотезы и не смогли опровергнуть предположение о том, что средние пользовательские рейтинги жанров Action и sports одинаковы"
   ]
  },
  {
   "cell_type": "markdown",
   "metadata": {},
   "source": [
    "Для проверки гипотез мы использовали функцию scipy.stats.ttest_ind, так как у нас имеются две независимые выборки, средние значения которых мы хотим сравнить."
   ]
  },
  {
   "cell_type": "markdown",
   "metadata": {},
   "source": [
    "<div class=\"alert alert-block alert-success\">\n",
    " \n",
    "# Комментарий ревьюера ver.2\n",
    "    \n",
    "#### Успех\n",
    "\n",
    "И с этой гипотезой проблем нет"
   ]
  },
  {
   "cell_type": "markdown",
   "metadata": {},
   "source": [
    "### Общий вывод:"
   ]
  },
  {
   "cell_type": "markdown",
   "metadata": {},
   "source": [
    "Этап 1: Первичный анализ данных\n",
    "\n",
    "В ходе первичного анализа были обнаружены следующие проблемы в данных:\n",
    "1. Наличие многочисленных пропусков.\n",
    "2. Значения в столбце YearofRelease не соответствуют формату даты.\n",
    "3. Формат данных в столбцах User_Score и Rating оказался некорректным.\n",
    "4. Неконсистентность регистра в названиях столбцов.\n",
    "\n",
    "Этап 2: Обработка и подготовка данных\n",
    "\n",
    "На этапе подготовки данных были выполнены следующие действия:\n",
    "- Пропуски были проанализированы; учитывая их значительное количество, удаление строк с пропусками было признано недопустимым. Вместо этого было решено заменить пропущенные значения в рейтинге на 0, основываясь на предположении, что пропуски могли быть вызваны техническим сбоем или наличием аббревиатуры \"TBD\" (To be determined).\n",
    "- Проверка официального сайта ESRB показала, что все игры имеют различный рейтинг, что указывает на проблемы с выгрузкой данных. В связи с этим было принято решение заменить некорректные значения рейтинга на \"U\" (unknown).\n",
    "- Столбец YearofRelease был приведен к соответствующему формату.\n",
    "- Типы данных в колонках были унифицированы для обеспечения консистентности.\n",
    "- В датасет была добавлена новая колонка с суммарными продажами, что позволит более полно оценить коммерческий успех игр.\n",
    "\n",
    "Этап 3: Исследовательский анализ данных\n",
    "\n",
    "В ходе исследования были сделаны следующие основные выводы:\n",
    "\n",
    "- Анализ динамики продаж показал отсутствие значительного движения до 1990 года, взлёт начиная с 1991 года и резкий спад после 2011 года. Это требует дополнительного изучения причин таких изменений на рынке.\n",
    "- PS2 и Xbox 360 выделяются как наиболее популярные платформы в датасете, а средний жизненный цикл платформы составляет примерно 7 лет и 7 месяцев.\n",
    "- С 2013 по 2016 год в тренде оказались PS4 и Xbox One, в то время как продажи PSP прекратились в 2015 году, а Wii хоть и показывает низкий уровень продаж, но всё ещё присутствует на рынке.\n",
    "- Анализ \"ящика с усами\" и графиков без выбросов позволил установить, что рейтинги критиков оказывают заметное влияние на продажи, в то время как корреляция с оценками пользователей не столь выражена.\n",
    "- Жанр Action доминирует в выборке с 20%, в то время как Puzzle составляет всего 3,5%.\n",
    "- Пик выпуска игр пришёлся на 2008-2009 годы, после чего наблюдается спад. PS2, X360 и PS3 являются лидерами по продажам, PCFX же показывает минимальные результаты.\n",
    "- Новые платформы появляются примерно ежегодно, но старые со временем утрачивают актуальность, за исключением Nintendo, которые прекратили использование сразу.\n",
    "- PS4 и XOne являются самыми прибыльными платформами на рассматриваемом временном отрезке, существенно опережая другие платформы.\n",
    "- Жанры Shooter и Platform в среднем показывают наибольшие продажи, в то время как Strategy и Adventure оказываются на противоположном конце спектра.\n",
    "\n",
    "Исходя из вышеизложенного, можно сделать вывод, что анализ рынка видеоигр показывает предпочтения пользователей, которые могут быть полезны для прогнозирования будущих тенденций. Однако для более глубокого понимания рынка необходимо учитывать множество других факторов, включая маркетинговые кампании, экономическую ситуацию и технологическое развитие индустрии.\n",
    "\n",
    "Этап 4:  Составьте портрет пользователя каждого региона\n",
    "\n",
    "Из анализа рынка видеоигр по регионам можно сформировать следующие ключевые выводы:\n",
    "\n",
    "- Общие тенденции в Северной Америке и Европе: В обоих регионах наблюдается схожесть в предпочтениях по жанрам и платформам. Топ-5 жанров включает action, shooter, sports и role-playing, что указывает на высокий спрос на динамичные и энергичные игры. Среди платформ лидируют PS4 и XOne, что подчёркивает популярность современных консолей. Также в обоих регионах игры с рейтингом 17+ (М) пользуются большей популярностью, что может свидетельствовать о том, что основная аудитория состоит из взрослых игроков.\n",
    "\n",
    "- Особенности рынка Японии: Рынок Японии выделяется уникальными предпочтениями как по платформам, так и по жанрам. Здесь на первом месте стоят role-playing игры, что отражает культурные особенности и интересы местной аудитории. Среди платформ особенно популярны портативные устройства (3DS, PSV), что может быть связано с образом жизни населения, предпочитающего мобильность и доступность игр в любое время. Отсутствие чёткой зависимости продаж от рейтинга в Японии может указывать на различия в системе оценок или на особенности восприятия контента игроками.\n",
    "\n",
    "- Менталитет и культурные ценности как ключ к пониманию рынка: Различия между рынками Америки, Европы и Японии подчёркивают важность учёта культурных и ментальных особенностей при анализе и прогнозировании продаж. В то время как в Америке и Европе преобладает спрос на динамичные и агрессивные игры с высоким рейтингом, в Японии большую популярность имеют ролевые игры и портативные платформы, что отражает уникальность местного рынка.\n",
    "\n",
    "В целом, анализ показывает, что для успешного прогнозирования продаж и разработки стратегий на разных рынках необходимо глубоко понимать культурные и социальные особенности аудитории, а также следить за технологическими тенденциями и изменениями в предпочтениях игроков.\n",
    "\n",
    "Этап 5 Проверьте гипотезы\n",
    "\n",
    "В процессе статистического анализа были проведены тесты для сравнения средних пользовательских рейтингов между различными платформами и жанрами. \n",
    "\n",
    "Сравнение платформ Xbox One и PC:\n",
    "По результатам теста не было обнаружено статистически значимых различий в средних пользовательских рейтингах между играми на платформах Xbox One и PC (p-value: 0.24875948537089854). Это означает, что с уровнем значимости, который обычно принимается за 0.05, нет достаточных оснований отвергнуть нулевую гипотезу о равенстве средних рейтингов. Следовательно, мы можем предполагать, что пользовательское восприятие игр на этих платформах схоже.\n",
    "\n",
    "Сравнение жанров Action и Sports:\n",
    "Аналогично, при сравнении средних пользовательских рейтингов жанров Action и Sports, статистически значимых различий выявлено не было (p-value: 0.09074207113403263). Это означает, что с принятым уровнем значимости мы не имеем оснований отвергать нулевую гипотезу о равенстве средних рейтингов для этих жанров."
   ]
  },
  {
   "cell_type": "markdown",
   "metadata": {},
   "source": [
    "<div class=\"alert alert-block alert-danger\">\n",
    " \n",
    "# Комментарий ревьюера ver.2\n",
    "    \n",
    "#### Ошибка\n",
    "\n",
    "Теперь жду итоговый вывод"
   ]
  }
 ],
 "metadata": {
  "ExecuteTimeLog": [
   {
    "duration": 1426,
    "start_time": "2024-05-31T14:49:10.583Z"
   },
   {
    "duration": 107,
    "start_time": "2024-05-31T14:50:39.631Z"
   },
   {
    "duration": 18,
    "start_time": "2024-05-31T14:50:57.571Z"
   },
   {
    "duration": 16,
    "start_time": "2024-05-31T14:51:36.224Z"
   },
   {
    "duration": 22,
    "start_time": "2024-05-31T14:56:37.160Z"
   },
   {
    "duration": 19,
    "start_time": "2024-05-31T14:56:46.207Z"
   },
   {
    "duration": 30,
    "start_time": "2024-05-31T14:57:42.847Z"
   },
   {
    "duration": 42,
    "start_time": "2024-06-01T06:44:52.684Z"
   },
   {
    "duration": 1208,
    "start_time": "2024-06-01T06:45:00.156Z"
   },
   {
    "duration": 102,
    "start_time": "2024-06-01T06:45:01.366Z"
   },
   {
    "duration": 12,
    "start_time": "2024-06-01T06:45:02.163Z"
   },
   {
    "duration": 15,
    "start_time": "2024-06-01T06:45:02.771Z"
   },
   {
    "duration": 22,
    "start_time": "2024-06-01T06:45:03.283Z"
   },
   {
    "duration": 3,
    "start_time": "2024-06-01T06:45:05.186Z"
   },
   {
    "duration": 54,
    "start_time": "2024-06-01T06:45:58.563Z"
   },
   {
    "duration": 3,
    "start_time": "2024-06-01T06:46:06.819Z"
   },
   {
    "duration": 21,
    "start_time": "2024-06-01T06:50:53.388Z"
   },
   {
    "duration": 7,
    "start_time": "2024-06-01T06:51:10.660Z"
   },
   {
    "duration": 6,
    "start_time": "2024-06-01T06:51:41.653Z"
   },
   {
    "duration": 7,
    "start_time": "2024-06-01T06:53:34.796Z"
   },
   {
    "duration": 3,
    "start_time": "2024-06-01T06:53:36.875Z"
   },
   {
    "duration": 4,
    "start_time": "2024-06-01T06:53:37.635Z"
   },
   {
    "duration": 12,
    "start_time": "2024-06-01T06:57:04.585Z"
   },
   {
    "duration": 4,
    "start_time": "2024-06-01T06:57:42.281Z"
   },
   {
    "duration": 5,
    "start_time": "2024-06-01T06:57:52.121Z"
   },
   {
    "duration": 7,
    "start_time": "2024-06-01T06:58:11.032Z"
   },
   {
    "duration": 4,
    "start_time": "2024-06-01T06:58:19.993Z"
   },
   {
    "duration": 7,
    "start_time": "2024-06-01T07:00:24.183Z"
   },
   {
    "duration": 7,
    "start_time": "2024-06-01T07:00:33.023Z"
   },
   {
    "duration": 8,
    "start_time": "2024-06-01T07:08:48.837Z"
   },
   {
    "duration": 3,
    "start_time": "2024-06-01T07:09:23.598Z"
   },
   {
    "duration": 284,
    "start_time": "2024-06-01T07:10:48.630Z"
   },
   {
    "duration": 88,
    "start_time": "2024-06-01T07:11:49.293Z"
   },
   {
    "duration": 4,
    "start_time": "2024-06-01T07:12:56.933Z"
   },
   {
    "duration": 7,
    "start_time": "2024-06-01T07:17:16.149Z"
   },
   {
    "duration": 8,
    "start_time": "2024-06-01T07:17:22.014Z"
   },
   {
    "duration": 7,
    "start_time": "2024-06-01T07:32:04.299Z"
   },
   {
    "duration": 9,
    "start_time": "2024-06-01T07:37:07.943Z"
   },
   {
    "duration": 6,
    "start_time": "2024-06-01T07:39:39.647Z"
   },
   {
    "duration": 4,
    "start_time": "2024-06-01T07:39:48.927Z"
   },
   {
    "duration": 1309,
    "start_time": "2024-06-03T16:02:11.701Z"
   },
   {
    "duration": 201,
    "start_time": "2024-06-03T16:02:13.012Z"
   },
   {
    "duration": 14,
    "start_time": "2024-06-03T16:02:14.109Z"
   },
   {
    "duration": 19,
    "start_time": "2024-06-03T16:02:14.805Z"
   },
   {
    "duration": 27,
    "start_time": "2024-06-03T16:02:15.516Z"
   },
   {
    "duration": 10,
    "start_time": "2024-06-03T16:02:16.908Z"
   },
   {
    "duration": 3,
    "start_time": "2024-06-03T16:02:26.196Z"
   },
   {
    "duration": 4,
    "start_time": "2024-06-03T16:02:26.844Z"
   },
   {
    "duration": 8,
    "start_time": "2024-06-03T16:02:27.436Z"
   },
   {
    "duration": 5,
    "start_time": "2024-06-03T16:02:28.004Z"
   },
   {
    "duration": 7,
    "start_time": "2024-06-03T16:02:28.508Z"
   },
   {
    "duration": 7,
    "start_time": "2024-06-03T16:02:28.996Z"
   },
   {
    "duration": 5,
    "start_time": "2024-06-03T16:02:29.540Z"
   },
   {
    "duration": 5,
    "start_time": "2024-06-03T16:15:50.608Z"
   },
   {
    "duration": 4,
    "start_time": "2024-06-03T16:16:09.967Z"
   },
   {
    "duration": 5,
    "start_time": "2024-06-03T16:16:33.743Z"
   },
   {
    "duration": 5,
    "start_time": "2024-06-03T16:18:59.336Z"
   },
   {
    "duration": 8,
    "start_time": "2024-06-03T16:19:05.423Z"
   },
   {
    "duration": 3,
    "start_time": "2024-06-03T16:21:14.640Z"
   },
   {
    "duration": 8,
    "start_time": "2024-06-03T16:21:20.112Z"
   },
   {
    "duration": 4,
    "start_time": "2024-06-03T16:24:14.936Z"
   },
   {
    "duration": 10,
    "start_time": "2024-06-03T16:24:53.104Z"
   },
   {
    "duration": 5,
    "start_time": "2024-06-03T16:25:41.897Z"
   },
   {
    "duration": 5,
    "start_time": "2024-06-03T16:26:34.112Z"
   },
   {
    "duration": 4,
    "start_time": "2024-06-03T16:27:07.529Z"
   },
   {
    "duration": 107,
    "start_time": "2024-06-03T16:32:09.283Z"
   },
   {
    "duration": 7,
    "start_time": "2024-06-03T16:32:22.194Z"
   },
   {
    "duration": 5,
    "start_time": "2024-06-03T16:34:04.371Z"
   },
   {
    "duration": 5,
    "start_time": "2024-06-03T16:34:34.586Z"
   },
   {
    "duration": 21,
    "start_time": "2024-06-03T16:34:56.691Z"
   },
   {
    "duration": 55,
    "start_time": "2024-06-03T16:40:11.819Z"
   },
   {
    "duration": 21,
    "start_time": "2024-06-03T16:40:18.804Z"
   },
   {
    "duration": 4,
    "start_time": "2024-06-03T16:44:20.653Z"
   },
   {
    "duration": 8,
    "start_time": "2024-06-03T16:44:45.980Z"
   },
   {
    "duration": 8,
    "start_time": "2024-06-03T16:44:56.292Z"
   },
   {
    "duration": 15,
    "start_time": "2024-06-03T16:47:01.077Z"
   },
   {
    "duration": 5,
    "start_time": "2024-06-03T16:47:28.405Z"
   },
   {
    "duration": 15,
    "start_time": "2024-06-03T16:47:34.172Z"
   },
   {
    "duration": 1117,
    "start_time": "2024-06-03T16:47:52.275Z"
   },
   {
    "duration": 53,
    "start_time": "2024-06-03T16:47:53.393Z"
   },
   {
    "duration": 14,
    "start_time": "2024-06-03T16:47:53.447Z"
   },
   {
    "duration": 16,
    "start_time": "2024-06-03T16:47:53.463Z"
   },
   {
    "duration": 26,
    "start_time": "2024-06-03T16:47:53.480Z"
   },
   {
    "duration": 8,
    "start_time": "2024-06-03T16:47:53.508Z"
   },
   {
    "duration": 3,
    "start_time": "2024-06-03T16:47:53.517Z"
   },
   {
    "duration": 11,
    "start_time": "2024-06-03T16:47:53.521Z"
   },
   {
    "duration": 8,
    "start_time": "2024-06-03T16:47:53.533Z"
   },
   {
    "duration": 4,
    "start_time": "2024-06-03T16:47:53.543Z"
   },
   {
    "duration": 7,
    "start_time": "2024-06-03T16:47:53.548Z"
   },
   {
    "duration": 6,
    "start_time": "2024-06-03T16:47:53.556Z"
   },
   {
    "duration": 37,
    "start_time": "2024-06-03T16:47:53.564Z"
   },
   {
    "duration": 4,
    "start_time": "2024-06-03T16:47:53.603Z"
   },
   {
    "duration": 4,
    "start_time": "2024-06-03T16:47:53.608Z"
   },
   {
    "duration": 7,
    "start_time": "2024-06-03T16:47:53.613Z"
   },
   {
    "duration": 4,
    "start_time": "2024-06-03T16:47:53.621Z"
   },
   {
    "duration": 8,
    "start_time": "2024-06-03T16:47:53.626Z"
   },
   {
    "duration": 22,
    "start_time": "2024-06-03T16:47:53.635Z"
   },
   {
    "duration": 41,
    "start_time": "2024-06-03T16:47:53.658Z"
   },
   {
    "duration": 5,
    "start_time": "2024-06-03T16:47:53.701Z"
   },
   {
    "duration": 4,
    "start_time": "2024-06-03T16:50:26.844Z"
   },
   {
    "duration": 89,
    "start_time": "2024-06-03T16:51:29.716Z"
   },
   {
    "duration": 12,
    "start_time": "2024-06-03T16:51:34.372Z"
   },
   {
    "duration": 14,
    "start_time": "2024-06-03T16:51:39.747Z"
   },
   {
    "duration": 1122,
    "start_time": "2024-06-03T16:52:03.470Z"
   },
   {
    "duration": 54,
    "start_time": "2024-06-03T16:52:04.594Z"
   },
   {
    "duration": 14,
    "start_time": "2024-06-03T16:52:04.649Z"
   },
   {
    "duration": 17,
    "start_time": "2024-06-03T16:52:04.665Z"
   },
   {
    "duration": 27,
    "start_time": "2024-06-03T16:52:04.684Z"
   },
   {
    "duration": 9,
    "start_time": "2024-06-03T16:52:04.712Z"
   },
   {
    "duration": 4,
    "start_time": "2024-06-03T16:52:04.722Z"
   },
   {
    "duration": 5,
    "start_time": "2024-06-03T16:52:04.727Z"
   },
   {
    "duration": 8,
    "start_time": "2024-06-03T16:52:04.733Z"
   },
   {
    "duration": 3,
    "start_time": "2024-06-03T16:52:04.743Z"
   },
   {
    "duration": 8,
    "start_time": "2024-06-03T16:52:04.747Z"
   },
   {
    "duration": 47,
    "start_time": "2024-06-03T16:52:04.757Z"
   },
   {
    "duration": 4,
    "start_time": "2024-06-03T16:52:04.806Z"
   },
   {
    "duration": 4,
    "start_time": "2024-06-03T16:52:04.813Z"
   },
   {
    "duration": 4,
    "start_time": "2024-06-03T16:52:04.819Z"
   },
   {
    "duration": 6,
    "start_time": "2024-06-03T16:52:04.825Z"
   },
   {
    "duration": 4,
    "start_time": "2024-06-03T16:52:04.832Z"
   },
   {
    "duration": 6,
    "start_time": "2024-06-03T16:52:04.838Z"
   },
   {
    "duration": 68,
    "start_time": "2024-06-03T16:52:04.845Z"
   },
   {
    "duration": 5,
    "start_time": "2024-06-03T16:52:04.914Z"
   },
   {
    "duration": 6,
    "start_time": "2024-06-03T16:52:04.920Z"
   },
   {
    "duration": 14,
    "start_time": "2024-06-03T16:52:11.196Z"
   },
   {
    "duration": 12,
    "start_time": "2024-06-03T16:53:18.140Z"
   },
   {
    "duration": 5,
    "start_time": "2024-06-03T16:59:01.004Z"
   },
   {
    "duration": 16,
    "start_time": "2024-06-03T16:59:30.892Z"
   },
   {
    "duration": 1118,
    "start_time": "2024-06-03T17:05:03.171Z"
   },
   {
    "duration": 52,
    "start_time": "2024-06-03T17:05:04.290Z"
   },
   {
    "duration": 13,
    "start_time": "2024-06-03T17:05:04.344Z"
   },
   {
    "duration": 19,
    "start_time": "2024-06-03T17:05:04.359Z"
   },
   {
    "duration": 29,
    "start_time": "2024-06-03T17:05:04.379Z"
   },
   {
    "duration": 9,
    "start_time": "2024-06-03T17:05:04.409Z"
   },
   {
    "duration": 4,
    "start_time": "2024-06-03T17:05:04.419Z"
   },
   {
    "duration": 9,
    "start_time": "2024-06-03T17:05:04.424Z"
   },
   {
    "duration": 8,
    "start_time": "2024-06-03T17:05:04.434Z"
   },
   {
    "duration": 7,
    "start_time": "2024-06-03T17:05:04.443Z"
   },
   {
    "duration": 11,
    "start_time": "2024-06-03T17:05:04.452Z"
   },
   {
    "duration": 37,
    "start_time": "2024-06-03T17:05:04.464Z"
   },
   {
    "duration": 5,
    "start_time": "2024-06-03T17:05:04.503Z"
   },
   {
    "duration": 6,
    "start_time": "2024-06-03T17:05:04.510Z"
   },
   {
    "duration": 5,
    "start_time": "2024-06-03T17:05:04.517Z"
   },
   {
    "duration": 5,
    "start_time": "2024-06-03T17:05:04.523Z"
   },
   {
    "duration": 5,
    "start_time": "2024-06-03T17:05:04.529Z"
   },
   {
    "duration": 9,
    "start_time": "2024-06-03T17:05:04.535Z"
   },
   {
    "duration": 55,
    "start_time": "2024-06-03T17:05:04.545Z"
   },
   {
    "duration": 4,
    "start_time": "2024-06-03T17:05:04.602Z"
   },
   {
    "duration": 5,
    "start_time": "2024-06-03T17:05:04.607Z"
   },
   {
    "duration": 4,
    "start_time": "2024-06-03T17:05:04.614Z"
   },
   {
    "duration": 19,
    "start_time": "2024-06-03T17:05:04.619Z"
   },
   {
    "duration": 8,
    "start_time": "2024-06-03T17:10:39.670Z"
   },
   {
    "duration": 6,
    "start_time": "2024-06-03T17:11:47.318Z"
   },
   {
    "duration": 268,
    "start_time": "2024-06-03T17:14:00.375Z"
   },
   {
    "duration": 220,
    "start_time": "2024-06-03T17:14:23.767Z"
   },
   {
    "duration": 265,
    "start_time": "2024-06-03T17:14:34.350Z"
   },
   {
    "duration": 288,
    "start_time": "2024-06-03T17:14:45.694Z"
   },
   {
    "duration": 257,
    "start_time": "2024-06-03T17:15:30.327Z"
   },
   {
    "duration": 240,
    "start_time": "2024-06-03T17:17:50.832Z"
   },
   {
    "duration": 7,
    "start_time": "2024-06-03T17:24:26.002Z"
   },
   {
    "duration": 270,
    "start_time": "2024-06-03T17:26:56.539Z"
   },
   {
    "duration": 55,
    "start_time": "2024-06-03T17:30:45.172Z"
   },
   {
    "duration": 96,
    "start_time": "2024-06-03T17:30:53.308Z"
   },
   {
    "duration": 296,
    "start_time": "2024-06-03T17:31:04.613Z"
   },
   {
    "duration": 225,
    "start_time": "2024-06-03T17:34:25.022Z"
   },
   {
    "duration": 32,
    "start_time": "2024-06-03T17:37:01.559Z"
   },
   {
    "duration": 34,
    "start_time": "2024-06-03T17:38:30.447Z"
   },
   {
    "duration": 342,
    "start_time": "2024-06-03T17:53:39.227Z"
   },
   {
    "duration": 308,
    "start_time": "2024-06-03T17:57:40.213Z"
   },
   {
    "duration": 464,
    "start_time": "2024-06-03T18:07:44.439Z"
   },
   {
    "duration": 539,
    "start_time": "2024-06-03T18:07:55.071Z"
   },
   {
    "duration": 434,
    "start_time": "2024-06-03T18:08:04.239Z"
   },
   {
    "duration": 446,
    "start_time": "2024-06-03T18:08:11.863Z"
   },
   {
    "duration": 399,
    "start_time": "2024-06-03T18:08:25.487Z"
   },
   {
    "duration": 299,
    "start_time": "2024-06-03T18:08:50.368Z"
   },
   {
    "duration": 456,
    "start_time": "2024-06-03T18:10:47.088Z"
   },
   {
    "duration": 478,
    "start_time": "2024-06-03T18:12:25.632Z"
   },
   {
    "duration": 516,
    "start_time": "2024-06-03T18:17:56.666Z"
   },
   {
    "duration": 417,
    "start_time": "2024-06-03T18:25:21.252Z"
   },
   {
    "duration": 67,
    "start_time": "2024-06-03T18:27:37.013Z"
   },
   {
    "duration": 1086,
    "start_time": "2024-06-03T18:55:21.744Z"
   },
   {
    "duration": 54,
    "start_time": "2024-06-03T18:55:22.832Z"
   },
   {
    "duration": 13,
    "start_time": "2024-06-03T18:55:22.887Z"
   },
   {
    "duration": 16,
    "start_time": "2024-06-03T18:55:22.902Z"
   },
   {
    "duration": 25,
    "start_time": "2024-06-03T18:55:22.919Z"
   },
   {
    "duration": 8,
    "start_time": "2024-06-03T18:55:22.946Z"
   },
   {
    "duration": 3,
    "start_time": "2024-06-03T18:55:22.955Z"
   },
   {
    "duration": 4,
    "start_time": "2024-06-03T18:55:22.959Z"
   },
   {
    "duration": 36,
    "start_time": "2024-06-03T18:55:22.965Z"
   },
   {
    "duration": 4,
    "start_time": "2024-06-03T18:55:23.003Z"
   },
   {
    "duration": 11,
    "start_time": "2024-06-03T18:55:23.009Z"
   },
   {
    "duration": 9,
    "start_time": "2024-06-03T18:55:23.021Z"
   },
   {
    "duration": 11,
    "start_time": "2024-06-03T18:55:23.031Z"
   },
   {
    "duration": 5,
    "start_time": "2024-06-03T18:55:23.044Z"
   },
   {
    "duration": 5,
    "start_time": "2024-06-03T18:55:23.051Z"
   },
   {
    "duration": 6,
    "start_time": "2024-06-03T18:55:23.058Z"
   },
   {
    "duration": 37,
    "start_time": "2024-06-03T18:55:23.065Z"
   },
   {
    "duration": 6,
    "start_time": "2024-06-03T18:55:23.104Z"
   },
   {
    "duration": 22,
    "start_time": "2024-06-03T18:55:23.111Z"
   },
   {
    "duration": 5,
    "start_time": "2024-06-03T18:55:23.134Z"
   },
   {
    "duration": 9,
    "start_time": "2024-06-03T18:55:23.141Z"
   },
   {
    "duration": 8,
    "start_time": "2024-06-03T18:55:23.152Z"
   },
   {
    "duration": 52,
    "start_time": "2024-06-03T18:55:23.161Z"
   },
   {
    "duration": 7,
    "start_time": "2024-06-03T18:55:23.215Z"
   },
   {
    "duration": 271,
    "start_time": "2024-06-03T18:55:23.224Z"
   },
   {
    "duration": 7,
    "start_time": "2024-06-03T18:55:23.499Z"
   },
   {
    "duration": 288,
    "start_time": "2024-06-03T18:55:23.508Z"
   },
   {
    "duration": 231,
    "start_time": "2024-06-03T18:55:23.800Z"
   },
   {
    "duration": 45,
    "start_time": "2024-06-03T18:55:24.032Z"
   },
   {
    "duration": 325,
    "start_time": "2024-06-03T18:55:24.099Z"
   },
   {
    "duration": 558,
    "start_time": "2024-06-03T18:55:24.426Z"
   },
   {
    "duration": 456,
    "start_time": "2024-06-03T18:55:24.986Z"
   },
   {
    "duration": 48,
    "start_time": "2024-06-03T19:01:38.166Z"
   },
   {
    "duration": 4,
    "start_time": "2024-06-03T19:01:47.998Z"
   },
   {
    "duration": 4,
    "start_time": "2024-06-03T19:10:52.974Z"
   },
   {
    "duration": 130,
    "start_time": "2024-06-03T19:12:14.247Z"
   },
   {
    "duration": 95,
    "start_time": "2024-06-03T19:13:29.928Z"
   },
   {
    "duration": 5,
    "start_time": "2024-06-03T19:13:34.615Z"
   },
   {
    "duration": 183,
    "start_time": "2024-06-03T19:13:35.903Z"
   },
   {
    "duration": 167,
    "start_time": "2024-06-03T19:15:28.888Z"
   },
   {
    "duration": 4,
    "start_time": "2024-06-03T19:16:25.104Z"
   },
   {
    "duration": 129,
    "start_time": "2024-06-03T19:16:39.880Z"
   },
   {
    "duration": 221,
    "start_time": "2024-06-03T19:17:12.072Z"
   },
   {
    "duration": 5,
    "start_time": "2024-06-03T19:18:14.584Z"
   },
   {
    "duration": 155,
    "start_time": "2024-06-03T19:18:15.248Z"
   },
   {
    "duration": 158,
    "start_time": "2024-06-03T19:19:43.321Z"
   },
   {
    "duration": 137,
    "start_time": "2024-06-03T19:22:05.537Z"
   },
   {
    "duration": 149,
    "start_time": "2024-06-03T19:22:56.345Z"
   },
   {
    "duration": 154,
    "start_time": "2024-06-03T19:23:24.465Z"
   },
   {
    "duration": 5,
    "start_time": "2024-06-03T19:23:45.057Z"
   },
   {
    "duration": 4,
    "start_time": "2024-06-03T19:24:46.017Z"
   },
   {
    "duration": 4,
    "start_time": "2024-06-03T19:24:58.809Z"
   },
   {
    "duration": 147,
    "start_time": "2024-06-03T19:26:28.786Z"
   },
   {
    "duration": 4,
    "start_time": "2024-06-03T19:27:01.370Z"
   },
   {
    "duration": 55,
    "start_time": "2024-06-03T19:37:26.660Z"
   },
   {
    "duration": 6,
    "start_time": "2024-06-03T19:42:20.379Z"
   },
   {
    "duration": 7,
    "start_time": "2024-06-03T19:42:57.451Z"
   },
   {
    "duration": 62,
    "start_time": "2024-06-03T19:45:15.689Z"
   },
   {
    "duration": 8,
    "start_time": "2024-06-03T19:45:36.956Z"
   },
   {
    "duration": 8,
    "start_time": "2024-06-03T19:45:39.146Z"
   },
   {
    "duration": 1569,
    "start_time": "2024-06-03T19:51:56.060Z"
   },
   {
    "duration": 1497,
    "start_time": "2024-06-03T19:53:04.147Z"
   },
   {
    "duration": 12,
    "start_time": "2024-06-03T19:54:45.837Z"
   },
   {
    "duration": 1394,
    "start_time": "2024-06-03T19:55:11.548Z"
   },
   {
    "duration": 1225,
    "start_time": "2024-06-03T19:57:36.108Z"
   },
   {
    "duration": 1326,
    "start_time": "2024-06-03T19:58:28.909Z"
   },
   {
    "duration": 1256,
    "start_time": "2024-06-03T20:05:03.549Z"
   },
   {
    "duration": 1282,
    "start_time": "2024-06-03T20:06:53.855Z"
   },
   {
    "duration": 1067,
    "start_time": "2024-06-03T20:10:27.135Z"
   },
   {
    "duration": 55,
    "start_time": "2024-06-03T20:10:28.204Z"
   },
   {
    "duration": 14,
    "start_time": "2024-06-03T20:10:28.261Z"
   },
   {
    "duration": 18,
    "start_time": "2024-06-03T20:10:28.277Z"
   },
   {
    "duration": 27,
    "start_time": "2024-06-03T20:10:28.297Z"
   },
   {
    "duration": 8,
    "start_time": "2024-06-03T20:10:28.326Z"
   },
   {
    "duration": 3,
    "start_time": "2024-06-03T20:10:28.336Z"
   },
   {
    "duration": 4,
    "start_time": "2024-06-03T20:10:28.341Z"
   },
   {
    "duration": 8,
    "start_time": "2024-06-03T20:10:28.347Z"
   },
   {
    "duration": 42,
    "start_time": "2024-06-03T20:10:28.357Z"
   },
   {
    "duration": 6,
    "start_time": "2024-06-03T20:10:28.401Z"
   },
   {
    "duration": 7,
    "start_time": "2024-06-03T20:10:28.409Z"
   },
   {
    "duration": 6,
    "start_time": "2024-06-03T20:10:28.417Z"
   },
   {
    "duration": 5,
    "start_time": "2024-06-03T20:10:28.424Z"
   },
   {
    "duration": 5,
    "start_time": "2024-06-03T20:10:28.430Z"
   },
   {
    "duration": 7,
    "start_time": "2024-06-03T20:10:28.436Z"
   },
   {
    "duration": 9,
    "start_time": "2024-06-03T20:10:28.444Z"
   },
   {
    "duration": 46,
    "start_time": "2024-06-03T20:10:28.454Z"
   },
   {
    "duration": 22,
    "start_time": "2024-06-03T20:10:28.502Z"
   },
   {
    "duration": 4,
    "start_time": "2024-06-03T20:10:28.526Z"
   },
   {
    "duration": 5,
    "start_time": "2024-06-03T20:10:28.531Z"
   },
   {
    "duration": 4,
    "start_time": "2024-06-03T20:10:28.538Z"
   },
   {
    "duration": 17,
    "start_time": "2024-06-03T20:10:28.543Z"
   },
   {
    "duration": 43,
    "start_time": "2024-06-03T20:10:28.562Z"
   },
   {
    "duration": 265,
    "start_time": "2024-06-03T20:10:28.606Z"
   },
   {
    "duration": 8,
    "start_time": "2024-06-03T20:10:28.872Z"
   },
   {
    "duration": 309,
    "start_time": "2024-06-03T20:10:28.882Z"
   },
   {
    "duration": 251,
    "start_time": "2024-06-03T20:10:29.194Z"
   },
   {
    "duration": 34,
    "start_time": "2024-06-03T20:10:29.446Z"
   },
   {
    "duration": 336,
    "start_time": "2024-06-03T20:10:29.481Z"
   },
   {
    "duration": 548,
    "start_time": "2024-06-03T20:10:29.818Z"
   },
   {
    "duration": 477,
    "start_time": "2024-06-03T20:10:30.367Z"
   },
   {
    "duration": 161,
    "start_time": "2024-06-03T20:10:30.846Z"
   },
   {
    "duration": 5,
    "start_time": "2024-06-03T20:10:31.009Z"
   },
   {
    "duration": 170,
    "start_time": "2024-06-03T20:10:31.015Z"
   },
   {
    "duration": 5,
    "start_time": "2024-06-03T20:10:31.186Z"
   },
   {
    "duration": 1349,
    "start_time": "2024-06-03T20:10:31.193Z"
   },
   {
    "duration": 8,
    "start_time": "2024-06-03T20:19:01.690Z"
   },
   {
    "duration": 153,
    "start_time": "2024-06-03T20:22:19.988Z"
   },
   {
    "duration": 166,
    "start_time": "2024-06-03T20:24:00.884Z"
   },
   {
    "duration": 8,
    "start_time": "2024-06-03T20:27:42.412Z"
   },
   {
    "duration": 104,
    "start_time": "2024-06-03T20:28:50.998Z"
   },
   {
    "duration": 147,
    "start_time": "2024-06-03T20:30:59.759Z"
   },
   {
    "duration": 152,
    "start_time": "2024-06-03T20:32:01.447Z"
   },
   {
    "duration": 143,
    "start_time": "2024-06-03T20:32:33.750Z"
   },
   {
    "duration": 11,
    "start_time": "2024-06-03T20:35:42.975Z"
   },
   {
    "duration": 164,
    "start_time": "2024-06-03T20:36:02.368Z"
   },
   {
    "duration": 158,
    "start_time": "2024-06-03T20:40:24.272Z"
   },
   {
    "duration": 11,
    "start_time": "2024-06-03T20:54:20.346Z"
   },
   {
    "duration": 10,
    "start_time": "2024-06-03T20:54:31.922Z"
   },
   {
    "duration": 11,
    "start_time": "2024-06-03T20:54:35.809Z"
   },
   {
    "duration": 37,
    "start_time": "2024-06-03T20:55:44.026Z"
   },
   {
    "duration": 35,
    "start_time": "2024-06-03T20:56:41.098Z"
   },
   {
    "duration": 1220,
    "start_time": "2024-06-04T12:42:47.383Z"
   },
   {
    "duration": 187,
    "start_time": "2024-06-04T12:42:48.605Z"
   },
   {
    "duration": 12,
    "start_time": "2024-06-04T12:42:48.793Z"
   },
   {
    "duration": 42,
    "start_time": "2024-06-04T12:42:48.807Z"
   },
   {
    "duration": 27,
    "start_time": "2024-06-04T12:42:48.850Z"
   },
   {
    "duration": 7,
    "start_time": "2024-06-04T12:42:48.878Z"
   },
   {
    "duration": 95,
    "start_time": "2024-06-04T13:02:16.686Z"
   },
   {
    "duration": 3,
    "start_time": "2024-06-04T13:02:22.573Z"
   },
   {
    "duration": 68,
    "start_time": "2024-06-04T13:02:22.578Z"
   },
   {
    "duration": 12,
    "start_time": "2024-06-04T13:02:22.648Z"
   },
   {
    "duration": 21,
    "start_time": "2024-06-04T13:02:22.662Z"
   },
   {
    "duration": 39,
    "start_time": "2024-06-04T13:02:22.684Z"
   },
   {
    "duration": 9,
    "start_time": "2024-06-04T13:02:22.724Z"
   },
   {
    "duration": 42,
    "start_time": "2024-06-04T13:02:22.734Z"
   },
   {
    "duration": 34,
    "start_time": "2024-06-04T13:02:22.777Z"
   },
   {
    "duration": 11,
    "start_time": "2024-06-04T13:02:22.814Z"
   },
   {
    "duration": 24,
    "start_time": "2024-06-04T13:02:22.827Z"
   },
   {
    "duration": 21,
    "start_time": "2024-06-04T13:02:22.853Z"
   },
   {
    "duration": 36,
    "start_time": "2024-06-04T13:02:22.875Z"
   },
   {
    "duration": 36,
    "start_time": "2024-06-04T13:02:22.912Z"
   },
   {
    "duration": 15,
    "start_time": "2024-06-04T13:02:22.949Z"
   },
   {
    "duration": 14,
    "start_time": "2024-06-04T13:02:22.966Z"
   },
   {
    "duration": 22,
    "start_time": "2024-06-04T13:02:22.981Z"
   },
   {
    "duration": 37,
    "start_time": "2024-06-04T13:02:23.005Z"
   },
   {
    "duration": 18,
    "start_time": "2024-06-04T13:02:23.044Z"
   },
   {
    "duration": 42,
    "start_time": "2024-06-04T13:02:23.063Z"
   },
   {
    "duration": 4,
    "start_time": "2024-06-04T13:02:23.107Z"
   },
   {
    "duration": 11,
    "start_time": "2024-06-04T13:02:23.112Z"
   },
   {
    "duration": 13,
    "start_time": "2024-06-04T13:02:23.124Z"
   },
   {
    "duration": 18,
    "start_time": "2024-06-04T13:02:23.138Z"
   },
   {
    "duration": 31,
    "start_time": "2024-06-04T13:02:23.158Z"
   },
   {
    "duration": 248,
    "start_time": "2024-06-04T13:02:23.190Z"
   },
   {
    "duration": 7,
    "start_time": "2024-06-04T13:02:23.440Z"
   },
   {
    "duration": 267,
    "start_time": "2024-06-04T13:02:23.448Z"
   },
   {
    "duration": 225,
    "start_time": "2024-06-04T13:02:23.716Z"
   },
   {
    "duration": 30,
    "start_time": "2024-06-04T13:02:23.943Z"
   },
   {
    "duration": 27,
    "start_time": "2024-06-04T13:02:26.837Z"
   },
   {
    "duration": 1461,
    "start_time": "2024-06-04T20:41:45.450Z"
   },
   {
    "duration": 207,
    "start_time": "2024-06-04T20:41:46.913Z"
   },
   {
    "duration": 16,
    "start_time": "2024-06-04T20:41:47.121Z"
   },
   {
    "duration": 19,
    "start_time": "2024-06-04T20:41:47.138Z"
   },
   {
    "duration": 28,
    "start_time": "2024-06-04T20:41:47.159Z"
   },
   {
    "duration": 9,
    "start_time": "2024-06-04T20:41:47.188Z"
   },
   {
    "duration": 3,
    "start_time": "2024-06-04T20:41:47.198Z"
   },
   {
    "duration": 4,
    "start_time": "2024-06-04T20:41:47.202Z"
   },
   {
    "duration": 7,
    "start_time": "2024-06-04T20:41:47.208Z"
   },
   {
    "duration": 4,
    "start_time": "2024-06-04T20:41:47.217Z"
   },
   {
    "duration": 38,
    "start_time": "2024-06-04T20:41:47.222Z"
   },
   {
    "duration": 7,
    "start_time": "2024-06-04T20:41:47.262Z"
   },
   {
    "duration": 7,
    "start_time": "2024-06-04T20:41:47.270Z"
   },
   {
    "duration": 6,
    "start_time": "2024-06-04T20:41:47.279Z"
   },
   {
    "duration": 10,
    "start_time": "2024-06-04T20:41:47.287Z"
   },
   {
    "duration": 10,
    "start_time": "2024-06-04T20:41:47.298Z"
   },
   {
    "duration": 21,
    "start_time": "2024-06-04T20:41:47.309Z"
   },
   {
    "duration": 9,
    "start_time": "2024-06-04T20:41:47.332Z"
   },
   {
    "duration": 32,
    "start_time": "2024-06-04T20:41:47.342Z"
   },
   {
    "duration": 4,
    "start_time": "2024-06-04T20:41:47.376Z"
   },
   {
    "duration": 21,
    "start_time": "2024-06-04T20:41:47.381Z"
   },
   {
    "duration": 5,
    "start_time": "2024-06-04T20:41:47.403Z"
   },
   {
    "duration": 30,
    "start_time": "2024-06-04T20:41:47.409Z"
   },
   {
    "duration": 39,
    "start_time": "2024-06-04T20:41:47.441Z"
   },
   {
    "duration": 284,
    "start_time": "2024-06-04T20:41:47.481Z"
   },
   {
    "duration": 9,
    "start_time": "2024-06-04T20:41:47.767Z"
   },
   {
    "duration": 323,
    "start_time": "2024-06-04T20:41:47.778Z"
   },
   {
    "duration": 139,
    "start_time": "2024-06-04T20:41:48.106Z"
   },
   {
    "duration": 0,
    "start_time": "2024-06-04T20:41:48.247Z"
   },
   {
    "duration": 0,
    "start_time": "2024-06-04T20:41:48.256Z"
   },
   {
    "duration": 0,
    "start_time": "2024-06-04T20:41:48.257Z"
   },
   {
    "duration": 0,
    "start_time": "2024-06-04T20:41:48.258Z"
   },
   {
    "duration": 0,
    "start_time": "2024-06-04T20:41:48.259Z"
   },
   {
    "duration": 0,
    "start_time": "2024-06-04T20:41:48.260Z"
   },
   {
    "duration": 0,
    "start_time": "2024-06-04T20:41:48.261Z"
   },
   {
    "duration": 0,
    "start_time": "2024-06-04T20:41:48.262Z"
   },
   {
    "duration": 0,
    "start_time": "2024-06-04T20:41:48.263Z"
   },
   {
    "duration": 0,
    "start_time": "2024-06-04T20:41:48.265Z"
   },
   {
    "duration": 0,
    "start_time": "2024-06-04T20:41:48.266Z"
   },
   {
    "duration": 0,
    "start_time": "2024-06-04T20:41:48.267Z"
   },
   {
    "duration": 353,
    "start_time": "2024-06-04T20:42:31.480Z"
   },
   {
    "duration": 35,
    "start_time": "2024-06-04T20:43:19.855Z"
   },
   {
    "duration": 274,
    "start_time": "2024-06-04T20:44:01.384Z"
   },
   {
    "duration": 59,
    "start_time": "2024-06-04T20:46:30.432Z"
   },
   {
    "duration": 570,
    "start_time": "2024-06-04T20:47:10.384Z"
   },
   {
    "duration": 492,
    "start_time": "2024-06-04T20:47:11.080Z"
   },
   {
    "duration": 163,
    "start_time": "2024-06-04T20:47:32.417Z"
   },
   {
    "duration": 5,
    "start_time": "2024-06-04T20:47:34.048Z"
   },
   {
    "duration": 204,
    "start_time": "2024-06-04T20:47:34.513Z"
   },
   {
    "duration": 175,
    "start_time": "2024-06-04T20:51:55.602Z"
   },
   {
    "duration": 1483,
    "start_time": "2024-06-04T20:52:27.595Z"
   },
   {
    "duration": 6,
    "start_time": "2024-06-04T20:53:17.234Z"
   },
   {
    "duration": 68,
    "start_time": "2024-06-04T20:54:02.203Z"
   },
   {
    "duration": 186,
    "start_time": "2024-06-04T20:54:48.224Z"
   },
   {
    "duration": 60,
    "start_time": "2024-06-04T20:55:30.769Z"
   },
   {
    "duration": 1259,
    "start_time": "2024-06-04T20:56:15.828Z"
   },
   {
    "duration": 60,
    "start_time": "2024-06-04T20:56:17.090Z"
   },
   {
    "duration": 16,
    "start_time": "2024-06-04T20:56:17.154Z"
   },
   {
    "duration": 21,
    "start_time": "2024-06-04T20:56:17.172Z"
   },
   {
    "duration": 30,
    "start_time": "2024-06-04T20:56:17.195Z"
   },
   {
    "duration": 36,
    "start_time": "2024-06-04T20:56:17.226Z"
   },
   {
    "duration": 3,
    "start_time": "2024-06-04T20:56:17.263Z"
   },
   {
    "duration": 6,
    "start_time": "2024-06-04T20:56:17.268Z"
   },
   {
    "duration": 14,
    "start_time": "2024-06-04T20:56:17.278Z"
   },
   {
    "duration": 5,
    "start_time": "2024-06-04T20:56:17.293Z"
   },
   {
    "duration": 18,
    "start_time": "2024-06-04T20:56:17.300Z"
   },
   {
    "duration": 10,
    "start_time": "2024-06-04T20:56:17.320Z"
   },
   {
    "duration": 40,
    "start_time": "2024-06-04T20:56:17.332Z"
   },
   {
    "duration": 10,
    "start_time": "2024-06-04T20:56:17.374Z"
   },
   {
    "duration": 17,
    "start_time": "2024-06-04T20:56:17.385Z"
   },
   {
    "duration": 17,
    "start_time": "2024-06-04T20:56:17.404Z"
   },
   {
    "duration": 26,
    "start_time": "2024-06-04T20:56:17.423Z"
   },
   {
    "duration": 5,
    "start_time": "2024-06-04T20:56:17.451Z"
   },
   {
    "duration": 25,
    "start_time": "2024-06-04T20:56:17.457Z"
   },
   {
    "duration": 4,
    "start_time": "2024-06-04T20:56:17.484Z"
   },
   {
    "duration": 12,
    "start_time": "2024-06-04T20:56:17.489Z"
   },
   {
    "duration": 9,
    "start_time": "2024-06-04T20:56:17.503Z"
   },
   {
    "duration": 29,
    "start_time": "2024-06-04T20:56:17.513Z"
   },
   {
    "duration": 14,
    "start_time": "2024-06-04T20:56:17.544Z"
   },
   {
    "duration": 312,
    "start_time": "2024-06-04T20:56:17.560Z"
   },
   {
    "duration": 8,
    "start_time": "2024-06-04T20:56:17.874Z"
   },
   {
    "duration": 319,
    "start_time": "2024-06-04T20:56:17.886Z"
   },
   {
    "duration": 394,
    "start_time": "2024-06-04T20:56:18.207Z"
   },
   {
    "duration": 53,
    "start_time": "2024-06-04T20:56:18.604Z"
   },
   {
    "duration": 420,
    "start_time": "2024-06-04T20:56:18.659Z"
   },
   {
    "duration": 584,
    "start_time": "2024-06-04T20:56:19.081Z"
   },
   {
    "duration": 537,
    "start_time": "2024-06-04T20:56:19.666Z"
   },
   {
    "duration": 177,
    "start_time": "2024-06-04T20:56:20.205Z"
   },
   {
    "duration": 6,
    "start_time": "2024-06-04T20:56:20.384Z"
   },
   {
    "duration": 207,
    "start_time": "2024-06-04T20:56:20.392Z"
   },
   {
    "duration": 5,
    "start_time": "2024-06-04T20:56:20.602Z"
   },
   {
    "duration": 1481,
    "start_time": "2024-06-04T20:56:20.608Z"
   },
   {
    "duration": 7,
    "start_time": "2024-06-04T20:56:22.091Z"
   },
   {
    "duration": 187,
    "start_time": "2024-06-04T20:56:22.100Z"
   },
   {
    "duration": 191,
    "start_time": "2024-06-04T20:56:22.288Z"
   },
   {
    "duration": 182,
    "start_time": "2024-06-04T20:58:25.126Z"
   },
   {
    "duration": 277,
    "start_time": "2024-06-04T21:05:57.616Z"
   },
   {
    "duration": 265,
    "start_time": "2024-06-04T21:06:04.929Z"
   },
   {
    "duration": 171,
    "start_time": "2024-06-04T21:12:02.255Z"
   },
   {
    "duration": 5,
    "start_time": "2024-06-04T21:12:08.393Z"
   },
   {
    "duration": 1472,
    "start_time": "2024-06-04T21:12:09.392Z"
   },
   {
    "duration": 9,
    "start_time": "2024-06-04T21:12:12.591Z"
   },
   {
    "duration": 161,
    "start_time": "2024-06-04T21:12:13.151Z"
   },
   {
    "duration": 181,
    "start_time": "2024-06-04T21:12:16.335Z"
   },
   {
    "duration": 10,
    "start_time": "2024-06-04T21:16:25.688Z"
   },
   {
    "duration": 10,
    "start_time": "2024-06-04T21:16:46.368Z"
   },
   {
    "duration": 15,
    "start_time": "2024-06-04T21:17:48.967Z"
   },
   {
    "duration": 13,
    "start_time": "2024-06-04T21:21:46.679Z"
   },
   {
    "duration": 13,
    "start_time": "2024-06-04T21:21:59.144Z"
   },
   {
    "duration": 205,
    "start_time": "2024-06-04T21:30:14.975Z"
   },
   {
    "duration": 8,
    "start_time": "2024-06-04T21:31:20.194Z"
   },
   {
    "duration": 222,
    "start_time": "2024-06-04T21:32:16.459Z"
   },
   {
    "duration": 414,
    "start_time": "2024-06-04T21:32:35.131Z"
   },
   {
    "duration": 8,
    "start_time": "2024-06-04T21:34:12.531Z"
   },
   {
    "duration": 543,
    "start_time": "2024-06-04T21:34:40.621Z"
   },
   {
    "duration": 10,
    "start_time": "2024-06-04T21:35:11.979Z"
   },
   {
    "duration": 7,
    "start_time": "2024-06-04T21:35:23.556Z"
   },
   {
    "duration": 7,
    "start_time": "2024-06-04T21:35:26.876Z"
   },
   {
    "duration": 417,
    "start_time": "2024-06-04T21:35:31.511Z"
   },
   {
    "duration": 7,
    "start_time": "2024-06-04T21:39:40.959Z"
   },
   {
    "duration": 352,
    "start_time": "2024-06-04T21:41:22.326Z"
   },
   {
    "duration": 9,
    "start_time": "2024-06-04T21:43:31.486Z"
   },
   {
    "duration": 113,
    "start_time": "2024-06-04T21:51:59.769Z"
   },
   {
    "duration": 482,
    "start_time": "2024-06-04T21:52:21.616Z"
   },
   {
    "duration": 12,
    "start_time": "2024-06-04T21:55:44.049Z"
   },
   {
    "duration": 12,
    "start_time": "2024-06-04T21:56:06.241Z"
   },
   {
    "duration": 16,
    "start_time": "2024-06-04T21:56:16.352Z"
   },
   {
    "duration": 20,
    "start_time": "2024-06-04T21:56:27.370Z"
   },
   {
    "duration": 13,
    "start_time": "2024-06-04T21:56:49.257Z"
   },
   {
    "duration": 476,
    "start_time": "2024-06-04T21:57:20.554Z"
   },
   {
    "duration": 173,
    "start_time": "2024-06-04T22:04:30.499Z"
   },
   {
    "duration": 655,
    "start_time": "2024-06-04T22:11:44.939Z"
   },
   {
    "duration": 534,
    "start_time": "2024-06-04T22:11:59.705Z"
   },
   {
    "duration": 506,
    "start_time": "2024-06-04T22:13:34.953Z"
   },
   {
    "duration": 13,
    "start_time": "2024-06-04T22:15:01.640Z"
   },
   {
    "duration": 14,
    "start_time": "2024-06-04T22:16:00.024Z"
   },
   {
    "duration": 13,
    "start_time": "2024-06-04T22:18:24.650Z"
   },
   {
    "duration": 14,
    "start_time": "2024-06-04T22:18:42.457Z"
   },
   {
    "duration": 15,
    "start_time": "2024-06-04T22:19:01.568Z"
   },
   {
    "duration": 470,
    "start_time": "2024-06-04T22:21:29.122Z"
   },
   {
    "duration": 12,
    "start_time": "2024-06-04T22:23:20.946Z"
   },
   {
    "duration": 1210,
    "start_time": "2024-06-04T22:37:51.375Z"
   },
   {
    "duration": 61,
    "start_time": "2024-06-04T22:37:52.587Z"
   },
   {
    "duration": 15,
    "start_time": "2024-06-04T22:37:52.649Z"
   },
   {
    "duration": 20,
    "start_time": "2024-06-04T22:37:52.667Z"
   },
   {
    "duration": 31,
    "start_time": "2024-06-04T22:37:52.688Z"
   },
   {
    "duration": 9,
    "start_time": "2024-06-04T22:37:52.721Z"
   },
   {
    "duration": 23,
    "start_time": "2024-06-04T22:37:52.732Z"
   },
   {
    "duration": 5,
    "start_time": "2024-06-04T22:37:52.757Z"
   },
   {
    "duration": 9,
    "start_time": "2024-06-04T22:37:52.763Z"
   },
   {
    "duration": 5,
    "start_time": "2024-06-04T22:37:52.775Z"
   },
   {
    "duration": 9,
    "start_time": "2024-06-04T22:37:52.781Z"
   },
   {
    "duration": 9,
    "start_time": "2024-06-04T22:37:52.791Z"
   },
   {
    "duration": 12,
    "start_time": "2024-06-04T22:37:52.801Z"
   },
   {
    "duration": 41,
    "start_time": "2024-06-04T22:37:52.814Z"
   },
   {
    "duration": 6,
    "start_time": "2024-06-04T22:37:52.858Z"
   },
   {
    "duration": 9,
    "start_time": "2024-06-04T22:37:52.866Z"
   },
   {
    "duration": 4,
    "start_time": "2024-06-04T22:37:52.877Z"
   },
   {
    "duration": 7,
    "start_time": "2024-06-04T22:37:52.883Z"
   },
   {
    "duration": 63,
    "start_time": "2024-06-04T22:37:52.892Z"
   },
   {
    "duration": 5,
    "start_time": "2024-06-04T22:37:52.957Z"
   },
   {
    "duration": 41,
    "start_time": "2024-06-04T22:37:52.963Z"
   },
   {
    "duration": 5,
    "start_time": "2024-06-04T22:37:53.005Z"
   },
   {
    "duration": 20,
    "start_time": "2024-06-04T22:37:53.012Z"
   },
   {
    "duration": 10,
    "start_time": "2024-06-04T22:37:53.035Z"
   },
   {
    "duration": 303,
    "start_time": "2024-06-04T22:37:53.047Z"
   },
   {
    "duration": 8,
    "start_time": "2024-06-04T22:37:53.352Z"
   },
   {
    "duration": 320,
    "start_time": "2024-06-04T22:37:53.362Z"
   },
   {
    "duration": 375,
    "start_time": "2024-06-04T22:37:53.685Z"
   },
   {
    "duration": 37,
    "start_time": "2024-06-04T22:37:54.062Z"
   },
   {
    "duration": 407,
    "start_time": "2024-06-04T22:37:54.101Z"
   },
   {
    "duration": 388,
    "start_time": "2024-06-04T22:37:54.510Z"
   },
   {
    "duration": 276,
    "start_time": "2024-06-04T22:37:54.900Z"
   },
   {
    "duration": 178,
    "start_time": "2024-06-04T22:37:55.177Z"
   },
   {
    "duration": 5,
    "start_time": "2024-06-04T22:37:55.357Z"
   },
   {
    "duration": 192,
    "start_time": "2024-06-04T22:37:55.363Z"
   },
   {
    "duration": 5,
    "start_time": "2024-06-04T22:37:55.557Z"
   },
   {
    "duration": 1419,
    "start_time": "2024-06-04T22:37:55.563Z"
   },
   {
    "duration": 8,
    "start_time": "2024-06-04T22:37:56.984Z"
   },
   {
    "duration": 266,
    "start_time": "2024-06-04T22:37:56.994Z"
   },
   {
    "duration": 199,
    "start_time": "2024-06-04T22:37:57.261Z"
   },
   {
    "duration": 469,
    "start_time": "2024-06-04T22:37:57.462Z"
   },
   {
    "duration": 23,
    "start_time": "2024-06-04T22:37:57.933Z"
   },
   {
    "duration": 449,
    "start_time": "2024-06-04T22:37:57.958Z"
   },
   {
    "duration": 13,
    "start_time": "2024-06-04T22:37:58.408Z"
   },
   {
    "duration": 477,
    "start_time": "2024-06-04T22:37:58.423Z"
   },
   {
    "duration": 12,
    "start_time": "2024-06-04T22:37:58.902Z"
   },
   {
    "duration": 63,
    "start_time": "2024-06-04T22:41:53.966Z"
   },
   {
    "duration": 846,
    "start_time": "2024-06-04T22:48:16.927Z"
   },
   {
    "duration": 753,
    "start_time": "2024-06-04T22:49:02.822Z"
   },
   {
    "duration": 806,
    "start_time": "2024-06-04T22:49:24.671Z"
   },
   {
    "duration": 70,
    "start_time": "2024-06-04T22:50:16.278Z"
   },
   {
    "duration": 12,
    "start_time": "2024-06-04T23:12:34.388Z"
   },
   {
    "duration": 10,
    "start_time": "2024-06-04T23:13:21.116Z"
   },
   {
    "duration": 10,
    "start_time": "2024-06-04T23:13:57.404Z"
   },
   {
    "duration": 15,
    "start_time": "2024-06-04T23:14:22.196Z"
   },
   {
    "duration": 13,
    "start_time": "2024-06-04T23:16:02.774Z"
   },
   {
    "duration": 51,
    "start_time": "2024-06-04T23:28:18.938Z"
   },
   {
    "duration": 32,
    "start_time": "2024-06-04T23:32:33.186Z"
   },
   {
    "duration": 18,
    "start_time": "2024-06-04T23:33:50.847Z"
   },
   {
    "duration": 31,
    "start_time": "2024-06-04T23:34:04.522Z"
   },
   {
    "duration": 30,
    "start_time": "2024-06-04T23:36:09.173Z"
   },
   {
    "duration": 52,
    "start_time": "2024-06-04T23:43:57.357Z"
   },
   {
    "duration": 48,
    "start_time": "2024-06-05T19:48:28.639Z"
   },
   {
    "duration": 1185,
    "start_time": "2024-06-05T19:48:34.445Z"
   },
   {
    "duration": 194,
    "start_time": "2024-06-05T19:48:36.091Z"
   },
   {
    "duration": 13,
    "start_time": "2024-06-05T19:48:37.156Z"
   },
   {
    "duration": 17,
    "start_time": "2024-06-05T19:48:37.868Z"
   },
   {
    "duration": 25,
    "start_time": "2024-06-05T19:48:39.139Z"
   },
   {
    "duration": 7,
    "start_time": "2024-06-05T19:48:39.660Z"
   },
   {
    "duration": 54,
    "start_time": "2024-06-05T19:48:41.539Z"
   },
   {
    "duration": 7,
    "start_time": "2024-06-05T19:49:27.644Z"
   },
   {
    "duration": 7,
    "start_time": "2024-06-05T19:49:41.124Z"
   },
   {
    "duration": 3107,
    "start_time": "2024-06-05T19:50:18.503Z"
   },
   {
    "duration": 9,
    "start_time": "2024-06-05T19:50:48.692Z"
   },
   {
    "duration": 50,
    "start_time": "2024-06-05T19:50:51.564Z"
   },
   {
    "duration": 11,
    "start_time": "2024-06-05T19:50:52.524Z"
   },
   {
    "duration": 13,
    "start_time": "2024-06-05T19:50:54.563Z"
   },
   {
    "duration": 23,
    "start_time": "2024-06-05T19:50:56.004Z"
   },
   {
    "duration": 7,
    "start_time": "2024-06-05T19:50:56.516Z"
   },
   {
    "duration": 1045,
    "start_time": "2024-06-05T19:50:57.932Z"
   }
  ],
  "kernelspec": {
   "display_name": "Python 3 (ipykernel)",
   "language": "python",
   "name": "python3"
  },
  "language_info": {
   "codemirror_mode": {
    "name": "ipython",
    "version": 3
   },
   "file_extension": ".py",
   "mimetype": "text/x-python",
   "name": "python",
   "nbconvert_exporter": "python",
   "pygments_lexer": "ipython3",
   "version": "3.9.5"
  },
  "toc": {
   "base_numbering": 1,
   "nav_menu": {},
   "number_sections": true,
   "sideBar": true,
   "skip_h1_title": true,
   "title_cell": "Table of Contents",
   "title_sidebar": "Contents",
   "toc_cell": false,
   "toc_position": {},
   "toc_section_display": true,
   "toc_window_display": false
  }
 },
 "nbformat": 4,
 "nbformat_minor": 2
}
