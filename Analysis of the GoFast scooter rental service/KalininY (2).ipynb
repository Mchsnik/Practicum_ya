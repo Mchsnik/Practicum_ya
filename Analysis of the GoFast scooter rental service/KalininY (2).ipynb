{
 "cells": [
  {
   "cell_type": "markdown",
   "id": "8bf4c0ae",
   "metadata": {},
   "source": [
    "<div style=\"border:solid green 3px; padding: 20px\">\n",
    "<b>🥇 Ярослав, спасибо за доработки, проект принят, молодец!</b>\n",
    "    \n",
    "Ты провел  хорошую работу над ошибками! Уверен, ты обязательно достигнешь своей цели! Успехов в дальнейшем обучении! 🙂\n",
    "    "
   ]
  },
  {
   "cell_type": "markdown",
   "id": "41aad702",
   "metadata": {},
   "source": [
    "<div style=\"border:solid green 2px; padding: 20px\">\n",
    "Ярослав, привет! Меня зовут Ефимов Денис и сегодня я буду делать ревью твоего проекта!\n",
    "    \n",
    "В Практикуме принято общаться на \"ты\", однако если это неудобно - дай знать, и можем перейти на более официальное общение.\n",
    "\n",
    "Ниже ты найдешь мои комментарии - пожалуйста, не перемещай, не изменяй и не удаляй их. Я буду использовать цветовую разметку: \n",
    "\n",
    "<div class=\"alert alert-block alert-success\">\n",
    "<b>✅Комментарий ревьюера:</b> Если все сделано хорошо. </div>\n",
    "\n",
    "<div class=\"alert alert-block alert-warning\">\n",
    "<b>🔁Комментарий ревьюера:</b> Некритичное замечание, рекомендация.</div>\n",
    "\n",
    "<div class=\"alert alert-block alert-danger\">\n",
    "<b>❌Комментарий ревьюера:</b> Грубая ошибка, необходимо исправить, иначе проект не будет принят.\n",
    "</div>\n",
    "\n",
    "Давай работать над проектом в диалоге: если ты что-то меняешь в проекте или отвечаешь на мои комментарии — пиши об этом. Мне будет легче отследить изменения, если ты выделишь свои комментарии:\n",
    "Например так:\n",
    "<div class=\"alert alert-block alert-info\">\n",
    "<b>🔄Комментарий студента:</b> \n",
    "Hello World! ✔\n",
    "</div>\n",
    "\n",
    "Или можешь использовать эту галочку ✔ в моих комментариях, если писать особо нечего.\n",
    "\n",
    "<div class=\"alert alert-block alert-warning\">\n",
    "<b>Общее впечатление:</b> \n",
    "    \n",
    "- Ты проделал огромную работу :)\n",
    "- У меня есть несколько замечаний, исправив которые ты сделаешь проект  лучше.\n",
    "- Пробегись по моим комментариям, исправь недочёты и всё будет отлично :)\n",
    "    \n",
    "</div>\n",
    "\n"
   ]
  },
  {
   "cell_type": "markdown",
   "id": "867e6344",
   "metadata": {},
   "source": [
    "<div class=\"alert alert-block alert-warning\">\n",
    "<b>🔁Комментарий ревьюера:</b> \n",
    "    \n",
    "Название проекта можно выделить так:</div>"
   ]
  },
  {
   "cell_type": "markdown",
   "id": "9cfa5dc9",
   "metadata": {},
   "source": [
    "# Анализ сервиса аренды самокатов GoFast"
   ]
  },
  {
   "cell_type": "markdown",
   "id": "e0196dbe",
   "metadata": {},
   "source": [
    "Анализ сервиса аренды самокатов GoFast\n",
    "Вы аналитик популярного сервиса аренды самокатов GoFast. Вам передали данные о некоторых пользователях из нескольких городов, а также об их поездках. Проанализируйте данные и проверьте некоторые гипотезы, которые могут помочь бизнесу вырасти.\n",
    "\n",
    "Чтобы совершать поездки по городу, пользователи сервиса GoFast пользуются мобильным приложением. Сервисом можно пользоваться:\n",
    "\n",
    "- без подписки\n",
    "абонентская плата отсутствует;\n",
    "стоимость одной минуты поездки — 8 рублей;\n",
    "стоимость старта (начала поездки) — 50 рублей;\n",
    "- с подпиской Ultra\n",
    "абонентская плата — 199 рублей в месяц;\n",
    "стоимость одной минуты поездки — 6 рублей;\n",
    "стоимость старта — бесплатно.\n",
    "Описание данных\n",
    "\n",
    "Пользователи — users_go.csv\n",
    "\n",
    "user_id — уникальный идентификатор пользователя\n",
    "name — имя пользователя\n",
    "age — возраст\n",
    "city — город\n",
    "subscription_type — тип подписки (free, ultra)\n",
    "\n",
    "Поeздки — rides_go.csv\n",
    "\n",
    "user_id — уникальный идентификатор пользователя\n",
    "distance — расстояние, которое пользователь проехал в текущей сессии (в метрах)\n",
    "duration — продолжительность сессии (в минутах) — время с того момента, как пользователь нажал кнопку «Начать поездку» до момента, как он нажал кнопку «Завершить поездку»\n",
    "date — дата совершения поездки\n",
    "\n",
    "Подписки — subscriptions_go.csv\n",
    "\n",
    "subscription_type — тип подписки\n",
    "minute_price — стоимость одной минуты поездки по данной подписке\n",
    "start_ride_price — стоимость начала поездки\n",
    "subscription_fee — стоимость ежемесячного платежа"
   ]
  },
  {
   "cell_type": "markdown",
   "id": "3c448ef7",
   "metadata": {},
   "source": [
    "#### Шаг 1. Загрузка данных"
   ]
  },
  {
   "cell_type": "code",
   "execution_count": 1,
   "id": "d2a25577",
   "metadata": {},
   "outputs": [],
   "source": [
    "#загрузка библиотек\n",
    "import pandas as pd\n",
    "import matplotlib.pyplot as plt\n",
    "import seaborn as sns\n",
    "import plotly.express as px\n",
    "import numpy as np\n",
    "from scipy import stats as st"
   ]
  },
  {
   "cell_type": "markdown",
   "id": "9d6a5bc6",
   "metadata": {},
   "source": [
    "<div class=\"alert alert-block alert-success\">\n",
    "<b>✅Комментарий ревьюера:</b> Правильно, что импортируешь все библиотеки в отдельной ячейке!  </div>"
   ]
  },
  {
   "cell_type": "code",
   "execution_count": 2,
   "id": "224c7efb",
   "metadata": {},
   "outputs": [],
   "source": [
    "#Выводим первые строки каждого набора данных. Изучаем общую информацию о каждом датафрейме.\n",
    "#Сначала загрузим все таблицы и сохраним в датафрейм \n",
    "data_users_go = pd.read_csv('/datasets/users_go.csv')\n",
    "data_rides_go = pd.read_csv('/datasets/rides_go.csv')\n",
    "data_subscriptions_go = pd.read_csv('/datasets/subscriptions_go.csv')"
   ]
  },
  {
   "cell_type": "code",
   "execution_count": 3,
   "id": "e9ca8f87",
   "metadata": {},
   "outputs": [
    {
     "name": "stdout",
     "output_type": "stream",
     "text": [
      "<class 'pandas.core.frame.DataFrame'>\n",
      "RangeIndex: 1565 entries, 0 to 1564\n",
      "Data columns (total 5 columns):\n",
      " #   Column             Non-Null Count  Dtype \n",
      "---  ------             --------------  ----- \n",
      " 0   user_id            1565 non-null   int64 \n",
      " 1   name               1565 non-null   object\n",
      " 2   age                1565 non-null   int64 \n",
      " 3   city               1565 non-null   object\n",
      " 4   subscription_type  1565 non-null   object\n",
      "dtypes: int64(2), object(3)\n",
      "memory usage: 61.3+ KB\n"
     ]
    },
    {
     "data": {
      "text/html": [
       "<div>\n",
       "<style scoped>\n",
       "    .dataframe tbody tr th:only-of-type {\n",
       "        vertical-align: middle;\n",
       "    }\n",
       "\n",
       "    .dataframe tbody tr th {\n",
       "        vertical-align: top;\n",
       "    }\n",
       "\n",
       "    .dataframe thead th {\n",
       "        text-align: right;\n",
       "    }\n",
       "</style>\n",
       "<table border=\"1\" class=\"dataframe\">\n",
       "  <thead>\n",
       "    <tr style=\"text-align: right;\">\n",
       "      <th></th>\n",
       "      <th>user_id</th>\n",
       "      <th>name</th>\n",
       "      <th>age</th>\n",
       "      <th>city</th>\n",
       "      <th>subscription_type</th>\n",
       "    </tr>\n",
       "  </thead>\n",
       "  <tbody>\n",
       "    <tr>\n",
       "      <th>0</th>\n",
       "      <td>1</td>\n",
       "      <td>Кира</td>\n",
       "      <td>22</td>\n",
       "      <td>Тюмень</td>\n",
       "      <td>ultra</td>\n",
       "    </tr>\n",
       "    <tr>\n",
       "      <th>1</th>\n",
       "      <td>2</td>\n",
       "      <td>Станислав</td>\n",
       "      <td>31</td>\n",
       "      <td>Омск</td>\n",
       "      <td>ultra</td>\n",
       "    </tr>\n",
       "    <tr>\n",
       "      <th>2</th>\n",
       "      <td>3</td>\n",
       "      <td>Алексей</td>\n",
       "      <td>20</td>\n",
       "      <td>Москва</td>\n",
       "      <td>ultra</td>\n",
       "    </tr>\n",
       "    <tr>\n",
       "      <th>3</th>\n",
       "      <td>4</td>\n",
       "      <td>Константин</td>\n",
       "      <td>26</td>\n",
       "      <td>Ростов-на-Дону</td>\n",
       "      <td>ultra</td>\n",
       "    </tr>\n",
       "    <tr>\n",
       "      <th>4</th>\n",
       "      <td>5</td>\n",
       "      <td>Адель</td>\n",
       "      <td>28</td>\n",
       "      <td>Омск</td>\n",
       "      <td>ultra</td>\n",
       "    </tr>\n",
       "  </tbody>\n",
       "</table>\n",
       "</div>"
      ],
      "text/plain": [
       "   user_id        name  age            city subscription_type\n",
       "0        1        Кира   22          Тюмень             ultra\n",
       "1        2   Станислав   31            Омск             ultra\n",
       "2        3     Алексей   20          Москва             ultra\n",
       "3        4  Константин   26  Ростов-на-Дону             ultra\n",
       "4        5       Адель   28            Омск             ultra"
      ]
     },
     "execution_count": 3,
     "metadata": {},
     "output_type": "execute_result"
    }
   ],
   "source": [
    "#Изучаем таблицу пользователи\n",
    "data_users_go.info()\n",
    "data_users_go.head()"
   ]
  },
  {
   "cell_type": "code",
   "execution_count": 4,
   "id": "7a3f6da6",
   "metadata": {
    "scrolled": false
   },
   "outputs": [
    {
     "name": "stdout",
     "output_type": "stream",
     "text": [
      "<class 'pandas.core.frame.DataFrame'>\n",
      "RangeIndex: 18068 entries, 0 to 18067\n",
      "Data columns (total 4 columns):\n",
      " #   Column    Non-Null Count  Dtype  \n",
      "---  ------    --------------  -----  \n",
      " 0   user_id   18068 non-null  int64  \n",
      " 1   distance  18068 non-null  float64\n",
      " 2   duration  18068 non-null  float64\n",
      " 3   date      18068 non-null  object \n",
      "dtypes: float64(2), int64(1), object(1)\n",
      "memory usage: 564.8+ KB\n"
     ]
    },
    {
     "data": {
      "text/html": [
       "<div>\n",
       "<style scoped>\n",
       "    .dataframe tbody tr th:only-of-type {\n",
       "        vertical-align: middle;\n",
       "    }\n",
       "\n",
       "    .dataframe tbody tr th {\n",
       "        vertical-align: top;\n",
       "    }\n",
       "\n",
       "    .dataframe thead th {\n",
       "        text-align: right;\n",
       "    }\n",
       "</style>\n",
       "<table border=\"1\" class=\"dataframe\">\n",
       "  <thead>\n",
       "    <tr style=\"text-align: right;\">\n",
       "      <th></th>\n",
       "      <th>user_id</th>\n",
       "      <th>distance</th>\n",
       "      <th>duration</th>\n",
       "      <th>date</th>\n",
       "    </tr>\n",
       "  </thead>\n",
       "  <tbody>\n",
       "    <tr>\n",
       "      <th>0</th>\n",
       "      <td>1</td>\n",
       "      <td>4409.919140</td>\n",
       "      <td>25.599769</td>\n",
       "      <td>2021-01-01</td>\n",
       "    </tr>\n",
       "    <tr>\n",
       "      <th>1</th>\n",
       "      <td>1</td>\n",
       "      <td>2617.592153</td>\n",
       "      <td>15.816871</td>\n",
       "      <td>2021-01-18</td>\n",
       "    </tr>\n",
       "    <tr>\n",
       "      <th>2</th>\n",
       "      <td>1</td>\n",
       "      <td>754.159807</td>\n",
       "      <td>6.232113</td>\n",
       "      <td>2021-04-20</td>\n",
       "    </tr>\n",
       "    <tr>\n",
       "      <th>3</th>\n",
       "      <td>1</td>\n",
       "      <td>2694.783254</td>\n",
       "      <td>18.511000</td>\n",
       "      <td>2021-08-11</td>\n",
       "    </tr>\n",
       "    <tr>\n",
       "      <th>4</th>\n",
       "      <td>1</td>\n",
       "      <td>4028.687306</td>\n",
       "      <td>26.265803</td>\n",
       "      <td>2021-08-28</td>\n",
       "    </tr>\n",
       "  </tbody>\n",
       "</table>\n",
       "</div>"
      ],
      "text/plain": [
       "   user_id     distance   duration        date\n",
       "0        1  4409.919140  25.599769  2021-01-01\n",
       "1        1  2617.592153  15.816871  2021-01-18\n",
       "2        1   754.159807   6.232113  2021-04-20\n",
       "3        1  2694.783254  18.511000  2021-08-11\n",
       "4        1  4028.687306  26.265803  2021-08-28"
      ]
     },
     "execution_count": 4,
     "metadata": {},
     "output_type": "execute_result"
    }
   ],
   "source": [
    "#Изучаем таблицу поездки\n",
    "data_rides_go.info()\n",
    "data_rides_go.head()"
   ]
  },
  {
   "cell_type": "code",
   "execution_count": 5,
   "id": "8f042abc",
   "metadata": {},
   "outputs": [
    {
     "name": "stdout",
     "output_type": "stream",
     "text": [
      "<class 'pandas.core.frame.DataFrame'>\n",
      "RangeIndex: 2 entries, 0 to 1\n",
      "Data columns (total 4 columns):\n",
      " #   Column             Non-Null Count  Dtype \n",
      "---  ------             --------------  ----- \n",
      " 0   subscription_type  2 non-null      object\n",
      " 1   minute_price       2 non-null      int64 \n",
      " 2   start_ride_price   2 non-null      int64 \n",
      " 3   subscription_fee   2 non-null      int64 \n",
      "dtypes: int64(3), object(1)\n",
      "memory usage: 192.0+ bytes\n"
     ]
    },
    {
     "data": {
      "text/html": [
       "<div>\n",
       "<style scoped>\n",
       "    .dataframe tbody tr th:only-of-type {\n",
       "        vertical-align: middle;\n",
       "    }\n",
       "\n",
       "    .dataframe tbody tr th {\n",
       "        vertical-align: top;\n",
       "    }\n",
       "\n",
       "    .dataframe thead th {\n",
       "        text-align: right;\n",
       "    }\n",
       "</style>\n",
       "<table border=\"1\" class=\"dataframe\">\n",
       "  <thead>\n",
       "    <tr style=\"text-align: right;\">\n",
       "      <th></th>\n",
       "      <th>subscription_type</th>\n",
       "      <th>minute_price</th>\n",
       "      <th>start_ride_price</th>\n",
       "      <th>subscription_fee</th>\n",
       "    </tr>\n",
       "  </thead>\n",
       "  <tbody>\n",
       "    <tr>\n",
       "      <th>0</th>\n",
       "      <td>free</td>\n",
       "      <td>8</td>\n",
       "      <td>50</td>\n",
       "      <td>0</td>\n",
       "    </tr>\n",
       "    <tr>\n",
       "      <th>1</th>\n",
       "      <td>ultra</td>\n",
       "      <td>6</td>\n",
       "      <td>0</td>\n",
       "      <td>199</td>\n",
       "    </tr>\n",
       "  </tbody>\n",
       "</table>\n",
       "</div>"
      ],
      "text/plain": [
       "  subscription_type  minute_price  start_ride_price  subscription_fee\n",
       "0              free             8                50                 0\n",
       "1             ultra             6                 0               199"
      ]
     },
     "execution_count": 5,
     "metadata": {},
     "output_type": "execute_result"
    }
   ],
   "source": [
    "#Изучаем таблицу подписки\n",
    "data_subscriptions_go.info()\n",
    "data_subscriptions_go.head()"
   ]
  },
  {
   "cell_type": "markdown",
   "id": "817bd421",
   "metadata": {},
   "source": [
    "Вывод:\n",
    "В представленных данных:\n",
    "\n",
    "data_users_go 1565 записи, пропуски отсутствуют, количество явных дубликатов 31 (выявлено ниже)\n",
    "data_users_go 18068 записи, пропуски отсутствуют, явных дубликатов нет, проблема со типом данных в столбце date\n",
    "data_subscriptions_go 2 записи, пропуски отсутствуют, явных дубликатов нет. \n",
    "\n",
    "Общее:\n",
    "Названия столбцов в норме. "
   ]
  },
  {
   "cell_type": "markdown",
   "id": "001c35f2",
   "metadata": {},
   "source": [
    "<div class=\"alert alert-block alert-danger\">\n",
    "<b>❌Комментарий ревьюера:</b> \n",
    "    \n",
    "После каждого пункта нужно делать промежуточный вывод.\n",
    "    \n",
    "Что мы можем сказать о данных после первичного знакомства  с ними? Стоит отметить объем и полноту данных, корректность наименования столбцов и соответствие типов данных.\n",
    "\n",
    "</div>"
   ]
  },
  {
   "cell_type": "markdown",
   "id": "9cffc6ac",
   "metadata": {},
   "source": [
    "<div class=\"alert alert-block alert-success\">\n",
    "<b>✅Комментарий ревьюера 2:</b> Отлично, исправлено!👍  </div>"
   ]
  },
  {
   "cell_type": "markdown",
   "id": "33bbd377",
   "metadata": {},
   "source": [
    "<div class=\"alert alert-block alert-info\">\n",
    "<b>🔄Комментарий студента:</b> \n",
    "Написал вывод, ✔\n",
    "</div>\n"
   ]
  },
  {
   "cell_type": "markdown",
   "id": "301f3f9e",
   "metadata": {},
   "source": [
    "#### Шаг 2. Предобработка данных"
   ]
  },
  {
   "cell_type": "code",
   "execution_count": 6,
   "id": "766778cf",
   "metadata": {},
   "outputs": [
    {
     "name": "stdout",
     "output_type": "stream",
     "text": [
      "Первое значение: 2021-01-01\n",
      "Последнее значение: 2021-12-30\n"
     ]
    }
   ],
   "source": [
    "sorted_dates = sorted(data_rides_go['date'].unique())\n",
    "first_date = sorted_dates[0]\n",
    "last_date = sorted_dates[-1]\n",
    "print(f\"Первое значение: {first_date}\")\n",
    "print(f\"Последнее значение: {last_date}\")"
   ]
  },
  {
   "cell_type": "code",
   "execution_count": 7,
   "id": "bf9ede75",
   "metadata": {},
   "outputs": [],
   "source": [
    "data_subscriptions_go# Приводим столбец date к типу даты pandas.\n",
    "data_rides_go['date'] = pd.to_datetime(data_rides_go['date'], format='%Y-%m-%d')"
   ]
  },
  {
   "cell_type": "code",
   "execution_count": 8,
   "id": "a2d3959c",
   "metadata": {},
   "outputs": [],
   "source": [
    "# Создаем новый столбец с номером месяца на основе столбца date.\n",
    "data_rides_go['month'] = data_rides_go['date'].dt.month"
   ]
  },
  {
   "cell_type": "markdown",
   "id": "30f3ffa1",
   "metadata": {},
   "source": [
    "<div class=\"alert alert-block alert-warning\">\n",
    "<b>🔁Комментарий ревьюера:</b> \n",
    "\n",
    "Дополнительно лучше проверить данные за какой период у нас имеются, чтобы в дальнейшем не допустить ошибок при группировке по месяцам.</div>"
   ]
  },
  {
   "cell_type": "markdown",
   "id": "d410900a",
   "metadata": {},
   "source": [
    "<div class=\"alert alert-block alert-success\">\n",
    "<b>✅Комментарий ревьюера 2:</b> Отлично, исправлено!👍  </div>"
   ]
  },
  {
   "cell_type": "markdown",
   "id": "551fc0f8",
   "metadata": {},
   "source": [
    "<div class=\"alert alert-block alert-info\">\n",
    "<b>🔄Комментарий студента:</b> \n",
    "Добавил код ✔\n",
    "</div>\n"
   ]
  },
  {
   "cell_type": "code",
   "execution_count": 9,
   "id": "2cdd604c",
   "metadata": {},
   "outputs": [
    {
     "name": "stdout",
     "output_type": "stream",
     "text": [
      "Количество явных дубликатов в таблице пользователи =  31\n",
      "Количество явных дубликатов в таблице поездки =  0\n",
      "Количество явных дубликатов в в таблице подписки =  0\n"
     ]
    }
   ],
   "source": [
    "#Ищем явные дубликаты\n",
    "print('Количество явных дубликатов в таблице пользователи = ', data_users_go.duplicated().sum())\n",
    "print('Количество явных дубликатов в таблице поездки = ', data_rides_go.duplicated().sum())\n",
    "print('Количество явных дубликатов в в таблице подписки = ', data_subscriptions_go.duplicated().sum())"
   ]
  },
  {
   "cell_type": "code",
   "execution_count": 10,
   "id": "14589ac3",
   "metadata": {},
   "outputs": [],
   "source": [
    "#Удалим дубликаты\n",
    "data_users_go.drop_duplicates(inplace=True)"
   ]
  },
  {
   "cell_type": "code",
   "execution_count": 11,
   "id": "0f3c5b80",
   "metadata": {
    "scrolled": true
   },
   "outputs": [
    {
     "data": {
      "image/png": "[encoded data removed]",
      "text/plain": [
       "<Figure size 432x288 with 1 Axes>"
      ]
     },
     "metadata": {
      "needs_background": "light"
     },
     "output_type": "display_data"
    },
    {
     "data": {
      "image/png": "[encoded data removed]",
      "text/plain": [
       "<Figure size 432x288 with 1 Axes>"
      ]
     },
     "metadata": {
      "needs_background": "light"
     },
     "output_type": "display_data"
    },
    {
     "data": {
      "image/png": "[encoded data removed]",
      "text/plain": [
       "<Figure size 432x288 with 1 Axes>"
      ]
     },
     "metadata": {
      "needs_background": "light"
     },
     "output_type": "display_data"
    },
    {
     "data": {
      "image/png": "[encoded data removed]",
      "text/plain": [
       "<Figure size 432x288 with 1 Axes>"
      ]
     },
     "metadata": {
      "needs_background": "light"
     },
     "output_type": "display_data"
    }
   ],
   "source": [
    "#Для понимания пропусков в данных надо построить гистограммы \n",
    "\n",
    "plt.hist(data_users_go['age'], bins=100)\n",
    "plt.title('age')\n",
    "plt.xlabel('Возраст (лет)')\n",
    "plt.ylabel('Количество')\n",
    "plt.show()\n",
    "\n",
    "plt.hist(data_rides_go['distance'], bins=100)\n",
    "plt.title('distance')\n",
    "plt.xlabel('Расстояние (метров)')\n",
    "plt.ylabel('Количество')\n",
    "plt.show()\n",
    "\n",
    "plt.hist(data_rides_go['duration'], bins=100)\n",
    "plt.title('duration')\n",
    "plt.xlabel('Продолжительность (минут)')\n",
    "plt.ylabel('Количество')\n",
    "plt.show()\n",
    "\n",
    "plt.hist(data_rides_go['date'], bins=12)\n",
    "plt.title('date')\n",
    "plt.xlabel('Дата')\n",
    "plt.xticks(rotation=90)\n",
    "plt.ylabel('Количество')\n",
    "plt.show()"
   ]
  },
  {
   "cell_type": "markdown",
   "id": "c069dd70",
   "metadata": {},
   "source": [
    "<div class=\"alert alert-block alert-warning\">\n",
    "<b>🔁Комментарий ревьюера:</b> \n",
    "    \n",
    "Ты уже забегаешь в исследовательский анализ. В первом пункте нам нужно только загрузить данные, вывести несколько строк на экран из каждой таблицы и ознакомиться с общей информацией о данных. </div>"
   ]
  },
  {
   "cell_type": "markdown",
   "id": "51617564",
   "metadata": {},
   "source": [
    "Вывод : Данные нормализированы \n",
    "\n",
    "Пропущенных данных в таблицах нет.\n",
    "\n",
    "Дубликаты имеются среди пользователей, удалили строки-дубликаты.\n",
    "\n",
    "Добавили столбец month с номер месяца."
   ]
  },
  {
   "cell_type": "markdown",
   "id": "3bcd8d47",
   "metadata": {},
   "source": [
    "<div class=\"alert alert-block alert-success\">\n",
    "<b>✅Комментарий ревьюера:</b> Предобработка данных проведена успешно! Можно приступать к исследованию)</div>"
   ]
  },
  {
   "cell_type": "markdown",
   "id": "e5e61f80",
   "metadata": {},
   "source": [
    "#### Шаг 3. Исследовательский анализ данных"
   ]
  },
  {
   "cell_type": "code",
   "execution_count": 12,
   "id": "6c6dbae9",
   "metadata": {
    "scrolled": false
   },
   "outputs": [
    {
     "data": {
      "text/plain": [
       "Пятигорск         219\n",
       "Екатеринбург      204\n",
       "Ростов-на-Дону    198\n",
       "Краснодар         193\n",
       "Сочи              189\n",
       "Омск              183\n",
       "Тюмень            180\n",
       "Москва            168\n",
       "Name: city, dtype: int64"
      ]
     },
     "execution_count": 12,
     "metadata": {},
     "output_type": "execute_result"
    }
   ],
   "source": [
    "# Описываем и визуализируем общую информацию о пользователях и поездках\n",
    "# Начнем с частоты встречаемости городов\n",
    "count_users_by_city = data_users_go['city'].value_counts()\n",
    "count_users_by_city"
   ]
  },
  {
   "cell_type": "code",
   "execution_count": 13,
   "id": "d6f1ad2f",
   "metadata": {},
   "outputs": [
    {
     "data": {
      "text/plain": [
       "<AxesSubplot:title={'center':'Распределение пользователей по городам'}>"
      ]
     },
     "execution_count": 13,
     "metadata": {},
     "output_type": "execute_result"
    },
    {
     "data": {
      "image/png": "[encoded data removed]",
      "text/plain": [
       "<Figure size 432x288 with 1 Axes>"
      ]
     },
     "metadata": {
      "needs_background": "light"
     },
     "output_type": "display_data"
    }
   ],
   "source": [
    "data_users_go['city'].value_counts().sort_values(ascending=False).plot.barh(title='Распределение пользователей по городам', color=['blue', 'green', 'red', 'cyan', 'magenta', 'yellow'])"
   ]
  },
  {
   "cell_type": "markdown",
   "id": "0255c876",
   "metadata": {},
   "source": [
    "<div class=\"alert alert-block alert-warning\">\n",
    "<b>🔁Комментарий ревьюера 2:</b> \n",
    "\n",
    "Не забывай подписывать оси.</div>"
   ]
  },
  {
   "cell_type": "markdown",
   "id": "6b593efb",
   "metadata": {},
   "source": [
    "<div class=\"alert alert-block alert-warning\">\n",
    "<b>🔁Комментарий ревьюера:</b> \n",
    "\n",
    "Круговая диаграмма тут не подходит, доли получаются практически равными и сложно выделить лидеров. Вообще, если значений, отображаемых на графике, более 6, то использовать круговую диаграмму не рекомендуется.\n",
    "    \n",
    "Тут подойдет горизонтальный барплот с сортировкой по убыванию.</div>"
   ]
  },
  {
   "cell_type": "markdown",
   "id": "5da473f1",
   "metadata": {},
   "source": [
    "<div class=\"alert alert-block alert-success\">\n",
    "<b>✅Комментарий ревьюера 2:</b> Отлично, исправлено!👍  </div>"
   ]
  },
  {
   "cell_type": "markdown",
   "id": "595099ef",
   "metadata": {},
   "source": [
    "<div class=\"alert alert-block alert-info\">\n",
    "<b>🔄Комментарий студента:</b> \n",
    "Убрал круговую сделал барплот ✔\n",
    "</div>\n"
   ]
  },
  {
   "cell_type": "markdown",
   "id": "631d95b3",
   "metadata": {},
   "source": [
    "Вывод: Пятягорск занимает 14% выборки и встречается 219 раз"
   ]
  },
  {
   "cell_type": "code",
   "execution_count": 14,
   "id": "953a4837",
   "metadata": {},
   "outputs": [
    {
     "data": {
      "text/plain": [
       "free     835\n",
       "ultra    699\n",
       "Name: subscription_type, dtype: int64"
      ]
     },
     "execution_count": 14,
     "metadata": {},
     "output_type": "execute_result"
    }
   ],
   "source": [
    "# Смотрим соотношение пользователей с подпиской и без подписки\n",
    "count_sub = data_users_go['subscription_type'].value_counts()\n",
    "count_sub"
   ]
  },
  {
   "cell_type": "code",
   "execution_count": 15,
   "id": "185d465e",
   "metadata": {},
   "outputs": [
    {
     "data": {
      "image/png": "[encoded data removed]",
      "text/plain": [
       "<Figure size 360x360 with 1 Axes>"
      ]
     },
     "metadata": {},
     "output_type": "display_data"
    }
   ],
   "source": [
    "data_users_go['subscription_type'].value_counts().plot(\n",
    "    kind = 'pie', \n",
    "    y = count_sub, \n",
    "    autopct = '%1.0f%%', \n",
    "    figsize=(5,5),\n",
    "    title = 'Процентное соотношение пользователей в зависимости от тарифа');"
   ]
  },
  {
   "cell_type": "markdown",
   "id": "506224ce",
   "metadata": {},
   "source": [
    "<div class=\"alert alert-block alert-success\">\n",
    "<b>✅Комментарий ревьюера:</b> А вот тут круговая диаграмма отлично подходит!</div>"
   ]
  },
  {
   "cell_type": "markdown",
   "id": "6a5487ba",
   "metadata": {},
   "source": [
    "Вывод: На первом тарифе \"Без пописки\" количество 835 пользователей и 54% выборки"
   ]
  },
  {
   "cell_type": "code",
   "execution_count": 16,
   "id": "3308c03e",
   "metadata": {
    "scrolled": true
   },
   "outputs": [
    {
     "data": {
      "image/png": "[encoded data removed]",
      "text/plain": [
       "<Figure size 432x288 with 1 Axes>"
      ]
     },
     "metadata": {
      "needs_background": "light"
     },
     "output_type": "display_data"
    }
   ],
   "source": [
    "# Смотрим возраст пользователей\n",
    "plt.hist(data_users_go['age'], bins = 100)\n",
    "plt.title('Возраст пользователей')\n",
    "plt.xlabel('Возраст')\n",
    "plt.ylabel('Количество пользователей')\n",
    "plt.grid()\n",
    "plt.show()"
   ]
  },
  {
   "cell_type": "markdown",
   "id": "b56cb926",
   "metadata": {},
   "source": [
    "<div class=\"alert alert-block alert-success\">\n",
    "<b>✅Комментарий ревьюера:</b> Очень хорошо, что подписываешь графики и оси. </div>"
   ]
  },
  {
   "cell_type": "code",
   "execution_count": 17,
   "id": "07fe4166",
   "metadata": {},
   "outputs": [
    {
     "data": {
      "text/plain": [
       "25    145\n",
       "24    132\n",
       "26    131\n",
       "23    129\n",
       "27    119\n",
       "22    119\n",
       "28    112\n",
       "21     93\n",
       "20     71\n",
       "30     68\n",
       "29     68\n",
       "31     48\n",
       "19     47\n",
       "18     46\n",
       "32     41\n",
       "33     39\n",
       "17     26\n",
       "34     19\n",
       "16     19\n",
       "35     15\n",
       "15     13\n",
       "14      9\n",
       "13      8\n",
       "36      6\n",
       "12      4\n",
       "38      3\n",
       "37      2\n",
       "39      1\n",
       "43      1\n",
       "Name: age, dtype: int64"
      ]
     },
     "execution_count": 17,
     "metadata": {},
     "output_type": "execute_result"
    }
   ],
   "source": [
    "age_users = data_users_go['age'].value_counts()\n",
    "age_users"
   ]
  },
  {
   "cell_type": "markdown",
   "id": "626e0123",
   "metadata": {},
   "source": [
    "Вывод: Самый старый (суперстар) пользователь 43 года, самый молодой 12 лет. Большее количество 25 лет"
   ]
  },
  {
   "cell_type": "code",
   "execution_count": 18,
   "id": "f8492082",
   "metadata": {},
   "outputs": [
    {
     "data": {
      "text/plain": [
       "count    18068.000000\n",
       "mean      3070.659976\n",
       "std       1116.831209\n",
       "min          0.855683\n",
       "25%       2543.226360\n",
       "50%       3133.609994\n",
       "75%       3776.222735\n",
       "max       7211.007745\n",
       "Name: distance, dtype: float64"
      ]
     },
     "execution_count": 18,
     "metadata": {},
     "output_type": "execute_result"
    }
   ],
   "source": [
    "# Изучаем расстояние, которое пользователь преодолел за одну поездку\n",
    "data_rides_go['distance'].describe()"
   ]
  },
  {
   "cell_type": "markdown",
   "id": "29158059",
   "metadata": {},
   "source": [
    "<div class=\"alert alert-block alert-success\">\n",
    "<b>✅Комментарий ревьюера:</b> \n",
    "\n",
    "Здорово, что используешь метод `describe()` как дополнительный инструмент анализа.</div>"
   ]
  },
  {
   "cell_type": "code",
   "execution_count": 19,
   "id": "73a690e0",
   "metadata": {
    "scrolled": false
   },
   "outputs": [
    {
     "data": {
      "image/png": "[encoded data removed]",
      "text/plain": [
       "<Figure size 432x288 with 1 Axes>"
      ]
     },
     "metadata": {
      "needs_background": "light"
     },
     "output_type": "display_data"
    }
   ],
   "source": [
    "plt.hist(data_rides_go['distance'], bins=100, range=(1,5620))\n",
    "plt.title('Количество поездок в зависимости от расстояния поездки')\n",
    "plt.xlabel('Расстояние в метрах')\n",
    "plt.ylabel('Количество поездок')\n",
    "plt.show()"
   ]
  },
  {
   "cell_type": "markdown",
   "id": "2729265a",
   "metadata": {},
   "source": [
    "Вывод: Самая длинная поездка 7 км, самая короткая 800 метров. Больше всего ездят на 3 км."
   ]
  },
  {
   "cell_type": "markdown",
   "id": "bd3399a2",
   "metadata": {},
   "source": [
    "<div class=\"alert alert-block alert-warning\">\n",
    "<b>🔁Комментарий ревьюера:</b>\n",
    "\n",
    "Как ты думаешь, чем можно объяснить два пиковых значения на распределении?</div>"
   ]
  },
  {
   "cell_type": "code",
   "execution_count": 20,
   "id": "96f581df",
   "metadata": {},
   "outputs": [
    {
     "data": {
      "text/plain": [
       "count    18068.000000\n",
       "mean        17.805011\n",
       "std          6.091051\n",
       "min          0.500000\n",
       "25%         13.597563\n",
       "50%         17.678395\n",
       "75%         21.724800\n",
       "max         40.823963\n",
       "Name: duration, dtype: float64"
      ]
     },
     "execution_count": 20,
     "metadata": {},
     "output_type": "execute_result"
    }
   ],
   "source": [
    "# Продолжительность поездок\n",
    "data_rides_go['duration'].describe()"
   ]
  },
  {
   "cell_type": "code",
   "execution_count": 21,
   "id": "e3c6872c",
   "metadata": {
    "scrolled": true
   },
   "outputs": [
    {
     "data": {
      "image/png": "[encoded data removed]",
      "text/plain": [
       "<Figure size 432x288 with 1 Axes>"
      ]
     },
     "metadata": {
      "needs_background": "light"
     },
     "output_type": "display_data"
    }
   ],
   "source": [
    "plt.hist(data_rides_go['duration'], bins=100)\n",
    "plt.title('Количество поездок в зависимости от продолжительности')\n",
    "plt.xlabel('продолжительность поездки')\n",
    "plt.ylabel('Количество поездок')\n",
    "plt.show()"
   ]
  },
  {
   "cell_type": "markdown",
   "id": "55c5c0eb",
   "metadata": {},
   "source": [
    "<div class=\"alert alert-block alert-warning\">\n",
    "<b>🔁Комментарий ревьюера:</b>\n",
    "\n",
    "А зачем ты делаешь огрничение диапазона значений? Так мы можем упустить важные детали. Параметр range следует убрать, тогда мы сможем заметить странный пик около 0. Строки с этими поездками и их параметры стоит рассмотреть подробнее на предмет аномалий.</div>"
   ]
  },
  {
   "cell_type": "code",
   "execution_count": 22,
   "id": "485abb4d",
   "metadata": {
    "scrolled": true
   },
   "outputs": [
    {
     "data": {
      "image/png": "[encoded data removed]",
      "text/plain": [
       "<Figure size 432x288 with 1 Axes>"
      ]
     },
     "metadata": {
      "needs_background": "light"
     },
     "output_type": "display_data"
    }
   ],
   "source": [
    "sns.boxplot(x = data_rides_go['duration'], color='blue')\n",
    "plt.title('Время, проведенное в поездке')\n",
    "plt.xlabel('Время, минуты')\n",
    "_ = plt.xlim(0, 45)"
   ]
  },
  {
   "cell_type": "markdown",
   "id": "b484d784",
   "metadata": {},
   "source": [
    "Вывод: больше всего ездят от 15 до 20 минут. Самая короткая поезда меньше минуты, самая длинная 40 минут"
   ]
  },
  {
   "cell_type": "markdown",
   "id": "e749ee04",
   "metadata": {},
   "source": [
    "#### Шаг 4. Объединение данных"
   ]
  },
  {
   "cell_type": "markdown",
   "id": "e495395a",
   "metadata": {},
   "source": [
    "Объединим данные о пользователях, поездках и подписках в один датафрейм."
   ]
  },
  {
   "cell_type": "code",
   "execution_count": 23,
   "id": "fa1ad966",
   "metadata": {},
   "outputs": [],
   "source": [
    "#  Мержим пользователе и поезки (data_users_go + data_rides_go )\n",
    "all_data = data_users_go.merge(data_rides_go)"
   ]
  },
  {
   "cell_type": "code",
   "execution_count": 24,
   "id": "b9e39d83",
   "metadata": {},
   "outputs": [],
   "source": [
    "# Мержим выше созданную таблицу с подписками (all_data + data_subscriptions_go)\n",
    "all_data = all_data.merge(data_subscriptions_go)"
   ]
  },
  {
   "cell_type": "markdown",
   "id": "37724659",
   "metadata": {},
   "source": [
    "<div class=\"alert alert-block alert-warning\">\n",
    "<b>🔁Комментарий ревьюера:</b>\n",
    "\n",
    "Лучше всегда явно указывать столбец, по которому происходит объединение таблиц.\n",
    "\n",
    "</div>"
   ]
  },
  {
   "cell_type": "markdown",
   "id": "fdc3d943",
   "metadata": {},
   "source": [
    "<div class=\"alert alert-block alert-info\">\n",
    "<b>🔄Комментарий студента:</b> \n",
    "Указал в коментах ✔\n",
    "</div>"
   ]
  },
  {
   "cell_type": "markdown",
   "id": "1f24a5e7",
   "metadata": {},
   "source": [
    "<div class=\"alert alert-block alert-warning\">\n",
    "<b>🔁Комментарий ревьюера 2:</b>\n",
    "\n",
    "В комментариях ты указал объединяемые таблицы. А по каким столбцам они объединяются? Это нужно указывать в качестве значения параметра `on`\n",
    "</div>"
   ]
  },
  {
   "cell_type": "code",
   "execution_count": 25,
   "id": "7208eb34",
   "metadata": {
    "scrolled": true
   },
   "outputs": [
    {
     "data": {
      "text/html": [
       "<div>\n",
       "<style scoped>\n",
       "    .dataframe tbody tr th:only-of-type {\n",
       "        vertical-align: middle;\n",
       "    }\n",
       "\n",
       "    .dataframe tbody tr th {\n",
       "        vertical-align: top;\n",
       "    }\n",
       "\n",
       "    .dataframe thead th {\n",
       "        text-align: right;\n",
       "    }\n",
       "</style>\n",
       "<table border=\"1\" class=\"dataframe\">\n",
       "  <thead>\n",
       "    <tr style=\"text-align: right;\">\n",
       "      <th></th>\n",
       "      <th>user_id</th>\n",
       "      <th>name</th>\n",
       "      <th>age</th>\n",
       "      <th>city</th>\n",
       "      <th>subscription_type</th>\n",
       "      <th>distance</th>\n",
       "      <th>duration</th>\n",
       "      <th>date</th>\n",
       "      <th>month</th>\n",
       "      <th>minute_price</th>\n",
       "      <th>start_ride_price</th>\n",
       "      <th>subscription_fee</th>\n",
       "    </tr>\n",
       "  </thead>\n",
       "  <tbody>\n",
       "    <tr>\n",
       "      <th>0</th>\n",
       "      <td>1</td>\n",
       "      <td>Кира</td>\n",
       "      <td>22</td>\n",
       "      <td>Тюмень</td>\n",
       "      <td>ultra</td>\n",
       "      <td>4409.919140</td>\n",
       "      <td>25.599769</td>\n",
       "      <td>2021-01-01</td>\n",
       "      <td>1</td>\n",
       "      <td>6</td>\n",
       "      <td>0</td>\n",
       "      <td>199</td>\n",
       "    </tr>\n",
       "    <tr>\n",
       "      <th>1</th>\n",
       "      <td>1</td>\n",
       "      <td>Кира</td>\n",
       "      <td>22</td>\n",
       "      <td>Тюмень</td>\n",
       "      <td>ultra</td>\n",
       "      <td>2617.592153</td>\n",
       "      <td>15.816871</td>\n",
       "      <td>2021-01-18</td>\n",
       "      <td>1</td>\n",
       "      <td>6</td>\n",
       "      <td>0</td>\n",
       "      <td>199</td>\n",
       "    </tr>\n",
       "    <tr>\n",
       "      <th>2</th>\n",
       "      <td>1</td>\n",
       "      <td>Кира</td>\n",
       "      <td>22</td>\n",
       "      <td>Тюмень</td>\n",
       "      <td>ultra</td>\n",
       "      <td>754.159807</td>\n",
       "      <td>6.232113</td>\n",
       "      <td>2021-04-20</td>\n",
       "      <td>4</td>\n",
       "      <td>6</td>\n",
       "      <td>0</td>\n",
       "      <td>199</td>\n",
       "    </tr>\n",
       "    <tr>\n",
       "      <th>3</th>\n",
       "      <td>1</td>\n",
       "      <td>Кира</td>\n",
       "      <td>22</td>\n",
       "      <td>Тюмень</td>\n",
       "      <td>ultra</td>\n",
       "      <td>2694.783254</td>\n",
       "      <td>18.511000</td>\n",
       "      <td>2021-08-11</td>\n",
       "      <td>8</td>\n",
       "      <td>6</td>\n",
       "      <td>0</td>\n",
       "      <td>199</td>\n",
       "    </tr>\n",
       "    <tr>\n",
       "      <th>4</th>\n",
       "      <td>1</td>\n",
       "      <td>Кира</td>\n",
       "      <td>22</td>\n",
       "      <td>Тюмень</td>\n",
       "      <td>ultra</td>\n",
       "      <td>4028.687306</td>\n",
       "      <td>26.265803</td>\n",
       "      <td>2021-08-28</td>\n",
       "      <td>8</td>\n",
       "      <td>6</td>\n",
       "      <td>0</td>\n",
       "      <td>199</td>\n",
       "    </tr>\n",
       "    <tr>\n",
       "      <th>...</th>\n",
       "      <td>...</td>\n",
       "      <td>...</td>\n",
       "      <td>...</td>\n",
       "      <td>...</td>\n",
       "      <td>...</td>\n",
       "      <td>...</td>\n",
       "      <td>...</td>\n",
       "      <td>...</td>\n",
       "      <td>...</td>\n",
       "      <td>...</td>\n",
       "      <td>...</td>\n",
       "      <td>...</td>\n",
       "    </tr>\n",
       "    <tr>\n",
       "      <th>18063</th>\n",
       "      <td>1534</td>\n",
       "      <td>Альберт</td>\n",
       "      <td>25</td>\n",
       "      <td>Краснодар</td>\n",
       "      <td>free</td>\n",
       "      <td>3781.098080</td>\n",
       "      <td>19.822962</td>\n",
       "      <td>2021-11-04</td>\n",
       "      <td>11</td>\n",
       "      <td>8</td>\n",
       "      <td>50</td>\n",
       "      <td>0</td>\n",
       "    </tr>\n",
       "    <tr>\n",
       "      <th>18064</th>\n",
       "      <td>1534</td>\n",
       "      <td>Альберт</td>\n",
       "      <td>25</td>\n",
       "      <td>Краснодар</td>\n",
       "      <td>free</td>\n",
       "      <td>2840.423057</td>\n",
       "      <td>21.409799</td>\n",
       "      <td>2021-11-16</td>\n",
       "      <td>11</td>\n",
       "      <td>8</td>\n",
       "      <td>50</td>\n",
       "      <td>0</td>\n",
       "    </tr>\n",
       "    <tr>\n",
       "      <th>18065</th>\n",
       "      <td>1534</td>\n",
       "      <td>Альберт</td>\n",
       "      <td>25</td>\n",
       "      <td>Краснодар</td>\n",
       "      <td>free</td>\n",
       "      <td>3826.185507</td>\n",
       "      <td>18.435051</td>\n",
       "      <td>2021-11-18</td>\n",
       "      <td>11</td>\n",
       "      <td>8</td>\n",
       "      <td>50</td>\n",
       "      <td>0</td>\n",
       "    </tr>\n",
       "    <tr>\n",
       "      <th>18066</th>\n",
       "      <td>1534</td>\n",
       "      <td>Альберт</td>\n",
       "      <td>25</td>\n",
       "      <td>Краснодар</td>\n",
       "      <td>free</td>\n",
       "      <td>2902.308661</td>\n",
       "      <td>16.674362</td>\n",
       "      <td>2021-11-27</td>\n",
       "      <td>11</td>\n",
       "      <td>8</td>\n",
       "      <td>50</td>\n",
       "      <td>0</td>\n",
       "    </tr>\n",
       "    <tr>\n",
       "      <th>18067</th>\n",
       "      <td>1534</td>\n",
       "      <td>Альберт</td>\n",
       "      <td>25</td>\n",
       "      <td>Краснодар</td>\n",
       "      <td>free</td>\n",
       "      <td>2371.711192</td>\n",
       "      <td>15.893917</td>\n",
       "      <td>2021-12-29</td>\n",
       "      <td>12</td>\n",
       "      <td>8</td>\n",
       "      <td>50</td>\n",
       "      <td>0</td>\n",
       "    </tr>\n",
       "  </tbody>\n",
       "</table>\n",
       "<p>18068 rows × 12 columns</p>\n",
       "</div>"
      ],
      "text/plain": [
       "       user_id     name  age       city subscription_type     distance  \\\n",
       "0            1     Кира   22     Тюмень             ultra  4409.919140   \n",
       "1            1     Кира   22     Тюмень             ultra  2617.592153   \n",
       "2            1     Кира   22     Тюмень             ultra   754.159807   \n",
       "3            1     Кира   22     Тюмень             ultra  2694.783254   \n",
       "4            1     Кира   22     Тюмень             ultra  4028.687306   \n",
       "...        ...      ...  ...        ...               ...          ...   \n",
       "18063     1534  Альберт   25  Краснодар              free  3781.098080   \n",
       "18064     1534  Альберт   25  Краснодар              free  2840.423057   \n",
       "18065     1534  Альберт   25  Краснодар              free  3826.185507   \n",
       "18066     1534  Альберт   25  Краснодар              free  2902.308661   \n",
       "18067     1534  Альберт   25  Краснодар              free  2371.711192   \n",
       "\n",
       "        duration       date  month  minute_price  start_ride_price  \\\n",
       "0      25.599769 2021-01-01      1             6                 0   \n",
       "1      15.816871 2021-01-18      1             6                 0   \n",
       "2       6.232113 2021-04-20      4             6                 0   \n",
       "3      18.511000 2021-08-11      8             6                 0   \n",
       "4      26.265803 2021-08-28      8             6                 0   \n",
       "...          ...        ...    ...           ...               ...   \n",
       "18063  19.822962 2021-11-04     11             8                50   \n",
       "18064  21.409799 2021-11-16     11             8                50   \n",
       "18065  18.435051 2021-11-18     11             8                50   \n",
       "18066  16.674362 2021-11-27     11             8                50   \n",
       "18067  15.893917 2021-12-29     12             8                50   \n",
       "\n",
       "       subscription_fee  \n",
       "0                   199  \n",
       "1                   199  \n",
       "2                   199  \n",
       "3                   199  \n",
       "4                   199  \n",
       "...                 ...  \n",
       "18063                 0  \n",
       "18064                 0  \n",
       "18065                 0  \n",
       "18066                 0  \n",
       "18067                 0  \n",
       "\n",
       "[18068 rows x 12 columns]"
      ]
     },
     "execution_count": 25,
     "metadata": {},
     "output_type": "execute_result"
    }
   ],
   "source": [
    "# Проверяем\n",
    "all_data"
   ]
  },
  {
   "cell_type": "code",
   "execution_count": 26,
   "id": "671a8fe3",
   "metadata": {},
   "outputs": [
    {
     "name": "stdout",
     "output_type": "stream",
     "text": [
      "<class 'pandas.core.frame.DataFrame'>\n",
      "Int64Index: 18068 entries, 0 to 18067\n",
      "Data columns (total 12 columns):\n",
      " #   Column             Non-Null Count  Dtype         \n",
      "---  ------             --------------  -----         \n",
      " 0   user_id            18068 non-null  int64         \n",
      " 1   name               18068 non-null  object        \n",
      " 2   age                18068 non-null  int64         \n",
      " 3   city               18068 non-null  object        \n",
      " 4   subscription_type  18068 non-null  object        \n",
      " 5   distance           18068 non-null  float64       \n",
      " 6   duration           18068 non-null  float64       \n",
      " 7   date               18068 non-null  datetime64[ns]\n",
      " 8   month              18068 non-null  int64         \n",
      " 9   minute_price       18068 non-null  int64         \n",
      " 10  start_ride_price   18068 non-null  int64         \n",
      " 11  subscription_fee   18068 non-null  int64         \n",
      "dtypes: datetime64[ns](1), float64(2), int64(6), object(3)\n",
      "memory usage: 1.8+ MB\n"
     ]
    }
   ],
   "source": [
    "#проверяем полученную таблицу\n",
    "all_data.info()"
   ]
  },
  {
   "cell_type": "markdown",
   "id": "b7ba553f",
   "metadata": {},
   "source": [
    "<div class=\"alert alert-block alert-warning\">\n",
    "<b>🔁Комментарий ревьюера:</b>\n",
    "\n",
    "Тут стоит проверить количество строк полученной таблицы и сравнить ее с количеством строк таблиц до объединения, чтобы убедиться что мы ничего не потеряли и не добавили лишнего. А также проверить, не появились ли пропуски в таблице.\n",
    "\n",
    "</div>"
   ]
  },
  {
   "cell_type": "markdown",
   "id": "314d8dfd",
   "metadata": {},
   "source": [
    "<div class=\"alert alert-block alert-success\">\n",
    "<b>✅Комментарий ревьюера 2:</b> Отлично, исправлено!👍  </div>"
   ]
  },
  {
   "cell_type": "markdown",
   "id": "c928b357",
   "metadata": {},
   "source": [
    "<div class=\"alert alert-block alert-info\">\n",
    "<b>🔄Комментарий студента:</b> \n",
    "done ✔\n",
    "</div>"
   ]
  },
  {
   "cell_type": "markdown",
   "id": "800d282f",
   "metadata": {},
   "source": [
    "Создадим датафрейм с данными о пользователях без подписки"
   ]
  },
  {
   "cell_type": "code",
   "execution_count": 27,
   "id": "92bc5367",
   "metadata": {},
   "outputs": [],
   "source": [
    "subfree = all_data.query(\"`subscription_type` == 'free'\")"
   ]
  },
  {
   "cell_type": "code",
   "execution_count": 28,
   "id": "7f144444",
   "metadata": {},
   "outputs": [
    {
     "data": {
      "text/html": [
       "<div>\n",
       "<style scoped>\n",
       "    .dataframe tbody tr th:only-of-type {\n",
       "        vertical-align: middle;\n",
       "    }\n",
       "\n",
       "    .dataframe tbody tr th {\n",
       "        vertical-align: top;\n",
       "    }\n",
       "\n",
       "    .dataframe thead th {\n",
       "        text-align: right;\n",
       "    }\n",
       "</style>\n",
       "<table border=\"1\" class=\"dataframe\">\n",
       "  <thead>\n",
       "    <tr style=\"text-align: right;\">\n",
       "      <th></th>\n",
       "      <th>user_id</th>\n",
       "      <th>name</th>\n",
       "      <th>age</th>\n",
       "      <th>city</th>\n",
       "      <th>subscription_type</th>\n",
       "      <th>distance</th>\n",
       "      <th>duration</th>\n",
       "      <th>date</th>\n",
       "      <th>month</th>\n",
       "      <th>minute_price</th>\n",
       "      <th>start_ride_price</th>\n",
       "      <th>subscription_fee</th>\n",
       "    </tr>\n",
       "  </thead>\n",
       "  <tbody>\n",
       "    <tr>\n",
       "      <th>6500</th>\n",
       "      <td>700</td>\n",
       "      <td>Айдар</td>\n",
       "      <td>22</td>\n",
       "      <td>Омск</td>\n",
       "      <td>free</td>\n",
       "      <td>2515.690719</td>\n",
       "      <td>14.944286</td>\n",
       "      <td>2021-01-02</td>\n",
       "      <td>1</td>\n",
       "      <td>8</td>\n",
       "      <td>50</td>\n",
       "      <td>0</td>\n",
       "    </tr>\n",
       "    <tr>\n",
       "      <th>6501</th>\n",
       "      <td>700</td>\n",
       "      <td>Айдар</td>\n",
       "      <td>22</td>\n",
       "      <td>Омск</td>\n",
       "      <td>free</td>\n",
       "      <td>846.932642</td>\n",
       "      <td>16.234663</td>\n",
       "      <td>2021-02-01</td>\n",
       "      <td>2</td>\n",
       "      <td>8</td>\n",
       "      <td>50</td>\n",
       "      <td>0</td>\n",
       "    </tr>\n",
       "    <tr>\n",
       "      <th>6502</th>\n",
       "      <td>700</td>\n",
       "      <td>Айдар</td>\n",
       "      <td>22</td>\n",
       "      <td>Омск</td>\n",
       "      <td>free</td>\n",
       "      <td>4004.434142</td>\n",
       "      <td>20.016628</td>\n",
       "      <td>2021-02-04</td>\n",
       "      <td>2</td>\n",
       "      <td>8</td>\n",
       "      <td>50</td>\n",
       "      <td>0</td>\n",
       "    </tr>\n",
       "    <tr>\n",
       "      <th>6503</th>\n",
       "      <td>700</td>\n",
       "      <td>Айдар</td>\n",
       "      <td>22</td>\n",
       "      <td>Омск</td>\n",
       "      <td>free</td>\n",
       "      <td>1205.911290</td>\n",
       "      <td>9.782872</td>\n",
       "      <td>2021-02-10</td>\n",
       "      <td>2</td>\n",
       "      <td>8</td>\n",
       "      <td>50</td>\n",
       "      <td>0</td>\n",
       "    </tr>\n",
       "    <tr>\n",
       "      <th>6504</th>\n",
       "      <td>700</td>\n",
       "      <td>Айдар</td>\n",
       "      <td>22</td>\n",
       "      <td>Омск</td>\n",
       "      <td>free</td>\n",
       "      <td>3047.379435</td>\n",
       "      <td>17.427673</td>\n",
       "      <td>2021-02-14</td>\n",
       "      <td>2</td>\n",
       "      <td>8</td>\n",
       "      <td>50</td>\n",
       "      <td>0</td>\n",
       "    </tr>\n",
       "    <tr>\n",
       "      <th>...</th>\n",
       "      <td>...</td>\n",
       "      <td>...</td>\n",
       "      <td>...</td>\n",
       "      <td>...</td>\n",
       "      <td>...</td>\n",
       "      <td>...</td>\n",
       "      <td>...</td>\n",
       "      <td>...</td>\n",
       "      <td>...</td>\n",
       "      <td>...</td>\n",
       "      <td>...</td>\n",
       "      <td>...</td>\n",
       "    </tr>\n",
       "    <tr>\n",
       "      <th>18063</th>\n",
       "      <td>1534</td>\n",
       "      <td>Альберт</td>\n",
       "      <td>25</td>\n",
       "      <td>Краснодар</td>\n",
       "      <td>free</td>\n",
       "      <td>3781.098080</td>\n",
       "      <td>19.822962</td>\n",
       "      <td>2021-11-04</td>\n",
       "      <td>11</td>\n",
       "      <td>8</td>\n",
       "      <td>50</td>\n",
       "      <td>0</td>\n",
       "    </tr>\n",
       "    <tr>\n",
       "      <th>18064</th>\n",
       "      <td>1534</td>\n",
       "      <td>Альберт</td>\n",
       "      <td>25</td>\n",
       "      <td>Краснодар</td>\n",
       "      <td>free</td>\n",
       "      <td>2840.423057</td>\n",
       "      <td>21.409799</td>\n",
       "      <td>2021-11-16</td>\n",
       "      <td>11</td>\n",
       "      <td>8</td>\n",
       "      <td>50</td>\n",
       "      <td>0</td>\n",
       "    </tr>\n",
       "    <tr>\n",
       "      <th>18065</th>\n",
       "      <td>1534</td>\n",
       "      <td>Альберт</td>\n",
       "      <td>25</td>\n",
       "      <td>Краснодар</td>\n",
       "      <td>free</td>\n",
       "      <td>3826.185507</td>\n",
       "      <td>18.435051</td>\n",
       "      <td>2021-11-18</td>\n",
       "      <td>11</td>\n",
       "      <td>8</td>\n",
       "      <td>50</td>\n",
       "      <td>0</td>\n",
       "    </tr>\n",
       "    <tr>\n",
       "      <th>18066</th>\n",
       "      <td>1534</td>\n",
       "      <td>Альберт</td>\n",
       "      <td>25</td>\n",
       "      <td>Краснодар</td>\n",
       "      <td>free</td>\n",
       "      <td>2902.308661</td>\n",
       "      <td>16.674362</td>\n",
       "      <td>2021-11-27</td>\n",
       "      <td>11</td>\n",
       "      <td>8</td>\n",
       "      <td>50</td>\n",
       "      <td>0</td>\n",
       "    </tr>\n",
       "    <tr>\n",
       "      <th>18067</th>\n",
       "      <td>1534</td>\n",
       "      <td>Альберт</td>\n",
       "      <td>25</td>\n",
       "      <td>Краснодар</td>\n",
       "      <td>free</td>\n",
       "      <td>2371.711192</td>\n",
       "      <td>15.893917</td>\n",
       "      <td>2021-12-29</td>\n",
       "      <td>12</td>\n",
       "      <td>8</td>\n",
       "      <td>50</td>\n",
       "      <td>0</td>\n",
       "    </tr>\n",
       "  </tbody>\n",
       "</table>\n",
       "<p>11568 rows × 12 columns</p>\n",
       "</div>"
      ],
      "text/plain": [
       "       user_id     name  age       city subscription_type     distance  \\\n",
       "6500       700    Айдар   22       Омск              free  2515.690719   \n",
       "6501       700    Айдар   22       Омск              free   846.932642   \n",
       "6502       700    Айдар   22       Омск              free  4004.434142   \n",
       "6503       700    Айдар   22       Омск              free  1205.911290   \n",
       "6504       700    Айдар   22       Омск              free  3047.379435   \n",
       "...        ...      ...  ...        ...               ...          ...   \n",
       "18063     1534  Альберт   25  Краснодар              free  3781.098080   \n",
       "18064     1534  Альберт   25  Краснодар              free  2840.423057   \n",
       "18065     1534  Альберт   25  Краснодар              free  3826.185507   \n",
       "18066     1534  Альберт   25  Краснодар              free  2902.308661   \n",
       "18067     1534  Альберт   25  Краснодар              free  2371.711192   \n",
       "\n",
       "        duration       date  month  minute_price  start_ride_price  \\\n",
       "6500   14.944286 2021-01-02      1             8                50   \n",
       "6501   16.234663 2021-02-01      2             8                50   \n",
       "6502   20.016628 2021-02-04      2             8                50   \n",
       "6503    9.782872 2021-02-10      2             8                50   \n",
       "6504   17.427673 2021-02-14      2             8                50   \n",
       "...          ...        ...    ...           ...               ...   \n",
       "18063  19.822962 2021-11-04     11             8                50   \n",
       "18064  21.409799 2021-11-16     11             8                50   \n",
       "18065  18.435051 2021-11-18     11             8                50   \n",
       "18066  16.674362 2021-11-27     11             8                50   \n",
       "18067  15.893917 2021-12-29     12             8                50   \n",
       "\n",
       "       subscription_fee  \n",
       "6500                  0  \n",
       "6501                  0  \n",
       "6502                  0  \n",
       "6503                  0  \n",
       "6504                  0  \n",
       "...                 ...  \n",
       "18063                 0  \n",
       "18064                 0  \n",
       "18065                 0  \n",
       "18066                 0  \n",
       "18067                 0  \n",
       "\n",
       "[11568 rows x 12 columns]"
      ]
     },
     "execution_count": 28,
     "metadata": {},
     "output_type": "execute_result"
    }
   ],
   "source": [
    "subfree"
   ]
  },
  {
   "cell_type": "markdown",
   "id": "35632322",
   "metadata": {},
   "source": [
    "Создадим датафрейм с данными о пользователях c подпиской Ultra"
   ]
  },
  {
   "cell_type": "code",
   "execution_count": 29,
   "id": "1934f8e3",
   "metadata": {},
   "outputs": [],
   "source": [
    "subultra = all_data.query(\"`subscription_type` == 'ultra'\")"
   ]
  },
  {
   "cell_type": "code",
   "execution_count": 30,
   "id": "817717f0",
   "metadata": {
    "scrolled": true
   },
   "outputs": [
    {
     "data": {
      "text/html": [
       "<div>\n",
       "<style scoped>\n",
       "    .dataframe tbody tr th:only-of-type {\n",
       "        vertical-align: middle;\n",
       "    }\n",
       "\n",
       "    .dataframe tbody tr th {\n",
       "        vertical-align: top;\n",
       "    }\n",
       "\n",
       "    .dataframe thead th {\n",
       "        text-align: right;\n",
       "    }\n",
       "</style>\n",
       "<table border=\"1\" class=\"dataframe\">\n",
       "  <thead>\n",
       "    <tr style=\"text-align: right;\">\n",
       "      <th></th>\n",
       "      <th>user_id</th>\n",
       "      <th>name</th>\n",
       "      <th>age</th>\n",
       "      <th>city</th>\n",
       "      <th>subscription_type</th>\n",
       "      <th>distance</th>\n",
       "      <th>duration</th>\n",
       "      <th>date</th>\n",
       "      <th>month</th>\n",
       "      <th>minute_price</th>\n",
       "      <th>start_ride_price</th>\n",
       "      <th>subscription_fee</th>\n",
       "    </tr>\n",
       "  </thead>\n",
       "  <tbody>\n",
       "    <tr>\n",
       "      <th>0</th>\n",
       "      <td>1</td>\n",
       "      <td>Кира</td>\n",
       "      <td>22</td>\n",
       "      <td>Тюмень</td>\n",
       "      <td>ultra</td>\n",
       "      <td>4409.919140</td>\n",
       "      <td>25.599769</td>\n",
       "      <td>2021-01-01</td>\n",
       "      <td>1</td>\n",
       "      <td>6</td>\n",
       "      <td>0</td>\n",
       "      <td>199</td>\n",
       "    </tr>\n",
       "    <tr>\n",
       "      <th>1</th>\n",
       "      <td>1</td>\n",
       "      <td>Кира</td>\n",
       "      <td>22</td>\n",
       "      <td>Тюмень</td>\n",
       "      <td>ultra</td>\n",
       "      <td>2617.592153</td>\n",
       "      <td>15.816871</td>\n",
       "      <td>2021-01-18</td>\n",
       "      <td>1</td>\n",
       "      <td>6</td>\n",
       "      <td>0</td>\n",
       "      <td>199</td>\n",
       "    </tr>\n",
       "    <tr>\n",
       "      <th>2</th>\n",
       "      <td>1</td>\n",
       "      <td>Кира</td>\n",
       "      <td>22</td>\n",
       "      <td>Тюмень</td>\n",
       "      <td>ultra</td>\n",
       "      <td>754.159807</td>\n",
       "      <td>6.232113</td>\n",
       "      <td>2021-04-20</td>\n",
       "      <td>4</td>\n",
       "      <td>6</td>\n",
       "      <td>0</td>\n",
       "      <td>199</td>\n",
       "    </tr>\n",
       "    <tr>\n",
       "      <th>3</th>\n",
       "      <td>1</td>\n",
       "      <td>Кира</td>\n",
       "      <td>22</td>\n",
       "      <td>Тюмень</td>\n",
       "      <td>ultra</td>\n",
       "      <td>2694.783254</td>\n",
       "      <td>18.511000</td>\n",
       "      <td>2021-08-11</td>\n",
       "      <td>8</td>\n",
       "      <td>6</td>\n",
       "      <td>0</td>\n",
       "      <td>199</td>\n",
       "    </tr>\n",
       "    <tr>\n",
       "      <th>4</th>\n",
       "      <td>1</td>\n",
       "      <td>Кира</td>\n",
       "      <td>22</td>\n",
       "      <td>Тюмень</td>\n",
       "      <td>ultra</td>\n",
       "      <td>4028.687306</td>\n",
       "      <td>26.265803</td>\n",
       "      <td>2021-08-28</td>\n",
       "      <td>8</td>\n",
       "      <td>6</td>\n",
       "      <td>0</td>\n",
       "      <td>199</td>\n",
       "    </tr>\n",
       "    <tr>\n",
       "      <th>...</th>\n",
       "      <td>...</td>\n",
       "      <td>...</td>\n",
       "      <td>...</td>\n",
       "      <td>...</td>\n",
       "      <td>...</td>\n",
       "      <td>...</td>\n",
       "      <td>...</td>\n",
       "      <td>...</td>\n",
       "      <td>...</td>\n",
       "      <td>...</td>\n",
       "      <td>...</td>\n",
       "      <td>...</td>\n",
       "    </tr>\n",
       "    <tr>\n",
       "      <th>6495</th>\n",
       "      <td>699</td>\n",
       "      <td>Оксана</td>\n",
       "      <td>22</td>\n",
       "      <td>Москва</td>\n",
       "      <td>ultra</td>\n",
       "      <td>3973.046497</td>\n",
       "      <td>24.671163</td>\n",
       "      <td>2021-08-29</td>\n",
       "      <td>8</td>\n",
       "      <td>6</td>\n",
       "      <td>0</td>\n",
       "      <td>199</td>\n",
       "    </tr>\n",
       "    <tr>\n",
       "      <th>6496</th>\n",
       "      <td>699</td>\n",
       "      <td>Оксана</td>\n",
       "      <td>22</td>\n",
       "      <td>Москва</td>\n",
       "      <td>ultra</td>\n",
       "      <td>3288.702563</td>\n",
       "      <td>15.892886</td>\n",
       "      <td>2021-09-12</td>\n",
       "      <td>9</td>\n",
       "      <td>6</td>\n",
       "      <td>0</td>\n",
       "      <td>199</td>\n",
       "    </tr>\n",
       "    <tr>\n",
       "      <th>6497</th>\n",
       "      <td>699</td>\n",
       "      <td>Оксана</td>\n",
       "      <td>22</td>\n",
       "      <td>Москва</td>\n",
       "      <td>ultra</td>\n",
       "      <td>3076.159348</td>\n",
       "      <td>14.389525</td>\n",
       "      <td>2021-09-26</td>\n",
       "      <td>9</td>\n",
       "      <td>6</td>\n",
       "      <td>0</td>\n",
       "      <td>199</td>\n",
       "    </tr>\n",
       "    <tr>\n",
       "      <th>6498</th>\n",
       "      <td>699</td>\n",
       "      <td>Оксана</td>\n",
       "      <td>22</td>\n",
       "      <td>Москва</td>\n",
       "      <td>ultra</td>\n",
       "      <td>4707.845501</td>\n",
       "      <td>15.839579</td>\n",
       "      <td>2021-10-17</td>\n",
       "      <td>10</td>\n",
       "      <td>6</td>\n",
       "      <td>0</td>\n",
       "      <td>199</td>\n",
       "    </tr>\n",
       "    <tr>\n",
       "      <th>6499</th>\n",
       "      <td>699</td>\n",
       "      <td>Оксана</td>\n",
       "      <td>22</td>\n",
       "      <td>Москва</td>\n",
       "      <td>ultra</td>\n",
       "      <td>3202.890770</td>\n",
       "      <td>25.217345</td>\n",
       "      <td>2021-12-03</td>\n",
       "      <td>12</td>\n",
       "      <td>6</td>\n",
       "      <td>0</td>\n",
       "      <td>199</td>\n",
       "    </tr>\n",
       "  </tbody>\n",
       "</table>\n",
       "<p>6500 rows × 12 columns</p>\n",
       "</div>"
      ],
      "text/plain": [
       "      user_id    name  age    city subscription_type     distance   duration  \\\n",
       "0           1    Кира   22  Тюмень             ultra  4409.919140  25.599769   \n",
       "1           1    Кира   22  Тюмень             ultra  2617.592153  15.816871   \n",
       "2           1    Кира   22  Тюмень             ultra   754.159807   6.232113   \n",
       "3           1    Кира   22  Тюмень             ultra  2694.783254  18.511000   \n",
       "4           1    Кира   22  Тюмень             ultra  4028.687306  26.265803   \n",
       "...       ...     ...  ...     ...               ...          ...        ...   \n",
       "6495      699  Оксана   22  Москва             ultra  3973.046497  24.671163   \n",
       "6496      699  Оксана   22  Москва             ultra  3288.702563  15.892886   \n",
       "6497      699  Оксана   22  Москва             ultra  3076.159348  14.389525   \n",
       "6498      699  Оксана   22  Москва             ultra  4707.845501  15.839579   \n",
       "6499      699  Оксана   22  Москва             ultra  3202.890770  25.217345   \n",
       "\n",
       "           date  month  minute_price  start_ride_price  subscription_fee  \n",
       "0    2021-01-01      1             6                 0               199  \n",
       "1    2021-01-18      1             6                 0               199  \n",
       "2    2021-04-20      4             6                 0               199  \n",
       "3    2021-08-11      8             6                 0               199  \n",
       "4    2021-08-28      8             6                 0               199  \n",
       "...         ...    ...           ...               ...               ...  \n",
       "6495 2021-08-29      8             6                 0               199  \n",
       "6496 2021-09-12      9             6                 0               199  \n",
       "6497 2021-09-26      9             6                 0               199  \n",
       "6498 2021-10-17     10             6                 0               199  \n",
       "6499 2021-12-03     12             6                 0               199  \n",
       "\n",
       "[6500 rows x 12 columns]"
      ]
     },
     "execution_count": 30,
     "metadata": {},
     "output_type": "execute_result"
    }
   ],
   "source": [
    "subultra"
   ]
  },
  {
   "cell_type": "markdown",
   "id": "f9356d5e",
   "metadata": {},
   "source": [
    "<div class=\"alert alert-block alert-success\">\n",
    "<b>✅Комментарий ревьюера:</b> Таблицы созданы верно!  </div>"
   ]
  },
  {
   "cell_type": "markdown",
   "id": "dd715d8f",
   "metadata": {},
   "source": [
    "Визуализируем информацию о расстоянии  и времени на тарифе без подписки"
   ]
  },
  {
   "cell_type": "code",
   "execution_count": 31,
   "id": "a3440e89",
   "metadata": {
    "scrolled": false
   },
   "outputs": [
    {
     "data": {
      "image/png": "[encoded data removed]",
      "text/plain": [
       "<Figure size 432x288 with 1 Axes>"
      ]
     },
     "metadata": {
      "needs_background": "light"
     },
     "output_type": "display_data"
    },
    {
     "data": {
      "text/plain": [
       "<Figure size 2160x2160 with 0 Axes>"
      ]
     },
     "metadata": {},
     "output_type": "display_data"
    }
   ],
   "source": [
    "plt.hist(subfree['distance'], bins=100, range = (0, 8000))\n",
    "plt.title('Расстояние, тариф без подписки')\n",
    "plt.xlabel('Расстояние, м')\n",
    "plt.ylabel('Количество поездок')\n",
    "plt.figure(figsize=(30,30))\n",
    "plt.show()"
   ]
  },
  {
   "cell_type": "code",
   "execution_count": 32,
   "id": "6492f7b1",
   "metadata": {},
   "outputs": [
    {
     "data": {
      "image/png": "[encoded data removed]",
      "text/plain": [
       "<Figure size 432x288 with 1 Axes>"
      ]
     },
     "metadata": {
      "needs_background": "light"
     },
     "output_type": "display_data"
    },
    {
     "data": {
      "text/plain": [
       "<Figure size 2160x2160 with 0 Axes>"
      ]
     },
     "metadata": {},
     "output_type": "display_data"
    }
   ],
   "source": [
    "plt.hist(subfree['duration'], bins=100, range = (0, 40))\n",
    "plt.title('Время, тариф без подписки')\n",
    "plt.xlabel('Время поездки, минуты')\n",
    "plt.ylabel('Количество поездок')\n",
    "plt.figure(figsize=(30,30))\n",
    "plt.show()"
   ]
  },
  {
   "cell_type": "markdown",
   "id": "370521d6",
   "metadata": {},
   "source": [
    "<div class=\"alert alert-block alert-warning\">\n",
    "<b>🔁Комментарий ревьюера:</b> \n",
    "\n",
    "\"бесплатный тариф\" писать не очень корректно, ведь он таким не является)</div>"
   ]
  },
  {
   "cell_type": "markdown",
   "id": "fcb7055a",
   "metadata": {},
   "source": [
    "<div class=\"alert alert-block alert-success\">\n",
    "<b>✅Комментарий ревьюера 2:</b> Отлично, исправлено!👍  </div>"
   ]
  },
  {
   "cell_type": "markdown",
   "id": "85a25682",
   "metadata": {},
   "source": [
    "<div class=\"alert alert-block alert-info\">\n",
    "<b>🔄Комментарий студента:</b> \n",
    "Исправил ✔\n",
    "</div>"
   ]
  },
  {
   "cell_type": "markdown",
   "id": "5b497205",
   "metadata": {},
   "source": [
    "Визуализируем информацию о расстоянии и времени на тарифе 'Ultra' тарифе"
   ]
  },
  {
   "cell_type": "code",
   "execution_count": 33,
   "id": "3138a5bf",
   "metadata": {},
   "outputs": [
    {
     "data": {
      "image/png": "[encoded data removed]",
      "text/plain": [
       "<Figure size 432x288 with 1 Axes>"
      ]
     },
     "metadata": {
      "needs_background": "light"
     },
     "output_type": "display_data"
    },
    {
     "data": {
      "text/plain": [
       "<Figure size 2160x2160 with 0 Axes>"
      ]
     },
     "metadata": {},
     "output_type": "display_data"
    }
   ],
   "source": [
    "plt.hist(subultra['distance'], bins=100, range = (0, 7000))\n",
    "plt.title('Расстояние, платный тариф')\n",
    "plt.xlabel('Расстояние, м')\n",
    "plt.ylabel('Количество поездок')\n",
    "plt.figure(figsize=(30,30))\n",
    "plt.show()"
   ]
  },
  {
   "cell_type": "code",
   "execution_count": 34,
   "id": "1fdd9851",
   "metadata": {},
   "outputs": [
    {
     "data": {
      "image/png": "[encoded data removed]",
      "text/plain": [
       "<Figure size 432x288 with 1 Axes>"
      ]
     },
     "metadata": {
      "needs_background": "light"
     },
     "output_type": "display_data"
    },
    {
     "data": {
      "text/plain": [
       "<Figure size 2160x2160 with 0 Axes>"
      ]
     },
     "metadata": {},
     "output_type": "display_data"
    }
   ],
   "source": [
    "plt.hist(subultra['duration'], bins=100, range = (0, 40))\n",
    "plt.title('Время, платный тариф')\n",
    "plt.xlabel('Время поездки, минуты')\n",
    "plt.ylabel('Количество поездок')\n",
    "plt.figure(figsize=(30,30))\n",
    "plt.show()"
   ]
  },
  {
   "cell_type": "markdown",
   "id": "5a559fbd",
   "metadata": {},
   "source": [
    "<div class=\"alert alert-block alert-warning\">\n",
    "<b>🔁Комментарий ревьюера:</b> \n",
    "\n",
    "  - Распределения для обеих групп пользователей можно объединить для наглядности, наложив их друг на друга.\n",
    "  \n",
    "  - Какие выводы можно сделать по построенным гистограммам? Есть ли различия в поведении двух групп пользователей?</div>"
   ]
  },
  {
   "cell_type": "markdown",
   "id": "82b3cbbd",
   "metadata": {},
   "source": [
    "#### Шаг 5. Подсчёт выручки"
   ]
  },
  {
   "cell_type": "markdown",
   "id": "d39a81f4",
   "metadata": {},
   "source": [
    "Создадим датафрейм с агрегированными данными о поездках на основе датафрейма с объединёнными данными и найдем суммарное расстояние, количество поездок и суммарное время для каждого пользователя за каждый месяц."
   ]
  },
  {
   "cell_type": "code",
   "execution_count": 35,
   "id": "bb7ba267",
   "metadata": {},
   "outputs": [],
   "source": [
    "# Округляем продолжительность каждой поездки \n",
    "all_data['duration'] = np.ceil(all_data['duration']) "
   ]
  },
  {
   "cell_type": "code",
   "execution_count": 36,
   "id": "c119bb2c",
   "metadata": {
    "scrolled": false
   },
   "outputs": [
    {
     "data": {
      "text/html": [
       "<div>\n",
       "<style scoped>\n",
       "    .dataframe tbody tr th:only-of-type {\n",
       "        vertical-align: middle;\n",
       "    }\n",
       "\n",
       "    .dataframe tbody tr th {\n",
       "        vertical-align: top;\n",
       "    }\n",
       "\n",
       "    .dataframe thead th {\n",
       "        text-align: right;\n",
       "    }\n",
       "</style>\n",
       "<table border=\"1\" class=\"dataframe\">\n",
       "  <thead>\n",
       "    <tr style=\"text-align: right;\">\n",
       "      <th></th>\n",
       "      <th></th>\n",
       "      <th>count</th>\n",
       "      <th>distance</th>\n",
       "      <th>duration</th>\n",
       "      <th>minute_price</th>\n",
       "      <th>start_ride_price</th>\n",
       "      <th>subscription_fee</th>\n",
       "    </tr>\n",
       "    <tr>\n",
       "      <th>user_id</th>\n",
       "      <th>month</th>\n",
       "      <th></th>\n",
       "      <th></th>\n",
       "      <th></th>\n",
       "      <th></th>\n",
       "      <th></th>\n",
       "      <th></th>\n",
       "    </tr>\n",
       "  </thead>\n",
       "  <tbody>\n",
       "    <tr>\n",
       "      <th rowspan=\"5\" valign=\"top\">1</th>\n",
       "      <th>1</th>\n",
       "      <td>2</td>\n",
       "      <td>7027.511294</td>\n",
       "      <td>42.0</td>\n",
       "      <td>6</td>\n",
       "      <td>0</td>\n",
       "      <td>199</td>\n",
       "    </tr>\n",
       "    <tr>\n",
       "      <th>4</th>\n",
       "      <td>1</td>\n",
       "      <td>754.159807</td>\n",
       "      <td>7.0</td>\n",
       "      <td>6</td>\n",
       "      <td>0</td>\n",
       "      <td>199</td>\n",
       "    </tr>\n",
       "    <tr>\n",
       "      <th>8</th>\n",
       "      <td>2</td>\n",
       "      <td>6723.470560</td>\n",
       "      <td>46.0</td>\n",
       "      <td>6</td>\n",
       "      <td>0</td>\n",
       "      <td>199</td>\n",
       "    </tr>\n",
       "    <tr>\n",
       "      <th>10</th>\n",
       "      <td>2</td>\n",
       "      <td>5809.911100</td>\n",
       "      <td>32.0</td>\n",
       "      <td>6</td>\n",
       "      <td>0</td>\n",
       "      <td>199</td>\n",
       "    </tr>\n",
       "    <tr>\n",
       "      <th>11</th>\n",
       "      <td>3</td>\n",
       "      <td>7003.499363</td>\n",
       "      <td>56.0</td>\n",
       "      <td>6</td>\n",
       "      <td>0</td>\n",
       "      <td>199</td>\n",
       "    </tr>\n",
       "  </tbody>\n",
       "</table>\n",
       "</div>"
      ],
      "text/plain": [
       "               count     distance  duration  minute_price  start_ride_price  \\\n",
       "user_id month                                                                 \n",
       "1       1          2  7027.511294      42.0             6                 0   \n",
       "        4          1   754.159807       7.0             6                 0   \n",
       "        8          2  6723.470560      46.0             6                 0   \n",
       "        10         2  5809.911100      32.0             6                 0   \n",
       "        11         3  7003.499363      56.0             6                 0   \n",
       "\n",
       "               subscription_fee  \n",
       "user_id month                    \n",
       "1       1                   199  \n",
       "        4                   199  \n",
       "        8                   199  \n",
       "        10                  199  \n",
       "        11                  199  "
      ]
     },
     "execution_count": 36,
     "metadata": {},
     "output_type": "execute_result"
    }
   ],
   "source": [
    "users_months_revenue = all_data.pivot_table(\n",
    "    index=('user_id', 'month'), \n",
    "    values=(\n",
    "        'distance', \n",
    "        'duration', \n",
    "        'minute_price', \n",
    "        'start_ride_price', \n",
    "        'subscription_fee'\n",
    "    ), \n",
    "    aggfunc=({'distance':{'count', 'sum'}, \n",
    "             'duration':'sum',\n",
    "             'minute_price': 'mean',\n",
    "             'start_ride_price':'mean',\n",
    "             'subscription_fee':'mean',})\n",
    ")\n",
    "\n",
    "users_months_revenue.columns = [\n",
    "    'count', 'distance', \n",
    "    'duration', \n",
    "    'minute_price',\n",
    "    'start_ride_price', \n",
    "    'subscription_fee'\n",
    "]\n",
    "\n",
    "\n",
    "users_months_revenue.head()"
   ]
  },
  {
   "cell_type": "markdown",
   "id": "e01f0875",
   "metadata": {},
   "source": [
    "<div class=\"alert alert-block alert-warning\">\n",
    "<b>🔁Комментарий ревьюера:</b> \n",
    "\n",
    "Также в сводную таблицу стоит добавить тип подписки, чтобы мы могли корректно и легко разделять пользователей.</div>"
   ]
  },
  {
   "cell_type": "markdown",
   "id": "9fadc3c6",
   "metadata": {},
   "source": [
    "<div class=\"alert alert-block alert-danger\">\n",
    "<b>❌Комментарий ревьюера:</b> \n",
    "    \n",
    "Метод округления продолжительности поездок выбран верный, но округлять необходимо каждую поездку, то есть в исходной объединенной таблице до агрегирования.\n",
    "\n",
    "\n",
    "</div>"
   ]
  },
  {
   "cell_type": "markdown",
   "id": "807ab48c",
   "metadata": {},
   "source": [
    "<div class=\"alert alert-block alert-success\">\n",
    "<b>✅Комментарий ревьюера 2:</b> Отлично, исправлено!👍  </div>"
   ]
  },
  {
   "cell_type": "markdown",
   "id": "15f32c64",
   "metadata": {},
   "source": [
    "<div class=\"alert alert-block alert-info\">\n",
    "<b>🔄Комментарий студента:</b> \n",
    "Исправил, применил до формирования таблицы ✔ \n",
    "</div>"
   ]
  },
  {
   "cell_type": "markdown",
   "id": "0b4267d4",
   "metadata": {},
   "source": [
    "В этот же датафрейм добавим столбец с помесячной выручкой, которую принёс каждый пользователь."
   ]
  },
  {
   "cell_type": "code",
   "execution_count": 37,
   "id": "99ccb185",
   "metadata": {},
   "outputs": [],
   "source": [
    "# Помесячная выручка считается по формуле: стоимость старта поездки \\times×  \n",
    "# количество поездок ++ стоимость одной минуты поездки \\times× общая продолжительность всех поездок в минутах \n",
    "# ++ стоимость подписки.\n",
    "users_months_revenue['revenue'] = (\n",
    "users_months_revenue['start_ride_price']*users_months_revenue['count']+\n",
    "users_months_revenue['minute_price']*users_months_revenue['duration']+\n",
    "users_months_revenue['subscription_fee'])\n"
   ]
  },
  {
   "cell_type": "code",
   "execution_count": 38,
   "id": "0cdf7b84",
   "metadata": {},
   "outputs": [
    {
     "name": "stdout",
     "output_type": "stream",
     "text": [
      "Выручка за 2021 год составила : 3878641.0 руб.\n"
     ]
    }
   ],
   "source": [
    "print ('Выручка за 2021 год составила :',users_months_revenue['revenue'].sum(), 'руб.')"
   ]
  },
  {
   "cell_type": "markdown",
   "id": "0c00bfdd",
   "metadata": {},
   "source": [
    "<div class=\"alert alert-block alert-warning\">\n",
    "<b>🔁Комментарий ревьюера:</b> \n",
    "    \n",
    "Формула для расчета выручки верная, но результат получился не совсем правильным из-за некорректного округления продолжительности.\n",
    "\n",
    "</div>"
   ]
  },
  {
   "cell_type": "markdown",
   "id": "f3040644",
   "metadata": {},
   "source": [
    "<div class=\"alert alert-block alert-success\">\n",
    "<b>✅Комментарий ревьюера 2:</b> Отлично, исправлено!👍  </div>"
   ]
  },
  {
   "cell_type": "markdown",
   "id": "c4d4579e",
   "metadata": {},
   "source": [
    "<div class=\"alert alert-block alert-info\">\n",
    "<b>🔄Комментарий студента:</b> \n",
    "Исправил ✔\n",
    "</div>"
   ]
  },
  {
   "cell_type": "markdown",
   "id": "a23d991f",
   "metadata": {},
   "source": [
    "#### Шаг 6. Проверка гипотез"
   ]
  },
  {
   "cell_type": "markdown",
   "id": "f7ac8c95",
   "metadata": {},
   "source": [
    "Продакт-менеджеры сервиса хотят увеличить количество пользователей с подпиской. Для этого они будут проводить различные акции, но сначала нужно выяснить несколько важных моментов.\n",
    "\n",
    "Важно понять, тратят ли пользователи с подпиской больше времени на поездки? Если да, то пользователи с подпиской могут быть «выгоднее» для компании. Проверьте гипотезу. Используйте исходные данные о продолжительности каждой сессии — отдельно для подписчиков и тех, у кого нет подписки.\n",
    "\n",
    "Гипотеза: пользователи с подпиской тратят больше времени на поездки, чем пользователи на бесплатном тарифе.\n",
    "\n",
    "H_0: Время (duration) пользователей на подписке ultra = время (duration) пользователей на подписке free\n",
    "\n",
    "H_1: Время (duration) пользователей на подписке ultra > время (duration) пользователей на подписке free"
   ]
  },
  {
   "cell_type": "markdown",
   "id": "cbbfabbf",
   "metadata": {},
   "source": [
    "<div class=\"alert alert-block alert-success\">\n",
    "<b>✅Комментарий ревьюера:</b> Здорово, что формулируешь гипотезы перед проверкой!</div>"
   ]
  },
  {
   "cell_type": "code",
   "execution_count": 40,
   "id": "ac873495",
   "metadata": {},
   "outputs": [
    {
     "name": "stdout",
     "output_type": "stream",
     "text": [
      "1.2804098316645618e-34\n",
      "Отвергаем нулевую гипотезу\n"
     ]
    }
   ],
   "source": [
    "ultra = subultra['duration'] \n",
    "\n",
    "free = subfree['duration']\n",
    "\n",
    "results = st.ttest_ind(ultra, \n",
    "                       free,\n",
    "                       alternative = 'greater')\n",
    "\n",
    "alpha = .05\n",
    "\n",
    "print(results.pvalue)\n",
    "\n",
    "if results.pvalue < alpha:\n",
    "    print('Отвергаем нулевую гипотезу')\n",
    "else:\n",
    "    print('Не удалось отвергнуть нулевую гипотезу')"
   ]
  },
  {
   "cell_type": "code",
   "execution_count": 41,
   "id": "03508d69",
   "metadata": {
    "scrolled": false
   },
   "outputs": [
    {
     "data": {
      "image/png": "[encoded data removed]",
      "text/plain": [
       "<Figure size 432x288 with 1 Axes>"
      ]
     },
     "metadata": {
      "needs_background": "light"
     },
     "output_type": "display_data"
    }
   ],
   "source": [
    "# Построим график для наглядности сравнения \n",
    "ax = sns.barplot(x = 'month',\n",
    "            y = 'duration',\n",
    "            hue = \"subscription_type\",\n",
    "            data = all_data,\n",
    "            palette = ['green', 'blue'])\n",
    "ax.set_title('Распределение продолжительности поездок по видам подписок и месяцам')\n",
    "ax.set(xlabel='Номер месяца', ylabel='Продолжительность поездок');"
   ]
  },
  {
   "cell_type": "markdown",
   "id": "1cc06566",
   "metadata": {
    "id": "5766e785"
   },
   "source": [
    "<div class=\"alert alert-block alert-danger\">\n",
    "<b>❌Комментарий ревьюера:</b> \n",
    "    \n",
    "На этом месте код падает с ошибкой. Это может быть причиной возврата проекта без проверки.\n",
    "\n",
    "Необходимо отправлять на проверку проект с работающим кодом. Перед отправкой следует перезапустить весь проект `Kernel-->Restart & Run All` и убедиться, что все ячейки корректно отработали.</div>"
   ]
  },
  {
   "cell_type": "markdown",
   "id": "ad442bcc",
   "metadata": {},
   "source": [
    "<div class=\"alert alert-block alert-success\">\n",
    "<b>✅Комментарий ревьюера 2:</b> Отлично, исправлено!👍  </div>"
   ]
  },
  {
   "cell_type": "markdown",
   "id": "ce229e2b",
   "metadata": {},
   "source": [
    "<div class=\"alert alert-block alert-info\">\n",
    "<b>🔄Комментарий студента:</b> \n",
    "исправил ✔\n",
    "</div>"
   ]
  },
  {
   "cell_type": "markdown",
   "id": "b4a4762a",
   "metadata": {},
   "source": [
    "Вывод: Гипотеза о том, что время поездки пользователей на тарифе ultra равно времени поездки пользователей на тарифе без подписки опровержена, знчачит - на тарифе Ultra, ездят больше (см.граффик)"
   ]
  },
  {
   "cell_type": "markdown",
   "id": "d5b4505e",
   "metadata": {
    "id": "5766e785"
   },
   "source": [
    "<div class=\"alert alert-block alert-danger\">\n",
    "<b>❌Комментарий ревьюера:</b> \n",
    "    \n",
    "Тратят ли пользователи с подпиской больше времени на поездки?</div>"
   ]
  },
  {
   "cell_type": "markdown",
   "id": "b5b36d94",
   "metadata": {},
   "source": [
    "<div class=\"alert alert-block alert-success\">\n",
    "<b>✅Комментарий ревьюера 2:</b> Отлично, исправлено!👍  </div>"
   ]
  },
  {
   "cell_type": "markdown",
   "id": "add4f65e",
   "metadata": {},
   "source": [
    "<div class=\"alert alert-block alert-info\">\n",
    "<b>🔄Комментарий студента:</b> \n",
    "Дописал ✔\n",
    "</div>"
   ]
  },
  {
   "cell_type": "markdown",
   "id": "94685728",
   "metadata": {},
   "source": [
    "Нулевая гипотеза: Среднее расстояние, преодоленное пользователями с подпиской за одну поездку, равно 3130 метров.\n",
    "Альтернативная гипотеза:Среднее расстояние, преодоленное пользователями с подпиской за одну поездку, больше 3130 метров."
   ]
  },
  {
   "cell_type": "markdown",
   "id": "5f5b950b",
   "metadata": {
    "id": "5766e785"
   },
   "source": [
    "<div class=\"alert alert-block alert-danger\">\n",
    "<b>❌Комментарий ревьюера:</b> \n",
    "    \n",
    "Альтернативную гипотезу тут нужно сформулировать о том, что пользователи с подпиской за одну сессию проезжают больше 3130 метров, тогда при получении любого результата проверки гипотезы мы сможем ответить на поставленный в задании вопрос.\n",
    "\n",
    "\n",
    "P.S. Соответственно значение параметра alternative нужно будет изменить.</div>"
   ]
  },
  {
   "cell_type": "markdown",
   "id": "f3fc89c7",
   "metadata": {},
   "source": [
    "<div class=\"alert alert-block alert-success\">\n",
    "<b>✅Комментарий ревьюера 2:</b> Отлично, исправлено!👍  </div>"
   ]
  },
  {
   "cell_type": "markdown",
   "id": "3f20aee3",
   "metadata": {},
   "source": [
    "<div class=\"alert alert-block alert-info\">\n",
    "<b>🔄Комментарий студента:</b> \n",
    "Переписал ✔\n",
    "</div>"
   ]
  },
  {
   "cell_type": "code",
   "execution_count": 42,
   "id": "b8d23fdb",
   "metadata": {},
   "outputs": [
    {
     "name": "stdout",
     "output_type": "stream",
     "text": [
      "p-значение: 0.9195368847849785\n",
      "Не отвергаем нулевую гипотезу\n"
     ]
    }
   ],
   "source": [
    "prev_screens_value = 3130\n",
    "\n",
    "alpha = 0.05 \n",
    "\n",
    "results = st.ttest_1samp(\n",
    "    subultra['distance'], \n",
    "    prev_screens_value,\n",
    "      alternative='greater')\n",
    "\n",
    "print('p-значение:', results.pvalue)\n",
    "\n",
    "if (results.pvalue < alpha):\n",
    "    print('Отвергаем нулевую гипотезу')\n",
    "else:\n",
    "    print('Не отвергаем нулевую гипотезу')"
   ]
  },
  {
   "cell_type": "markdown",
   "id": "ba9a5b79",
   "metadata": {
    "id": "5766e785"
   },
   "source": [
    "<div class=\"alert alert-block alert-danger\">\n",
    "<b>❌Комментарий ревьюера 2:</b> \n",
    "    \n",
    "При проверке гипотезы неверно выбрано значение для параметра alternative. В предыдущем комментарии я отметил, что это значение нужно изменить.\n",
    "\n",
    "Оно указывается для выборки, идущей первым аргументом относительно выборки (в данном случае значения), идущей вторым аргументом.\n",
    "\n",
    "Так как альтернативная гипотеза звучит так, что пользователи с подпиской в среднем проезжают расстояние более 3130 метров, то должно быть alternative='greater'.\n",
    "\n",
    "</div>"
   ]
  },
  {
   "cell_type": "markdown",
   "id": "908c6a8a",
   "metadata": {},
   "source": [
    "<div class=\"alert alert-block alert-success\">\n",
    "<b>✅Комментарий ревьюера 3:</b> Отлично, исправлено!👍  </div>"
   ]
  },
  {
   "cell_type": "markdown",
   "id": "ce7a60bd",
   "metadata": {},
   "source": [
    "<div class=\"alert alert-block alert-info\">\n",
    "<b>🔄Комментарий студента 2:</b> \n",
    "Переписал ✔\n",
    "</div>"
   ]
  },
  {
   "cell_type": "markdown",
   "id": "2b712efe",
   "metadata": {},
   "source": [
    "Вывод:Нулевое предположение состоит в том, что среднее расстояние поездок для группы подписчиков не является оптимальным. Так как p-значение превышает уровень статистической значимости, у нас нет оснований отвергать это базовое предположение.\n",
    "\n",
    "Меньшее расстояние поездок подписчиков позволяет планировать обновление и замену автопарка, исходя из приблизительных данных об износе."
   ]
  },
  {
   "cell_type": "markdown",
   "id": "8f7712e4",
   "metadata": {
    "id": "5766e785"
   },
   "source": [
    "<div class=\"alert alert-block alert-danger\"><b>❌Комментарий ревьюера 3:</b> Мы не можем отвергнуть нулевую гипотезу. Можно ли сказать, что среднее расстояние, которое проезжают пользователи с подпиской за одну поездку, не превышает 3130 метров?</div>"
   ]
  },
  {
   "cell_type": "code",
   "execution_count": 43,
   "id": "1adfb5b1",
   "metadata": {},
   "outputs": [
    {
     "data": {
      "text/plain": [
       "3115.4"
      ]
     },
     "execution_count": 43,
     "metadata": {},
     "output_type": "execute_result"
    }
   ],
   "source": [
    "subultra['distance'].mean().round(1)"
   ]
  },
  {
   "cell_type": "markdown",
   "id": "29d85f5d",
   "metadata": {},
   "source": [
    "<div class=\"alert alert-block alert-info\">\n",
    "<b>🔄Комментарий студента 3:</b> \n",
    "Среднее расстояни меньше и составляет 3115. Соотвественно можно сказать \"то среднее расстояние, которое проезжают пользователи с подпиской за одну поездку, не превышает 3130 метров\" ✔\n",
    "</div>"
   ]
  },
  {
   "cell_type": "markdown",
   "id": "628dadd5",
   "metadata": {},
   "source": [
    "<div class=\"alert alert-block alert-success\">\n",
    "<b>✅Комментарий ревьюера 4:</b> Отлично, исправлено!👍  </div>"
   ]
  },
  {
   "cell_type": "markdown",
   "id": "1e29ca63",
   "metadata": {
    "id": "5766e785"
   },
   "source": [
    "<div class=\"alert alert-block alert-danger\">\n",
    "<b>❌Комментарий ревьюера 2:</b> \n",
    "    \n",
    "Вывод неверный</div>"
   ]
  },
  {
   "cell_type": "markdown",
   "id": "f9e69f24",
   "metadata": {},
   "source": [
    "<div class=\"alert alert-block alert-info\">\n",
    "<b>🔄Комментарий студента 2:</b> \n",
    "Переписал ✔\n",
    "</div>"
   ]
  },
  {
   "cell_type": "markdown",
   "id": "a24e5ccb",
   "metadata": {
    "id": "5766e785"
   },
   "source": [
    "<div class=\"alert alert-block alert-danger\">\n",
    "<b>❌Комментарий ревьюера:</b> \n",
    "    \n",
    "Вывод нужно будет скорректировать.</div>"
   ]
  },
  {
   "cell_type": "markdown",
   "id": "58d7b8d1",
   "metadata": {},
   "source": [
    "<div class=\"alert alert-block alert-info\">\n",
    "<b>🔄Комментарий студента:</b> \n",
    "Исправил ✔\n",
    "</div>"
   ]
  },
  {
   "cell_type": "markdown",
   "id": "3c195ad5",
   "metadata": {},
   "source": [
    "Проверяем гипотезу о том, будет ли помесячная выручка от пользователей с подпиской по месяцам выше, чем выручка от пользователей без подписки.\n",
    "\n",
    "Гипотеза: помесячная выручка от пользователей с подпиской выше, чем выручка от пользователей без подписки\n",
    "\n",
    "H_0: Выручка (users_months_revenue) пользователей на подписке ultra = выручка (users_months_revenue) пользователей на подписке free\n",
    "\n",
    "H_1: Выручка (users_months_revenue) пользователей на подписке ultra > выручка (users_months_revenue) пользователей на подписке free"
   ]
  },
  {
   "cell_type": "code",
   "execution_count": 44,
   "id": "1e377305",
   "metadata": {},
   "outputs": [
    {
     "name": "stdout",
     "output_type": "stream",
     "text": [
      "1.8850394384715216e-31\n",
      "Отвергаем нулевую гипотезу\n"
     ]
    }
   ],
   "source": [
    "results = st.ttest_ind(\n",
    "    users_months_revenue.loc[users_months_revenue['subscription_fee'] > 0, 'revenue'], \n",
    "    users_months_revenue.loc[users_months_revenue['subscription_fee'] == 0, 'revenue'], \n",
    "    equal_var=True, \n",
    "    alternative='greater')\n",
    "print(results.pvalue)\n",
    "\n",
    "alpha = 0.05\n",
    "if results.pvalue < alpha:\n",
    "    print('Отвергаем нулевую гипотезу')\n",
    "else:\n",
    "    print('Не получилось отвергнуть нулевую гипотезу')"
   ]
  },
  {
   "cell_type": "markdown",
   "id": "38522d16",
   "metadata": {
    "id": "5766e785"
   },
   "source": [
    "<div class=\"alert alert-block alert-danger\">\n",
    "<b>❌Комментарий ревьюера:</b> \n",
    "    \n",
    "    \n",
    "При проверке гипотезы неверно выбрана последовательность передачи выборок.\n",
    "\n",
    "Значение аргумента alternative указывается для выборки, идущей первым аргументом относительно выборки, идущей вторым аргументом.\n",
    "\n",
    "Так как в альтернативной гипотезе у нас помесячная выручка от пользователей с подпиской выше и alternative='greater', то первым аргументом передается  выручка пользователей с подпиской, вторым выручка пользователей без подписки. \n",
    "\n",
    "Подобные ньюансы всегда стоит уточнять в [документации](https://docs.scipy.org/doc/scipy/reference/generated/scipy.stats.ttest_ind.html)</div>"
   ]
  },
  {
   "cell_type": "markdown",
   "id": "f6b53064",
   "metadata": {},
   "source": [
    "<div class=\"alert alert-block alert-success\">\n",
    "<b>✅Комментарий ревьюера 2:</b> Отлично, исправлено!👍  </div>"
   ]
  },
  {
   "cell_type": "markdown",
   "id": "3beb88d8",
   "metadata": {},
   "source": [
    "<div class=\"alert alert-block alert-info\">\n",
    "<b>🔄Комментарий студента:</b> \n",
    "Исправил ✔\n",
    "</div>"
   ]
  },
  {
   "cell_type": "markdown",
   "id": "f29cc4b2",
   "metadata": {},
   "source": [
    "Вывод: Выручка помесечная от пользователей с подпиской - выше."
   ]
  },
  {
   "cell_type": "markdown",
   "id": "b2c3fefd",
   "metadata": {},
   "source": [
    "Задача\n",
    "\n",
    "Техническая команда сервиса обновила сервера, с которыми взаимодействует мобильное приложение. Она надеется, что из-за этого количество обращений в техподдержку значимо снизилось. Некоторый файл содержит для каждого пользователя данные о количестве обращений до обновления и после него. Какой тест вам понадобился бы для проверки этой гипотезы?"
   ]
  },
  {
   "cell_type": "markdown",
   "id": "3747a246",
   "metadata": {},
   "source": [
    "Ответ\n",
    "\n",
    "В данном случае, для проверки гипотезы о том, что обновление серверов привело к значительному снижению количества обращений в техподдержку, нам потребуется провести t-тест для связанных выборок (paired samples t-test). Этот тест позволяет сравнить два набора данных, где каждый элемент в одном наборе связан с элементом в другом наборе (в нашем случае, количество обращений до и после обновления). \n",
    "\n",
    "Формулировка гипотез будет следующей:\n",
    "\n",
    "Нулевая гипотеза - Обновление серверов не привело к значимому снижению количества обращений в техподдержку.\n",
    "Альтернативная гипотеза будет односторонней - Обновление серверов привело к значимому снижению количества обращений в техподдержку.\n",
    "\n",
    "Для проведения теста нам понадобятся следующие шаги:\n",
    "\n",
    "1. Вычислить разницу между количеством обращений до и после обновления для каждого пользователя.\n",
    "2. Проверить, есть ли статистически значимая разница между средним значением этих разниц и нулем, используя t-тест для связанных выборок.\n",
    "\n",
    "Важно отметить, что результаты теста должны быть интерпретированы с учетом уровня значимости (обычно α=0.05), чтобы избежать ошибок первого рода (отклонение истинной нулевой гипотезы).\n",
    "Чтобы проверить гипотезу, стоит применить метод о равенстве среднего генеральной совокупности для зависимых выборок. В Python она реализована через scipy.stats.ttest_rel()."
   ]
  },
  {
   "cell_type": "markdown",
   "id": "b2ca7a12",
   "metadata": {},
   "source": [
    "<div class=\"alert alert-block alert-success\">\n",
    "<b>✅Комментарий ревьюера 2:</b> Формулировки гипотез теперь правильные  </div>"
   ]
  },
  {
   "cell_type": "markdown",
   "id": "ca067592",
   "metadata": {
    "id": "5766e785"
   },
   "source": [
    "<div class=\"alert alert-block alert-danger\">\n",
    "<b>❌Комментарий ревьюера 2:</b> \n",
    "    \n",
    "Но разве для проверки гипотез с зависимыми выборками используется scipy.stats.ttest_ind() ?\n",
    "</div>"
   ]
  },
  {
   "cell_type": "markdown",
   "id": "a0fc2320",
   "metadata": {},
   "source": [
    "<div class=\"alert alert-block alert-success\">\n",
    "<b>✅Комментарий ревьюера 3:</b> Отлично, исправлено!👍  </div>"
   ]
  },
  {
   "cell_type": "markdown",
   "id": "095aa5b9",
   "metadata": {},
   "source": [
    "<div class=\"alert alert-block alert-info\">\n",
    "<b>🔄Комментарий студента 2:</b> \n",
    "Исправил метод✔\n",
    "Добавил библиотеку и метод\n",
    "</div>"
   ]
  },
  {
   "cell_type": "markdown",
   "id": "0d3dbd08",
   "metadata": {
    "id": "5766e785"
   },
   "source": [
    "<div class=\"alert alert-block alert-danger\">\n",
    "<b>❌Комментарий ревьюера:</b> \n",
    "    \n",
    " - Верно, выборки зависимые. Какой метод из библиотеки scipy.stats нужно будет применить для проверки гипотезы?\n",
    " - Обрати внимание, что гипотеза тоже односторонняя, поэтому альтернативую гипотезу нужно скорректировать.\n",
    "</div>"
   ]
  },
  {
   "cell_type": "markdown",
   "id": "30871931",
   "metadata": {},
   "source": [
    "<div class=\"alert alert-block alert-success\">\n",
    "<b>✅Комментарий ревьюера 3:</b> Отлично, исправлено!👍  </div>"
   ]
  },
  {
   "cell_type": "markdown",
   "id": "1113f9ab",
   "metadata": {},
   "source": [
    "<div class=\"alert alert-block alert-info\">\n",
    "<b>🔄Комментарий студента:</b> \n",
    "Исправил гипотезы✔\n",
    "Добавил библиотеку и метод\n",
    "</div>"
   ]
  },
  {
   "cell_type": "markdown",
   "id": "73f7d21c",
   "metadata": {},
   "source": [
    "Общий вывод:\n",
    "    \n",
    "    Анализ данных GoFast позволил сделать следующие обобщения:\n",
    "\n",
    "1. Географическое распределение: Большинство пользователей проживают в Москве и Санкт-Петербурге, что свидетельствует о популярности сервиса в крупных городах.\n",
    "\n",
    "2. Тип пользователя: Большинство пользователей GoFast не имеют подписки и оплачивают каждую поездку отдельно. Тем не менее, число пользователей с подпиской увеличивается.\n",
    "\n",
    "3. Возрастная группа: Большинство пользователей находятся в возрасте от 20 до 30 лет.\n",
    "\n",
    "4. Продолжительность и расстояние поездок: Средняя продолжительность поездок пользователей с подпиской выше, чем у пользователей без нее. Однако среднее расстояние поездок для обеих групп примерно одинаково и не превышает оптимального расстояния.\n",
    "\n",
    "5. Помесячная выручка: Пользователи с подпиской приносят больше выручки, поскольку они платят фиксированную сумму каждый месяц и могут совершать дополнительные поездки, что увеличивает общую сумму выручки.\n",
    "\n",
    "6. Выгода для компании: Пользователи с подпиской представляют большую ценность для компании, поскольку они не только обеспечивают стабильный доход, но и активнее пользуются сервисом.\n",
    "\n",
    "7. Рекомендации: Следует сосредоточить маркетинговые усилия на увеличении числа подписчиков и сохранении их в системе."
   ]
  },
  {
   "cell_type": "markdown",
   "id": "adc248a3",
   "metadata": {
    "id": "5766e785"
   },
   "source": [
    "<div class=\"alert alert-block alert-danger\">\n",
    "<b>❌Комментарий ревьюера:</b> \n",
    "    \n",
    "Нужно обязательно сделать итоговый вывод, кратко резюмирующий проделанную работу **по всем пунктам проекта** и полученные результаты.\n",
    "\n",
    "Могу посоветовать следующую структуру итогового вывода:\n",
    "\n",
    " - Краткий обзор проведенной работы. Что выполнили, сделали, рассчитали.\n",
    " - Главные выводы. Дайте ответы на поставленные вопросы. (В данном случае нужен аргументированный ответ на вопрос, являются ли пользователи с подпиской более выгодными для компании).\n",
    " - Рекомендации. Например, вы можете посоветовать отобрать определенные признаки для прогнозирования в будущем, или дать рекомендации о том, как избежать появления дубликатов или пропущенных значений.</div>"
   ]
  },
  {
   "cell_type": "markdown",
   "id": "2f13aee0",
   "metadata": {},
   "source": [
    "<div class=\"alert alert-block alert-success\">\n",
    "<b>✅Комментарий ревьюера 2:</b> Отлично, исправлено!👍  </div>"
   ]
  },
  {
   "cell_type": "markdown",
   "id": "bbb11c22",
   "metadata": {},
   "source": [
    "<div class=\"alert alert-block alert-info\">\n",
    "<b>🔄Комментарий студента:</b> \n",
    "Написал общий вывод\n",
    "</div>"
   ]
  }
 ],
 "metadata": {
  "ExecuteTimeLog": [
   {
    "duration": 1461,
    "start_time": "2024-05-28T16:59:50.960Z"
   },
   {
    "duration": 316,
    "start_time": "2024-05-28T17:04:41.913Z"
   },
   {
    "duration": 13,
    "start_time": "2024-05-28T17:07:29.177Z"
   },
   {
    "duration": 12,
    "start_time": "2024-05-28T17:07:45.848Z"
   },
   {
    "duration": 15,
    "start_time": "2024-05-28T17:09:13.755Z"
   },
   {
    "duration": 68,
    "start_time": "2024-05-28T17:10:45.428Z"
   },
   {
    "duration": 18,
    "start_time": "2024-05-28T17:12:53.812Z"
   },
   {
    "duration": 16,
    "start_time": "2024-05-28T17:15:05.961Z"
   },
   {
    "duration": 54,
    "start_time": "2024-05-28T17:16:59.264Z"
   },
   {
    "duration": 12,
    "start_time": "2024-05-28T17:17:20.019Z"
   },
   {
    "duration": 18,
    "start_time": "2024-05-28T17:18:07.611Z"
   },
   {
    "duration": 11,
    "start_time": "2024-05-28T17:18:39.629Z"
   },
   {
    "duration": 111,
    "start_time": "2024-05-28T17:21:03.320Z"
   },
   {
    "duration": 9,
    "start_time": "2024-05-28T17:21:11.166Z"
   },
   {
    "duration": 6,
    "start_time": "2024-05-28T17:24:34.733Z"
   },
   {
    "duration": 17,
    "start_time": "2024-05-28T17:28:03.770Z"
   },
   {
    "duration": 17,
    "start_time": "2024-05-28T17:28:44.354Z"
   },
   {
    "duration": 15,
    "start_time": "2024-05-28T17:28:59.171Z"
   },
   {
    "duration": 11,
    "start_time": "2024-05-28T17:29:06.107Z"
   },
   {
    "duration": 11,
    "start_time": "2024-05-28T17:31:28.077Z"
   },
   {
    "duration": 1154,
    "start_time": "2024-05-28T17:31:55.501Z"
   },
   {
    "duration": 6,
    "start_time": "2024-05-28T17:35:55.057Z"
   },
   {
    "duration": 3,
    "start_time": "2024-05-28T17:37:26.866Z"
   },
   {
    "duration": 3,
    "start_time": "2024-05-28T17:39:18.065Z"
   },
   {
    "duration": 2,
    "start_time": "2024-05-28T17:40:25.072Z"
   },
   {
    "duration": 16,
    "start_time": "2024-05-28T17:43:22.104Z"
   },
   {
    "duration": 4,
    "start_time": "2024-05-28T17:43:37.536Z"
   },
   {
    "duration": 7,
    "start_time": "2024-05-28T17:43:56.208Z"
   },
   {
    "duration": 156,
    "start_time": "2024-05-28T17:46:31.193Z"
   },
   {
    "duration": 14,
    "start_time": "2024-05-28T17:55:51.948Z"
   },
   {
    "duration": 7,
    "start_time": "2024-05-28T17:56:11.029Z"
   },
   {
    "duration": 97,
    "start_time": "2024-05-28T17:57:01.373Z"
   },
   {
    "duration": 159,
    "start_time": "2024-05-28T18:03:23.838Z"
   },
   {
    "duration": 283,
    "start_time": "2024-05-28T18:03:29.927Z"
   },
   {
    "duration": 5,
    "start_time": "2024-05-28T18:04:39.617Z"
   },
   {
    "duration": 7,
    "start_time": "2024-05-28T18:07:52.338Z"
   },
   {
    "duration": 6,
    "start_time": "2024-05-28T18:08:54.284Z"
   },
   {
    "duration": 10,
    "start_time": "2024-05-28T18:11:05.093Z"
   },
   {
    "duration": 10,
    "start_time": "2024-05-28T18:11:31.621Z"
   },
   {
    "duration": 836,
    "start_time": "2024-05-28T18:13:21.101Z"
   },
   {
    "duration": 272,
    "start_time": "2024-05-28T18:13:36.405Z"
   },
   {
    "duration": 57,
    "start_time": "2024-05-28T18:18:37.747Z"
   },
   {
    "duration": 10,
    "start_time": "2024-05-28T18:23:15.290Z"
   },
   {
    "duration": 9,
    "start_time": "2024-05-28T18:23:28.082Z"
   },
   {
    "duration": 208,
    "start_time": "2024-05-28T18:24:56.708Z"
   },
   {
    "duration": 255,
    "start_time": "2024-05-28T18:25:04.996Z"
   },
   {
    "duration": 13,
    "start_time": "2024-05-28T18:25:50.500Z"
   },
   {
    "duration": 10,
    "start_time": "2024-05-28T18:25:58.820Z"
   },
   {
    "duration": 156,
    "start_time": "2024-05-28T18:26:22.197Z"
   },
   {
    "duration": 14,
    "start_time": "2024-05-28T18:27:33.861Z"
   },
   {
    "duration": 9,
    "start_time": "2024-05-28T18:27:45.572Z"
   },
   {
    "duration": 112,
    "start_time": "2024-05-28T18:28:39.733Z"
   },
   {
    "duration": 57,
    "start_time": "2024-05-28T18:33:11.751Z"
   },
   {
    "duration": 1366,
    "start_time": "2024-05-30T07:10:05.123Z"
   },
   {
    "duration": 208,
    "start_time": "2024-05-30T07:10:06.491Z"
   },
   {
    "duration": 18,
    "start_time": "2024-05-30T07:10:08.836Z"
   },
   {
    "duration": 15,
    "start_time": "2024-05-30T07:10:09.624Z"
   },
   {
    "duration": 13,
    "start_time": "2024-05-30T07:10:10.665Z"
   },
   {
    "duration": 6,
    "start_time": "2024-05-30T07:10:13.131Z"
   },
   {
    "duration": 4,
    "start_time": "2024-05-30T07:10:14.181Z"
   },
   {
    "duration": 10,
    "start_time": "2024-05-30T07:10:15.026Z"
   },
   {
    "duration": 5,
    "start_time": "2024-05-30T07:10:15.951Z"
   },
   {
    "duration": 921,
    "start_time": "2024-05-30T07:10:17.118Z"
   },
   {
    "duration": 5,
    "start_time": "2024-05-30T07:10:20.530Z"
   },
   {
    "duration": 138,
    "start_time": "2024-05-30T07:10:21.122Z"
   },
   {
    "duration": 6,
    "start_time": "2024-05-30T07:10:22.482Z"
   },
   {
    "duration": 87,
    "start_time": "2024-05-30T07:10:23.104Z"
   },
   {
    "duration": 218,
    "start_time": "2024-05-30T07:10:24.410Z"
   },
   {
    "duration": 5,
    "start_time": "2024-05-30T07:10:25.192Z"
   },
   {
    "duration": 8,
    "start_time": "2024-05-30T07:10:26.386Z"
   },
   {
    "duration": 212,
    "start_time": "2024-05-30T07:10:26.885Z"
   },
   {
    "duration": 8,
    "start_time": "2024-05-30T07:10:28.251Z"
   },
   {
    "duration": 248,
    "start_time": "2024-05-30T07:10:28.837Z"
   },
   {
    "duration": 94,
    "start_time": "2024-05-30T07:10:29.588Z"
   },
   {
    "duration": 11,
    "start_time": "2024-05-30T07:17:49.645Z"
   },
   {
    "duration": 11,
    "start_time": "2024-05-30T07:18:01.438Z"
   },
   {
    "duration": 10,
    "start_time": "2024-05-30T07:22:03.301Z"
   },
   {
    "duration": 18,
    "start_time": "2024-05-30T07:22:28.148Z"
   },
   {
    "duration": 17,
    "start_time": "2024-05-30T07:22:46.003Z"
   },
   {
    "duration": 7,
    "start_time": "2024-05-30T07:25:10.799Z"
   },
   {
    "duration": 16,
    "start_time": "2024-05-30T07:25:50.209Z"
   },
   {
    "duration": 8,
    "start_time": "2024-05-30T07:27:13.259Z"
   },
   {
    "duration": 8,
    "start_time": "2024-05-30T07:27:31.435Z"
   },
   {
    "duration": 7,
    "start_time": "2024-05-30T07:28:03.563Z"
   },
   {
    "duration": 16,
    "start_time": "2024-05-30T07:28:07.557Z"
   },
   {
    "duration": 169,
    "start_time": "2024-05-30T07:30:30.195Z"
   },
   {
    "duration": 277,
    "start_time": "2024-05-30T07:30:39.950Z"
   },
   {
    "duration": 223,
    "start_time": "2024-05-30T07:30:54.603Z"
   },
   {
    "duration": 219,
    "start_time": "2024-05-30T07:31:26.150Z"
   },
   {
    "duration": 166,
    "start_time": "2024-05-30T07:32:51.305Z"
   },
   {
    "duration": 144,
    "start_time": "2024-05-30T07:33:02.048Z"
   },
   {
    "duration": 176,
    "start_time": "2024-05-30T07:33:08.922Z"
   },
   {
    "duration": 218,
    "start_time": "2024-05-30T07:33:38.512Z"
   },
   {
    "duration": 278,
    "start_time": "2024-05-30T08:09:16.203Z"
   },
   {
    "duration": 157,
    "start_time": "2024-05-30T08:09:23.701Z"
   },
   {
    "duration": 225,
    "start_time": "2024-05-30T08:09:38.197Z"
   },
   {
    "duration": 227,
    "start_time": "2024-05-30T08:10:02.902Z"
   },
   {
    "duration": 221,
    "start_time": "2024-05-30T08:10:59.895Z"
   },
   {
    "duration": 226,
    "start_time": "2024-05-30T08:12:41.188Z"
   },
   {
    "duration": 113,
    "start_time": "2024-05-30T08:18:27.753Z"
   },
   {
    "duration": 111,
    "start_time": "2024-05-30T08:19:14.326Z"
   },
   {
    "duration": 7,
    "start_time": "2024-05-30T08:21:02.336Z"
   },
   {
    "duration": 1014,
    "start_time": "2024-05-30T10:44:13.145Z"
   },
   {
    "duration": 1017,
    "start_time": "2024-05-30T10:44:36.305Z"
   },
   {
    "duration": 7,
    "start_time": "2024-05-30T10:44:51.514Z"
   },
   {
    "duration": 7,
    "start_time": "2024-05-30T10:47:01.251Z"
   },
   {
    "duration": 4,
    "start_time": "2024-05-30T10:48:22.073Z"
   },
   {
    "duration": 4,
    "start_time": "2024-05-30T10:49:38.490Z"
   },
   {
    "duration": 5,
    "start_time": "2024-05-30T10:50:18.630Z"
   },
   {
    "duration": 4,
    "start_time": "2024-05-30T10:51:09.199Z"
   },
   {
    "duration": 3,
    "start_time": "2024-05-30T10:54:28.864Z"
   },
   {
    "duration": 4,
    "start_time": "2024-05-30T10:54:32.453Z"
   },
   {
    "duration": 4,
    "start_time": "2024-05-30T10:54:33.193Z"
   },
   {
    "duration": 3,
    "start_time": "2024-05-30T10:55:30.413Z"
   },
   {
    "duration": 5,
    "start_time": "2024-05-30T12:50:48.386Z"
   },
   {
    "duration": 740,
    "start_time": "2024-05-30T12:51:17.980Z"
   },
   {
    "duration": 804,
    "start_time": "2024-05-30T12:52:26.745Z"
   },
   {
    "duration": 58,
    "start_time": "2024-05-30T12:57:22.122Z"
   },
   {
    "duration": 56,
    "start_time": "2024-05-30T12:57:50.184Z"
   },
   {
    "duration": 4,
    "start_time": "2024-05-30T12:57:56.519Z"
   },
   {
    "duration": 5,
    "start_time": "2024-05-30T13:01:35.934Z"
   },
   {
    "duration": 8,
    "start_time": "2024-05-30T13:14:27.816Z"
   },
   {
    "duration": 9,
    "start_time": "2024-05-30T13:15:05.965Z"
   },
   {
    "duration": 2204,
    "start_time": "2024-05-30T13:15:24.817Z"
   },
   {
    "duration": 1616,
    "start_time": "2024-05-30T13:16:32.272Z"
   },
   {
    "duration": 1466,
    "start_time": "2024-05-30T13:18:07.381Z"
   },
   {
    "duration": 10,
    "start_time": "2024-05-30T13:20:08.462Z"
   },
   {
    "duration": 10,
    "start_time": "2024-05-30T13:20:12.295Z"
   },
   {
    "duration": 7,
    "start_time": "2024-05-30T13:20:50.416Z"
   },
   {
    "duration": 7,
    "start_time": "2024-05-30T13:23:55.865Z"
   },
   {
    "duration": 4,
    "start_time": "2024-05-30T13:24:34.274Z"
   },
   {
    "duration": 7,
    "start_time": "2024-05-30T13:24:56.749Z"
   },
   {
    "duration": 6,
    "start_time": "2024-05-30T13:34:45.298Z"
   },
   {
    "duration": 1322,
    "start_time": "2024-05-30T15:17:59.480Z"
   },
   {
    "duration": 412,
    "start_time": "2024-05-30T15:18:00.804Z"
   },
   {
    "duration": 21,
    "start_time": "2024-05-30T15:18:01.217Z"
   },
   {
    "duration": 105,
    "start_time": "2024-05-30T15:18:01.240Z"
   },
   {
    "duration": 42,
    "start_time": "2024-05-30T15:18:01.347Z"
   },
   {
    "duration": 41,
    "start_time": "2024-05-30T15:18:01.391Z"
   },
   {
    "duration": 57,
    "start_time": "2024-05-30T15:18:01.434Z"
   },
   {
    "duration": 84,
    "start_time": "2024-05-30T15:18:01.493Z"
   },
   {
    "duration": 36,
    "start_time": "2024-05-30T15:18:01.579Z"
   },
   {
    "duration": 1131,
    "start_time": "2024-05-30T15:18:01.617Z"
   },
   {
    "duration": 7,
    "start_time": "2024-05-30T15:18:02.750Z"
   },
   {
    "duration": 206,
    "start_time": "2024-05-30T15:18:02.758Z"
   },
   {
    "duration": 6,
    "start_time": "2024-05-30T15:18:02.965Z"
   },
   {
    "duration": 147,
    "start_time": "2024-05-30T15:18:02.974Z"
   },
   {
    "duration": 256,
    "start_time": "2024-05-30T15:18:03.123Z"
   },
   {
    "duration": 6,
    "start_time": "2024-05-30T15:18:03.381Z"
   },
   {
    "duration": 9,
    "start_time": "2024-05-30T15:18:03.388Z"
   },
   {
    "duration": 295,
    "start_time": "2024-05-30T15:18:03.399Z"
   },
   {
    "duration": 9,
    "start_time": "2024-05-30T15:18:03.696Z"
   },
   {
    "duration": 308,
    "start_time": "2024-05-30T15:18:03.707Z"
   },
   {
    "duration": 124,
    "start_time": "2024-05-30T15:18:04.017Z"
   },
   {
    "duration": 16,
    "start_time": "2024-05-30T15:18:04.143Z"
   },
   {
    "duration": 16,
    "start_time": "2024-05-30T15:18:04.161Z"
   },
   {
    "duration": 25,
    "start_time": "2024-05-30T15:18:04.179Z"
   },
   {
    "duration": 9,
    "start_time": "2024-05-30T15:18:04.206Z"
   },
   {
    "duration": 23,
    "start_time": "2024-05-30T15:18:04.217Z"
   },
   {
    "duration": 18,
    "start_time": "2024-05-30T15:18:04.241Z"
   },
   {
    "duration": 24,
    "start_time": "2024-05-30T15:18:04.261Z"
   },
   {
    "duration": 377,
    "start_time": "2024-05-30T15:18:04.286Z"
   },
   {
    "duration": 285,
    "start_time": "2024-05-30T15:18:04.664Z"
   },
   {
    "duration": 277,
    "start_time": "2024-05-30T15:18:04.955Z"
   },
   {
    "duration": 269,
    "start_time": "2024-05-30T15:18:05.234Z"
   },
   {
    "duration": 51,
    "start_time": "2024-05-30T15:18:05.505Z"
   },
   {
    "duration": 4,
    "start_time": "2024-05-30T15:18:05.557Z"
   },
   {
    "duration": 16,
    "start_time": "2024-05-30T15:18:05.562Z"
   },
   {
    "duration": 5,
    "start_time": "2024-05-30T15:18:05.579Z"
   },
   {
    "duration": 10,
    "start_time": "2024-05-30T15:18:05.585Z"
   },
   {
    "duration": 111,
    "start_time": "2024-05-30T15:18:05.596Z"
   },
   {
    "duration": 0,
    "start_time": "2024-05-30T15:18:05.709Z"
   },
   {
    "duration": 0,
    "start_time": "2024-05-30T15:18:05.710Z"
   },
   {
    "duration": 14,
    "start_time": "2024-05-30T15:25:27.344Z"
   },
   {
    "duration": 6,
    "start_time": "2024-05-30T15:25:34.172Z"
   },
   {
    "duration": 5,
    "start_time": "2024-05-30T15:27:30.419Z"
   },
   {
    "duration": 8,
    "start_time": "2024-05-30T15:28:07.644Z"
   },
   {
    "duration": 1306,
    "start_time": "2024-05-30T15:31:11.668Z"
   },
   {
    "duration": 70,
    "start_time": "2024-05-30T15:31:12.976Z"
   },
   {
    "duration": 20,
    "start_time": "2024-05-30T15:31:13.047Z"
   },
   {
    "duration": 18,
    "start_time": "2024-05-30T15:31:13.069Z"
   },
   {
    "duration": 14,
    "start_time": "2024-05-30T15:31:13.088Z"
   },
   {
    "duration": 15,
    "start_time": "2024-05-30T15:31:13.103Z"
   },
   {
    "duration": 7,
    "start_time": "2024-05-30T15:31:13.120Z"
   },
   {
    "duration": 33,
    "start_time": "2024-05-30T15:31:13.129Z"
   },
   {
    "duration": 5,
    "start_time": "2024-05-30T15:31:13.163Z"
   },
   {
    "duration": 1173,
    "start_time": "2024-05-30T15:31:13.170Z"
   },
   {
    "duration": 6,
    "start_time": "2024-05-30T15:31:14.344Z"
   },
   {
    "duration": 159,
    "start_time": "2024-05-30T15:31:14.355Z"
   },
   {
    "duration": 6,
    "start_time": "2024-05-30T15:31:14.516Z"
   },
   {
    "duration": 101,
    "start_time": "2024-05-30T15:31:14.523Z"
   },
   {
    "duration": 268,
    "start_time": "2024-05-30T15:31:14.626Z"
   },
   {
    "duration": 6,
    "start_time": "2024-05-30T15:31:14.895Z"
   },
   {
    "duration": 9,
    "start_time": "2024-05-30T15:31:14.903Z"
   },
   {
    "duration": 267,
    "start_time": "2024-05-30T15:31:14.913Z"
   },
   {
    "duration": 9,
    "start_time": "2024-05-30T15:31:15.181Z"
   },
   {
    "duration": 324,
    "start_time": "2024-05-30T15:31:15.192Z"
   },
   {
    "duration": 115,
    "start_time": "2024-05-30T15:31:15.518Z"
   },
   {
    "duration": 21,
    "start_time": "2024-05-30T15:31:15.634Z"
   },
   {
    "duration": 16,
    "start_time": "2024-05-30T15:31:15.657Z"
   },
   {
    "duration": 24,
    "start_time": "2024-05-30T15:31:15.674Z"
   },
   {
    "duration": 18,
    "start_time": "2024-05-30T15:31:15.699Z"
   },
   {
    "duration": 30,
    "start_time": "2024-05-30T15:31:15.719Z"
   },
   {
    "duration": 28,
    "start_time": "2024-05-30T15:31:15.751Z"
   },
   {
    "duration": 44,
    "start_time": "2024-05-30T15:31:15.783Z"
   },
   {
    "duration": 402,
    "start_time": "2024-05-30T15:31:15.829Z"
   },
   {
    "duration": 276,
    "start_time": "2024-05-30T15:31:16.233Z"
   },
   {
    "duration": 301,
    "start_time": "2024-05-30T15:31:16.511Z"
   },
   {
    "duration": 278,
    "start_time": "2024-05-30T15:31:16.814Z"
   },
   {
    "duration": 43,
    "start_time": "2024-05-30T15:31:17.094Z"
   },
   {
    "duration": 19,
    "start_time": "2024-05-30T15:31:17.138Z"
   },
   {
    "duration": 5,
    "start_time": "2024-05-30T15:31:17.159Z"
   },
   {
    "duration": 5,
    "start_time": "2024-05-30T15:31:17.165Z"
   },
   {
    "duration": 5,
    "start_time": "2024-05-30T15:31:17.172Z"
   },
   {
    "duration": 133,
    "start_time": "2024-05-30T15:31:17.179Z"
   },
   {
    "duration": 0,
    "start_time": "2024-05-30T15:31:17.314Z"
   },
   {
    "duration": 0,
    "start_time": "2024-05-30T15:31:17.315Z"
   },
   {
    "duration": 48,
    "start_time": "2024-05-30T20:12:10.303Z"
   },
   {
    "duration": 1249,
    "start_time": "2024-05-30T20:12:19.197Z"
   },
   {
    "duration": 205,
    "start_time": "2024-05-30T20:12:20.447Z"
   },
   {
    "duration": 22,
    "start_time": "2024-05-30T20:12:20.654Z"
   },
   {
    "duration": 14,
    "start_time": "2024-05-30T20:12:21.198Z"
   },
   {
    "duration": 13,
    "start_time": "2024-05-30T20:12:21.646Z"
   },
   {
    "duration": 6,
    "start_time": "2024-05-30T20:12:23.886Z"
   },
   {
    "duration": 3,
    "start_time": "2024-05-30T20:12:24.359Z"
   },
   {
    "duration": 10,
    "start_time": "2024-05-30T20:12:25.020Z"
   },
   {
    "duration": 5,
    "start_time": "2024-05-30T20:12:25.268Z"
   },
   {
    "duration": 790,
    "start_time": "2024-05-30T20:12:25.517Z"
   },
   {
    "duration": 5,
    "start_time": "2024-05-30T20:12:27.661Z"
   },
   {
    "duration": 118,
    "start_time": "2024-05-30T20:12:28.205Z"
   },
   {
    "duration": 61,
    "start_time": "2024-05-30T20:12:28.999Z"
   },
   {
    "duration": 23,
    "start_time": "2024-05-30T20:13:05.069Z"
   },
   {
    "duration": 5,
    "start_time": "2024-05-30T20:16:11.796Z"
   },
   {
    "duration": 74,
    "start_time": "2024-05-30T20:16:12.885Z"
   },
   {
    "duration": 185,
    "start_time": "2024-05-30T20:16:15.301Z"
   },
   {
    "duration": 4,
    "start_time": "2024-05-30T20:16:17.013Z"
   },
   {
    "duration": 7,
    "start_time": "2024-05-30T20:16:18.109Z"
   },
   {
    "duration": 213,
    "start_time": "2024-05-30T20:16:19.205Z"
   },
   {
    "duration": 8,
    "start_time": "2024-05-30T20:16:32.293Z"
   },
   {
    "duration": 193,
    "start_time": "2024-05-30T20:16:32.845Z"
   },
   {
    "duration": 85,
    "start_time": "2024-05-30T20:16:34.445Z"
   },
   {
    "duration": 11,
    "start_time": "2024-05-30T20:16:36.932Z"
   },
   {
    "duration": 9,
    "start_time": "2024-05-30T20:16:37.309Z"
   },
   {
    "duration": 15,
    "start_time": "2024-05-30T20:16:38.668Z"
   },
   {
    "duration": 9,
    "start_time": "2024-05-30T20:16:40.317Z"
   },
   {
    "duration": 15,
    "start_time": "2024-05-30T20:16:40.574Z"
   },
   {
    "duration": 5,
    "start_time": "2024-05-30T20:16:41.805Z"
   },
   {
    "duration": 14,
    "start_time": "2024-05-30T20:16:42.541Z"
   },
   {
    "duration": 275,
    "start_time": "2024-05-30T20:17:44.261Z"
   },
   {
    "duration": 195,
    "start_time": "2024-05-30T20:18:20.701Z"
   },
   {
    "duration": 9,
    "start_time": "2024-05-30T20:21:04.373Z"
   },
   {
    "duration": 57,
    "start_time": "2024-05-30T20:30:25.976Z"
   },
   {
    "duration": 9,
    "start_time": "2024-05-30T20:33:10.200Z"
   },
   {
    "duration": 6,
    "start_time": "2024-05-30T20:33:19.975Z"
   },
   {
    "duration": 8,
    "start_time": "2024-05-30T20:34:36.672Z"
   },
   {
    "duration": 3,
    "start_time": "2024-05-30T20:40:59.432Z"
   },
   {
    "duration": 3,
    "start_time": "2024-05-30T20:41:09.825Z"
   },
   {
    "duration": 9,
    "start_time": "2024-05-30T20:41:18.321Z"
   },
   {
    "duration": 1106,
    "start_time": "2024-05-30T20:41:33.698Z"
   },
   {
    "duration": 65,
    "start_time": "2024-05-30T20:41:35.707Z"
   },
   {
    "duration": 16,
    "start_time": "2024-05-30T20:41:36.163Z"
   },
   {
    "duration": 14,
    "start_time": "2024-05-30T20:41:36.594Z"
   },
   {
    "duration": 12,
    "start_time": "2024-05-30T20:41:37.010Z"
   },
   {
    "duration": 7,
    "start_time": "2024-05-30T20:41:39.281Z"
   },
   {
    "duration": 6,
    "start_time": "2024-05-30T20:41:39.777Z"
   },
   {
    "duration": 7,
    "start_time": "2024-05-30T20:43:31.986Z"
   },
   {
    "duration": 1138,
    "start_time": "2024-05-30T20:44:09.090Z"
   },
   {
    "duration": 67,
    "start_time": "2024-05-30T20:44:10.230Z"
   },
   {
    "duration": 19,
    "start_time": "2024-05-30T20:44:10.298Z"
   },
   {
    "duration": 55,
    "start_time": "2024-05-30T20:44:10.357Z"
   },
   {
    "duration": 12,
    "start_time": "2024-05-30T20:44:10.673Z"
   },
   {
    "duration": 4,
    "start_time": "2024-05-30T20:44:12.937Z"
   },
   {
    "duration": 57,
    "start_time": "2024-05-30T20:44:40.258Z"
   },
   {
    "duration": 144,
    "start_time": "2024-05-30T20:46:30.500Z"
   },
   {
    "duration": 86,
    "start_time": "2024-05-30T20:46:39.428Z"
   },
   {
    "duration": 103,
    "start_time": "2024-05-30T20:48:56.910Z"
   },
   {
    "duration": 73,
    "start_time": "2024-05-30T20:50:00.009Z"
   },
   {
    "duration": 6,
    "start_time": "2024-05-30T20:50:43.718Z"
   },
   {
    "duration": 74,
    "start_time": "2024-05-30T20:50:44.270Z"
   },
   {
    "duration": 192,
    "start_time": "2024-05-30T20:50:45.894Z"
   },
   {
    "duration": 4,
    "start_time": "2024-05-30T20:50:47.055Z"
   },
   {
    "duration": 7,
    "start_time": "2024-05-30T20:50:47.926Z"
   },
   {
    "duration": 179,
    "start_time": "2024-05-30T20:50:48.879Z"
   },
   {
    "duration": 7,
    "start_time": "2024-05-30T20:50:50.694Z"
   },
   {
    "duration": 247,
    "start_time": "2024-05-30T20:50:51.318Z"
   },
   {
    "duration": 80,
    "start_time": "2024-05-30T20:50:54.342Z"
   },
   {
    "duration": 8,
    "start_time": "2024-05-30T20:50:56.534Z"
   },
   {
    "duration": 9,
    "start_time": "2024-05-30T20:50:56.902Z"
   },
   {
    "duration": 56,
    "start_time": "2024-05-30T20:51:20.958Z"
   },
   {
    "duration": 192,
    "start_time": "2024-05-30T20:51:38.087Z"
   },
   {
    "duration": 10,
    "start_time": "2024-05-30T20:54:01.288Z"
   },
   {
    "duration": 11,
    "start_time": "2024-05-30T20:54:33.578Z"
   },
   {
    "duration": 66,
    "start_time": "2024-05-30T20:55:02.033Z"
   },
   {
    "duration": 100,
    "start_time": "2024-05-30T20:55:37.553Z"
   },
   {
    "duration": 77,
    "start_time": "2024-05-30T20:55:42.578Z"
   },
   {
    "duration": 17,
    "start_time": "2024-05-30T20:56:44.528Z"
   },
   {
    "duration": 8,
    "start_time": "2024-05-30T20:56:49.065Z"
   },
   {
    "duration": 8,
    "start_time": "2024-05-30T20:56:53.689Z"
   },
   {
    "duration": 6,
    "start_time": "2024-05-30T20:57:02.648Z"
   },
   {
    "duration": 14,
    "start_time": "2024-05-30T20:57:03.139Z"
   },
   {
    "duration": 5,
    "start_time": "2024-05-30T20:57:04.257Z"
   },
   {
    "duration": 14,
    "start_time": "2024-05-30T20:57:04.826Z"
   },
   {
    "duration": 193,
    "start_time": "2024-05-30T20:57:06.618Z"
   },
   {
    "duration": 190,
    "start_time": "2024-05-30T20:57:07.578Z"
   },
   {
    "duration": 187,
    "start_time": "2024-05-30T20:57:09.762Z"
   },
   {
    "duration": 252,
    "start_time": "2024-05-30T20:57:10.498Z"
   },
   {
    "duration": 12,
    "start_time": "2024-05-30T20:57:13.034Z"
   },
   {
    "duration": 12,
    "start_time": "2024-05-30T20:57:20.986Z"
   },
   {
    "duration": 1075,
    "start_time": "2024-05-30T20:57:39.540Z"
   },
   {
    "duration": 65,
    "start_time": "2024-05-30T20:57:40.617Z"
   },
   {
    "duration": 16,
    "start_time": "2024-05-30T20:57:40.683Z"
   },
   {
    "duration": 14,
    "start_time": "2024-05-30T20:57:40.702Z"
   },
   {
    "duration": 13,
    "start_time": "2024-05-30T20:57:40.718Z"
   },
   {
    "duration": 5,
    "start_time": "2024-05-30T20:57:40.732Z"
   },
   {
    "duration": 8,
    "start_time": "2024-05-30T20:57:40.738Z"
   },
   {
    "duration": 4,
    "start_time": "2024-05-30T20:57:40.747Z"
   },
   {
    "duration": 9,
    "start_time": "2024-05-30T20:57:40.752Z"
   },
   {
    "duration": 4,
    "start_time": "2024-05-30T20:57:40.802Z"
   },
   {
    "duration": 840,
    "start_time": "2024-05-30T20:57:40.808Z"
   },
   {
    "duration": 5,
    "start_time": "2024-05-30T20:57:41.649Z"
   },
   {
    "duration": 130,
    "start_time": "2024-05-30T20:57:41.655Z"
   },
   {
    "duration": 4,
    "start_time": "2024-05-30T20:57:41.786Z"
   },
   {
    "duration": 72,
    "start_time": "2024-05-30T20:57:41.801Z"
   },
   {
    "duration": 207,
    "start_time": "2024-05-30T20:57:41.874Z"
   },
   {
    "duration": 5,
    "start_time": "2024-05-30T20:57:42.082Z"
   },
   {
    "duration": 18,
    "start_time": "2024-05-30T20:57:42.088Z"
   },
   {
    "duration": 215,
    "start_time": "2024-05-30T20:57:42.107Z"
   },
   {
    "duration": 9,
    "start_time": "2024-05-30T20:57:42.323Z"
   },
   {
    "duration": 209,
    "start_time": "2024-05-30T20:57:42.333Z"
   },
   {
    "duration": 90,
    "start_time": "2024-05-30T20:57:42.544Z"
   },
   {
    "duration": 9,
    "start_time": "2024-05-30T20:57:42.635Z"
   },
   {
    "duration": 9,
    "start_time": "2024-05-30T20:57:42.645Z"
   },
   {
    "duration": 14,
    "start_time": "2024-05-30T20:57:42.655Z"
   },
   {
    "duration": 10,
    "start_time": "2024-05-30T20:57:42.670Z"
   },
   {
    "duration": 8,
    "start_time": "2024-05-30T20:57:42.702Z"
   },
   {
    "duration": 16,
    "start_time": "2024-05-30T20:57:42.713Z"
   },
   {
    "duration": 17,
    "start_time": "2024-05-30T20:57:42.731Z"
   },
   {
    "duration": 15,
    "start_time": "2024-05-30T20:57:42.749Z"
   },
   {
    "duration": 283,
    "start_time": "2024-05-30T20:57:42.766Z"
   },
   {
    "duration": 225,
    "start_time": "2024-05-30T20:57:43.051Z"
   },
   {
    "duration": 194,
    "start_time": "2024-05-30T20:57:43.278Z"
   },
   {
    "duration": 212,
    "start_time": "2024-05-30T20:57:43.473Z"
   },
   {
    "duration": 37,
    "start_time": "2024-05-30T20:57:43.686Z"
   },
   {
    "duration": 2,
    "start_time": "2024-05-30T20:57:43.725Z"
   },
   {
    "duration": 6,
    "start_time": "2024-05-30T20:57:43.729Z"
   },
   {
    "duration": 29,
    "start_time": "2024-05-30T20:57:43.736Z"
   },
   {
    "duration": 6,
    "start_time": "2024-05-30T20:57:43.767Z"
   },
   {
    "duration": 93,
    "start_time": "2024-05-30T20:57:43.774Z"
   },
   {
    "duration": 0,
    "start_time": "2024-05-30T20:57:43.869Z"
   },
   {
    "duration": 0,
    "start_time": "2024-05-30T20:57:43.870Z"
   },
   {
    "duration": 682,
    "start_time": "2024-05-30T20:58:35.019Z"
   },
   {
    "duration": 63,
    "start_time": "2024-05-30T20:59:24.011Z"
   },
   {
    "duration": 1140,
    "start_time": "2024-05-30T21:03:10.478Z"
   },
   {
    "duration": 66,
    "start_time": "2024-05-30T21:03:11.619Z"
   },
   {
    "duration": 16,
    "start_time": "2024-05-30T21:03:11.686Z"
   },
   {
    "duration": 12,
    "start_time": "2024-05-30T21:03:11.704Z"
   },
   {
    "duration": 10,
    "start_time": "2024-05-30T21:03:11.717Z"
   },
   {
    "duration": 5,
    "start_time": "2024-05-30T21:03:11.728Z"
   },
   {
    "duration": 10,
    "start_time": "2024-05-30T21:03:11.734Z"
   },
   {
    "duration": 17,
    "start_time": "2024-05-30T21:03:11.744Z"
   },
   {
    "duration": 10,
    "start_time": "2024-05-30T21:03:11.762Z"
   },
   {
    "duration": 17,
    "start_time": "2024-05-30T21:03:11.774Z"
   },
   {
    "duration": 828,
    "start_time": "2024-05-30T21:03:11.792Z"
   },
   {
    "duration": 4,
    "start_time": "2024-05-30T21:03:12.621Z"
   },
   {
    "duration": 166,
    "start_time": "2024-05-30T21:03:12.627Z"
   },
   {
    "duration": 5,
    "start_time": "2024-05-30T21:03:12.801Z"
   },
   {
    "duration": 74,
    "start_time": "2024-05-30T21:03:12.807Z"
   },
   {
    "duration": 197,
    "start_time": "2024-05-30T21:03:12.883Z"
   },
   {
    "duration": 4,
    "start_time": "2024-05-30T21:03:13.081Z"
   },
   {
    "duration": 19,
    "start_time": "2024-05-30T21:03:13.087Z"
   },
   {
    "duration": 188,
    "start_time": "2024-05-30T21:03:13.107Z"
   },
   {
    "duration": 10,
    "start_time": "2024-05-30T21:03:13.296Z"
   },
   {
    "duration": 205,
    "start_time": "2024-05-30T21:03:13.307Z"
   },
   {
    "duration": 97,
    "start_time": "2024-05-30T21:03:13.513Z"
   },
   {
    "duration": 10,
    "start_time": "2024-05-30T21:03:13.611Z"
   },
   {
    "duration": 13,
    "start_time": "2024-05-30T21:03:13.622Z"
   },
   {
    "duration": 27,
    "start_time": "2024-05-30T21:03:13.636Z"
   },
   {
    "duration": 11,
    "start_time": "2024-05-30T21:03:13.664Z"
   },
   {
    "duration": 7,
    "start_time": "2024-05-30T21:03:13.676Z"
   },
   {
    "duration": 27,
    "start_time": "2024-05-30T21:03:13.685Z"
   },
   {
    "duration": 17,
    "start_time": "2024-05-30T21:03:13.714Z"
   },
   {
    "duration": 34,
    "start_time": "2024-05-30T21:03:13.733Z"
   },
   {
    "duration": 267,
    "start_time": "2024-05-30T21:03:13.768Z"
   },
   {
    "duration": 216,
    "start_time": "2024-05-30T21:03:14.037Z"
   },
   {
    "duration": 197,
    "start_time": "2024-05-30T21:03:14.255Z"
   },
   {
    "duration": 201,
    "start_time": "2024-05-30T21:03:14.454Z"
   },
   {
    "duration": 96,
    "start_time": "2024-05-30T21:03:14.657Z"
   },
   {
    "duration": 0,
    "start_time": "2024-05-30T21:03:14.755Z"
   },
   {
    "duration": 0,
    "start_time": "2024-05-30T21:03:14.756Z"
   },
   {
    "duration": 0,
    "start_time": "2024-05-30T21:03:14.756Z"
   },
   {
    "duration": 0,
    "start_time": "2024-05-30T21:03:14.757Z"
   },
   {
    "duration": 0,
    "start_time": "2024-05-30T21:03:14.758Z"
   },
   {
    "duration": 0,
    "start_time": "2024-05-30T21:03:14.759Z"
   },
   {
    "duration": 0,
    "start_time": "2024-05-30T21:03:14.760Z"
   },
   {
    "duration": 2,
    "start_time": "2024-05-30T21:03:55.334Z"
   },
   {
    "duration": 37,
    "start_time": "2024-05-30T21:03:56.860Z"
   },
   {
    "duration": 60,
    "start_time": "2024-05-30T21:04:19.901Z"
   },
   {
    "duration": 4,
    "start_time": "2024-05-30T21:05:05.781Z"
   },
   {
    "duration": 3,
    "start_time": "2024-05-30T21:05:08.381Z"
   },
   {
    "duration": 75,
    "start_time": "2024-05-30T21:05:33.166Z"
   },
   {
    "duration": 683,
    "start_time": "2024-05-30T21:09:22.112Z"
   },
   {
    "duration": 4,
    "start_time": "2024-05-30T21:10:28.847Z"
   },
   {
    "duration": 60,
    "start_time": "2024-05-30T21:12:31.095Z"
   },
   {
    "duration": 7,
    "start_time": "2024-05-30T21:17:44.802Z"
   },
   {
    "duration": 5,
    "start_time": "2024-05-30T21:17:54.593Z"
   },
   {
    "duration": 62,
    "start_time": "2024-05-30T21:24:45.827Z"
   },
   {
    "duration": 52,
    "start_time": "2024-05-30T21:24:49.803Z"
   },
   {
    "duration": 72,
    "start_time": "2024-05-30T21:28:21.076Z"
   },
   {
    "duration": 6,
    "start_time": "2024-05-30T21:29:08.364Z"
   },
   {
    "duration": 100,
    "start_time": "2024-05-30T21:29:29.324Z"
   },
   {
    "duration": 4,
    "start_time": "2024-05-30T21:35:43.567Z"
   },
   {
    "duration": 4,
    "start_time": "2024-05-30T21:36:22.127Z"
   },
   {
    "duration": 1046,
    "start_time": "2024-05-30T21:38:46.350Z"
   },
   {
    "duration": 66,
    "start_time": "2024-05-30T21:38:47.397Z"
   },
   {
    "duration": 16,
    "start_time": "2024-05-30T21:38:47.464Z"
   },
   {
    "duration": 13,
    "start_time": "2024-05-30T21:38:47.481Z"
   },
   {
    "duration": 11,
    "start_time": "2024-05-30T21:38:47.495Z"
   },
   {
    "duration": 3,
    "start_time": "2024-05-30T21:38:47.507Z"
   },
   {
    "duration": 5,
    "start_time": "2024-05-30T21:38:47.512Z"
   },
   {
    "duration": 3,
    "start_time": "2024-05-30T21:38:47.518Z"
   },
   {
    "duration": 8,
    "start_time": "2024-05-30T21:38:47.522Z"
   },
   {
    "duration": 4,
    "start_time": "2024-05-30T21:38:47.532Z"
   },
   {
    "duration": 831,
    "start_time": "2024-05-30T21:38:47.537Z"
   },
   {
    "duration": 4,
    "start_time": "2024-05-30T21:38:48.369Z"
   },
   {
    "duration": 113,
    "start_time": "2024-05-30T21:38:48.374Z"
   },
   {
    "duration": 4,
    "start_time": "2024-05-30T21:38:48.488Z"
   },
   {
    "duration": 73,
    "start_time": "2024-05-30T21:38:48.501Z"
   },
   {
    "duration": 192,
    "start_time": "2024-05-30T21:38:48.575Z"
   },
   {
    "duration": 5,
    "start_time": "2024-05-30T21:38:48.768Z"
   },
   {
    "duration": 7,
    "start_time": "2024-05-30T21:38:48.774Z"
   },
   {
    "duration": 197,
    "start_time": "2024-05-30T21:38:48.782Z"
   },
   {
    "duration": 7,
    "start_time": "2024-05-30T21:38:48.980Z"
   },
   {
    "duration": 209,
    "start_time": "2024-05-30T21:38:48.988Z"
   },
   {
    "duration": 98,
    "start_time": "2024-05-30T21:38:49.198Z"
   },
   {
    "duration": 9,
    "start_time": "2024-05-30T21:38:49.302Z"
   },
   {
    "duration": 11,
    "start_time": "2024-05-30T21:38:49.312Z"
   },
   {
    "duration": 17,
    "start_time": "2024-05-30T21:38:49.325Z"
   },
   {
    "duration": 12,
    "start_time": "2024-05-30T21:38:49.343Z"
   },
   {
    "duration": 13,
    "start_time": "2024-05-30T21:38:49.356Z"
   },
   {
    "duration": 34,
    "start_time": "2024-05-30T21:38:49.373Z"
   },
   {
    "duration": 5,
    "start_time": "2024-05-30T21:38:49.409Z"
   },
   {
    "duration": 19,
    "start_time": "2024-05-30T21:38:49.416Z"
   },
   {
    "duration": 267,
    "start_time": "2024-05-30T21:38:49.436Z"
   },
   {
    "duration": 194,
    "start_time": "2024-05-30T21:38:49.704Z"
   },
   {
    "duration": 197,
    "start_time": "2024-05-30T21:38:49.901Z"
   },
   {
    "duration": 204,
    "start_time": "2024-05-30T21:38:50.101Z"
   },
   {
    "duration": 3,
    "start_time": "2024-05-30T21:38:50.307Z"
   },
   {
    "duration": 38,
    "start_time": "2024-05-30T21:38:50.311Z"
   },
   {
    "duration": 4,
    "start_time": "2024-05-30T21:38:50.351Z"
   },
   {
    "duration": 15,
    "start_time": "2024-05-30T21:38:50.357Z"
   },
   {
    "duration": 5,
    "start_time": "2024-05-30T21:38:50.373Z"
   },
   {
    "duration": 662,
    "start_time": "2024-05-30T21:38:50.380Z"
   },
   {
    "duration": 4,
    "start_time": "2024-05-30T21:38:51.044Z"
   },
   {
    "duration": 6,
    "start_time": "2024-05-30T21:38:51.049Z"
   },
   {
    "duration": 1246,
    "start_time": "2024-05-31T01:15:41.691Z"
   },
   {
    "duration": 68,
    "start_time": "2024-05-31T01:15:42.939Z"
   },
   {
    "duration": 22,
    "start_time": "2024-05-31T01:15:43.009Z"
   },
   {
    "duration": 38,
    "start_time": "2024-05-31T01:15:43.033Z"
   },
   {
    "duration": 12,
    "start_time": "2024-05-31T01:15:43.072Z"
   },
   {
    "duration": 94,
    "start_time": "2024-05-31T01:15:43.085Z"
   },
   {
    "duration": 22,
    "start_time": "2024-05-31T01:15:43.181Z"
   },
   {
    "duration": 4,
    "start_time": "2024-05-31T01:15:43.205Z"
   },
   {
    "duration": 59,
    "start_time": "2024-05-31T01:15:43.210Z"
   },
   {
    "duration": 8,
    "start_time": "2024-05-31T01:15:43.271Z"
   },
   {
    "duration": 986,
    "start_time": "2024-05-31T01:15:43.281Z"
   },
   {
    "duration": 5,
    "start_time": "2024-05-31T01:15:44.269Z"
   },
   {
    "duration": 130,
    "start_time": "2024-05-31T01:15:44.276Z"
   },
   {
    "duration": 6,
    "start_time": "2024-05-31T01:15:44.408Z"
   },
   {
    "duration": 90,
    "start_time": "2024-05-31T01:15:44.415Z"
   },
   {
    "duration": 207,
    "start_time": "2024-05-31T01:15:44.506Z"
   },
   {
    "duration": 4,
    "start_time": "2024-05-31T01:15:44.715Z"
   },
   {
    "duration": 21,
    "start_time": "2024-05-31T01:15:44.721Z"
   },
   {
    "duration": 195,
    "start_time": "2024-05-31T01:15:44.744Z"
   },
   {
    "duration": 7,
    "start_time": "2024-05-31T01:15:44.941Z"
   },
   {
    "duration": 260,
    "start_time": "2024-05-31T01:15:44.949Z"
   },
   {
    "duration": 99,
    "start_time": "2024-05-31T01:15:45.211Z"
   },
   {
    "duration": 10,
    "start_time": "2024-05-31T01:15:45.311Z"
   },
   {
    "duration": 51,
    "start_time": "2024-05-31T01:15:45.322Z"
   },
   {
    "duration": 21,
    "start_time": "2024-05-31T01:15:45.374Z"
   },
   {
    "duration": 33,
    "start_time": "2024-05-31T01:15:45.396Z"
   },
   {
    "duration": 9,
    "start_time": "2024-05-31T01:15:45.431Z"
   },
   {
    "duration": 31,
    "start_time": "2024-05-31T01:15:45.444Z"
   },
   {
    "duration": 21,
    "start_time": "2024-05-31T01:15:45.477Z"
   },
   {
    "duration": 31,
    "start_time": "2024-05-31T01:15:45.499Z"
   },
   {
    "duration": 342,
    "start_time": "2024-05-31T01:15:45.532Z"
   },
   {
    "duration": 235,
    "start_time": "2024-05-31T01:15:45.875Z"
   },
   {
    "duration": 219,
    "start_time": "2024-05-31T01:15:46.111Z"
   },
   {
    "duration": 218,
    "start_time": "2024-05-31T01:15:46.331Z"
   },
   {
    "duration": 3,
    "start_time": "2024-05-31T01:15:46.551Z"
   },
   {
    "duration": 75,
    "start_time": "2024-05-31T01:15:46.555Z"
   },
   {
    "duration": 6,
    "start_time": "2024-05-31T01:15:46.631Z"
   },
   {
    "duration": 28,
    "start_time": "2024-05-31T01:15:46.639Z"
   },
   {
    "duration": 16,
    "start_time": "2024-05-31T01:15:46.669Z"
   },
   {
    "duration": 788,
    "start_time": "2024-05-31T01:15:46.687Z"
   },
   {
    "duration": 4,
    "start_time": "2024-05-31T01:15:47.476Z"
   },
   {
    "duration": 20,
    "start_time": "2024-05-31T01:15:47.482Z"
   },
   {
    "duration": 1087,
    "start_time": "2024-05-31T01:22:39.117Z"
   },
   {
    "duration": 74,
    "start_time": "2024-05-31T01:22:40.206Z"
   },
   {
    "duration": 17,
    "start_time": "2024-05-31T01:22:40.282Z"
   },
   {
    "duration": 13,
    "start_time": "2024-05-31T01:22:40.300Z"
   },
   {
    "duration": 14,
    "start_time": "2024-05-31T01:22:40.315Z"
   },
   {
    "duration": 10,
    "start_time": "2024-05-31T01:22:40.331Z"
   },
   {
    "duration": 8,
    "start_time": "2024-05-31T01:22:40.343Z"
   },
   {
    "duration": 4,
    "start_time": "2024-05-31T01:22:40.352Z"
   },
   {
    "duration": 39,
    "start_time": "2024-05-31T01:22:40.358Z"
   },
   {
    "duration": 8,
    "start_time": "2024-05-31T01:22:40.398Z"
   },
   {
    "duration": 828,
    "start_time": "2024-05-31T01:22:40.408Z"
   },
   {
    "duration": 5,
    "start_time": "2024-05-31T01:22:41.238Z"
   },
   {
    "duration": 139,
    "start_time": "2024-05-31T01:22:41.244Z"
   },
   {
    "duration": 5,
    "start_time": "2024-05-31T01:22:41.385Z"
   },
   {
    "duration": 81,
    "start_time": "2024-05-31T01:22:41.391Z"
   },
   {
    "duration": 192,
    "start_time": "2024-05-31T01:22:41.473Z"
   },
   {
    "duration": 6,
    "start_time": "2024-05-31T01:22:41.666Z"
   },
   {
    "duration": 18,
    "start_time": "2024-05-31T01:22:41.673Z"
   },
   {
    "duration": 192,
    "start_time": "2024-05-31T01:22:41.692Z"
   },
   {
    "duration": 7,
    "start_time": "2024-05-31T01:22:41.885Z"
   },
   {
    "duration": 209,
    "start_time": "2024-05-31T01:22:41.894Z"
   },
   {
    "duration": 83,
    "start_time": "2024-05-31T01:22:42.105Z"
   },
   {
    "duration": 18,
    "start_time": "2024-05-31T01:22:42.190Z"
   },
   {
    "duration": 9,
    "start_time": "2024-05-31T01:22:42.210Z"
   },
   {
    "duration": 20,
    "start_time": "2024-05-31T01:22:42.221Z"
   },
   {
    "duration": 10,
    "start_time": "2024-05-31T01:22:42.243Z"
   },
   {
    "duration": 9,
    "start_time": "2024-05-31T01:22:42.255Z"
   },
   {
    "duration": 18,
    "start_time": "2024-05-31T01:22:42.265Z"
   },
   {
    "duration": 23,
    "start_time": "2024-05-31T01:22:42.284Z"
   },
   {
    "duration": 18,
    "start_time": "2024-05-31T01:22:42.309Z"
   },
   {
    "duration": 290,
    "start_time": "2024-05-31T01:22:42.328Z"
   },
   {
    "duration": 231,
    "start_time": "2024-05-31T01:22:42.619Z"
   },
   {
    "duration": 226,
    "start_time": "2024-05-31T01:22:42.852Z"
   },
   {
    "duration": 244,
    "start_time": "2024-05-31T01:22:43.079Z"
   },
   {
    "duration": 3,
    "start_time": "2024-05-31T01:22:43.324Z"
   },
   {
    "duration": 87,
    "start_time": "2024-05-31T01:22:43.328Z"
   },
   {
    "duration": 4,
    "start_time": "2024-05-31T01:22:43.416Z"
   },
   {
    "duration": 9,
    "start_time": "2024-05-31T01:22:43.421Z"
   },
   {
    "duration": 12,
    "start_time": "2024-05-31T01:22:43.431Z"
   },
   {
    "duration": 650,
    "start_time": "2024-05-31T01:22:43.444Z"
   },
   {
    "duration": 4,
    "start_time": "2024-05-31T01:22:44.101Z"
   },
   {
    "duration": 15,
    "start_time": "2024-05-31T01:22:44.106Z"
   },
   {
    "duration": 1564,
    "start_time": "2024-05-31T06:18:32.748Z"
   },
   {
    "duration": 518,
    "start_time": "2024-05-31T06:18:34.315Z"
   },
   {
    "duration": 22,
    "start_time": "2024-05-31T06:18:34.836Z"
   },
   {
    "duration": 25,
    "start_time": "2024-05-31T06:18:34.861Z"
   },
   {
    "duration": 16,
    "start_time": "2024-05-31T06:18:34.888Z"
   },
   {
    "duration": 5,
    "start_time": "2024-05-31T06:18:38.495Z"
   },
   {
    "duration": 8,
    "start_time": "2024-05-31T06:18:39.026Z"
   },
   {
    "duration": 5,
    "start_time": "2024-05-31T06:18:39.484Z"
   },
   {
    "duration": 16,
    "start_time": "2024-05-31T06:18:45.949Z"
   },
   {
    "duration": 5,
    "start_time": "2024-05-31T06:18:46.397Z"
   },
   {
    "duration": 1208,
    "start_time": "2024-05-31T06:18:47.117Z"
   },
   {
    "duration": 6,
    "start_time": "2024-05-31T06:18:49.986Z"
   },
   {
    "duration": 150,
    "start_time": "2024-05-31T06:18:50.431Z"
   },
   {
    "duration": 6,
    "start_time": "2024-05-31T06:18:56.281Z"
   },
   {
    "duration": 93,
    "start_time": "2024-05-31T06:18:56.971Z"
   },
   {
    "duration": 257,
    "start_time": "2024-05-31T06:18:58.406Z"
   },
   {
    "duration": 5,
    "start_time": "2024-05-31T06:18:59.338Z"
   },
   {
    "duration": 9,
    "start_time": "2024-05-31T06:19:00.853Z"
   },
   {
    "duration": 252,
    "start_time": "2024-05-31T06:19:02.244Z"
   },
   {
    "duration": 9,
    "start_time": "2024-05-31T06:19:03.826Z"
   },
   {
    "duration": 270,
    "start_time": "2024-05-31T06:19:04.420Z"
   },
   {
    "duration": 110,
    "start_time": "2024-05-31T06:19:05.567Z"
   },
   {
    "duration": 15,
    "start_time": "2024-05-31T06:19:07.362Z"
   },
   {
    "duration": 11,
    "start_time": "2024-05-31T06:19:07.857Z"
   },
   {
    "duration": 24,
    "start_time": "2024-05-31T06:19:17.523Z"
   },
   {
    "duration": 14,
    "start_time": "2024-05-31T06:19:18.609Z"
   },
   {
    "duration": 9,
    "start_time": "2024-05-31T06:19:24.644Z"
   },
   {
    "duration": 20,
    "start_time": "2024-05-31T06:19:25.390Z"
   },
   {
    "duration": 6,
    "start_time": "2024-05-31T06:19:26.447Z"
   },
   {
    "duration": 20,
    "start_time": "2024-05-31T06:19:26.919Z"
   },
   {
    "duration": 358,
    "start_time": "2024-05-31T06:19:28.701Z"
   },
   {
    "duration": 256,
    "start_time": "2024-05-31T06:19:29.072Z"
   },
   {
    "duration": 272,
    "start_time": "2024-05-31T06:19:31.850Z"
   },
   {
    "duration": 263,
    "start_time": "2024-05-31T06:19:32.857Z"
   },
   {
    "duration": 3,
    "start_time": "2024-05-31T06:19:35.782Z"
   },
   {
    "duration": 47,
    "start_time": "2024-05-31T06:19:36.859Z"
   },
   {
    "duration": 6,
    "start_time": "2024-05-31T06:19:40.596Z"
   },
   {
    "duration": 4,
    "start_time": "2024-05-31T06:19:41.010Z"
   },
   {
    "duration": 6,
    "start_time": "2024-05-31T06:19:44.411Z"
   },
   {
    "duration": 878,
    "start_time": "2024-05-31T06:19:44.964Z"
   },
   {
    "duration": 52,
    "start_time": "2024-05-31T06:22:49.741Z"
   },
   {
    "duration": 6,
    "start_time": "2024-05-31T06:25:57.774Z"
   },
   {
    "duration": 65,
    "start_time": "2024-05-31T06:29:06.280Z"
   },
   {
    "duration": 82,
    "start_time": "2024-05-31T06:29:23.845Z"
   },
   {
    "duration": 1273,
    "start_time": "2024-05-31T07:47:46.684Z"
   },
   {
    "duration": 68,
    "start_time": "2024-05-31T07:47:47.959Z"
   },
   {
    "duration": 19,
    "start_time": "2024-05-31T07:47:48.029Z"
   },
   {
    "duration": 16,
    "start_time": "2024-05-31T07:47:48.049Z"
   },
   {
    "duration": 14,
    "start_time": "2024-05-31T07:47:48.066Z"
   },
   {
    "duration": 5,
    "start_time": "2024-05-31T07:47:48.082Z"
   },
   {
    "duration": 13,
    "start_time": "2024-05-31T07:47:48.088Z"
   },
   {
    "duration": 5,
    "start_time": "2024-05-31T07:47:48.103Z"
   },
   {
    "duration": 12,
    "start_time": "2024-05-31T07:47:48.110Z"
   },
   {
    "duration": 4,
    "start_time": "2024-05-31T07:47:48.125Z"
   },
   {
    "duration": 1137,
    "start_time": "2024-05-31T07:47:48.130Z"
   },
   {
    "duration": 6,
    "start_time": "2024-05-31T07:47:49.268Z"
   },
   {
    "duration": 151,
    "start_time": "2024-05-31T07:47:49.276Z"
   },
   {
    "duration": 6,
    "start_time": "2024-05-31T07:47:49.428Z"
   },
   {
    "duration": 105,
    "start_time": "2024-05-31T07:47:49.436Z"
   },
   {
    "duration": 264,
    "start_time": "2024-05-31T07:47:49.543Z"
   },
   {
    "duration": 5,
    "start_time": "2024-05-31T07:47:49.809Z"
   },
   {
    "duration": 12,
    "start_time": "2024-05-31T07:47:49.815Z"
   },
   {
    "duration": 266,
    "start_time": "2024-05-31T07:47:49.829Z"
   },
   {
    "duration": 11,
    "start_time": "2024-05-31T07:47:50.097Z"
   },
   {
    "duration": 313,
    "start_time": "2024-05-31T07:47:50.110Z"
   },
   {
    "duration": 123,
    "start_time": "2024-05-31T07:47:50.424Z"
   },
   {
    "duration": 15,
    "start_time": "2024-05-31T07:47:50.548Z"
   },
   {
    "duration": 35,
    "start_time": "2024-05-31T07:47:50.564Z"
   },
   {
    "duration": 22,
    "start_time": "2024-05-31T07:47:50.601Z"
   },
   {
    "duration": 19,
    "start_time": "2024-05-31T07:47:50.625Z"
   },
   {
    "duration": 44,
    "start_time": "2024-05-31T07:47:50.647Z"
   },
   {
    "duration": 31,
    "start_time": "2024-05-31T07:47:50.695Z"
   },
   {
    "duration": 25,
    "start_time": "2024-05-31T07:47:50.728Z"
   },
   {
    "duration": 37,
    "start_time": "2024-05-31T07:47:50.755Z"
   },
   {
    "duration": 369,
    "start_time": "2024-05-31T07:47:50.793Z"
   },
   {
    "duration": 281,
    "start_time": "2024-05-31T07:47:51.164Z"
   },
   {
    "duration": 275,
    "start_time": "2024-05-31T07:47:51.446Z"
   },
   {
    "duration": 304,
    "start_time": "2024-05-31T07:47:51.723Z"
   },
   {
    "duration": 4,
    "start_time": "2024-05-31T07:47:52.029Z"
   },
   {
    "duration": 59,
    "start_time": "2024-05-31T07:47:52.035Z"
   },
   {
    "duration": 5,
    "start_time": "2024-05-31T07:47:52.095Z"
   },
   {
    "duration": 18,
    "start_time": "2024-05-31T07:47:52.101Z"
   },
   {
    "duration": 7,
    "start_time": "2024-05-31T07:47:52.120Z"
   },
   {
    "duration": 906,
    "start_time": "2024-05-31T07:47:52.129Z"
   },
   {
    "duration": 5,
    "start_time": "2024-05-31T07:47:53.037Z"
   },
   {
    "duration": 18,
    "start_time": "2024-05-31T07:47:53.043Z"
   },
   {
    "duration": 47,
    "start_time": "2024-05-31T08:36:35.316Z"
   },
   {
    "duration": 5,
    "start_time": "2024-05-31T08:36:48.829Z"
   },
   {
    "duration": 1338,
    "start_time": "2024-05-31T08:36:57.437Z"
   },
   {
    "duration": 195,
    "start_time": "2024-05-31T08:36:58.776Z"
   },
   {
    "duration": 18,
    "start_time": "2024-05-31T08:36:58.973Z"
   },
   {
    "duration": 14,
    "start_time": "2024-05-31T08:36:58.993Z"
   },
   {
    "duration": 13,
    "start_time": "2024-05-31T08:36:59.008Z"
   },
   {
    "duration": 11,
    "start_time": "2024-05-31T08:36:59.022Z"
   },
   {
    "duration": 7,
    "start_time": "2024-05-31T08:36:59.034Z"
   },
   {
    "duration": 4,
    "start_time": "2024-05-31T08:36:59.042Z"
   },
   {
    "duration": 11,
    "start_time": "2024-05-31T08:36:59.047Z"
   },
   {
    "duration": 5,
    "start_time": "2024-05-31T08:36:59.060Z"
   },
   {
    "duration": 958,
    "start_time": "2024-05-31T08:36:59.067Z"
   },
   {
    "duration": 6,
    "start_time": "2024-05-31T08:37:00.026Z"
   },
   {
    "duration": 162,
    "start_time": "2024-05-31T08:37:00.033Z"
   },
   {
    "duration": 5,
    "start_time": "2024-05-31T08:37:00.197Z"
   },
   {
    "duration": 120,
    "start_time": "2024-05-31T08:37:00.204Z"
   },
   {
    "duration": 222,
    "start_time": "2024-05-31T08:37:00.325Z"
   },
   {
    "duration": 5,
    "start_time": "2024-05-31T08:37:00.548Z"
   },
   {
    "duration": 62,
    "start_time": "2024-05-31T08:37:00.554Z"
   },
   {
    "duration": 229,
    "start_time": "2024-05-31T08:37:00.617Z"
   },
   {
    "duration": 6,
    "start_time": "2024-05-31T08:37:00.848Z"
   },
   {
    "duration": 259,
    "start_time": "2024-05-31T08:37:00.856Z"
   },
   {
    "duration": 105,
    "start_time": "2024-05-31T08:37:01.117Z"
   },
   {
    "duration": 11,
    "start_time": "2024-05-31T08:37:01.223Z"
   },
   {
    "duration": 43,
    "start_time": "2024-05-31T08:37:01.236Z"
   },
   {
    "duration": 48,
    "start_time": "2024-05-31T08:37:01.281Z"
   },
   {
    "duration": 20,
    "start_time": "2024-05-31T08:37:01.330Z"
   },
   {
    "duration": 18,
    "start_time": "2024-05-31T08:37:01.352Z"
   },
   {
    "duration": 34,
    "start_time": "2024-05-31T08:37:01.373Z"
   },
   {
    "duration": 5,
    "start_time": "2024-05-31T08:37:01.409Z"
   },
   {
    "duration": 49,
    "start_time": "2024-05-31T08:37:01.415Z"
   },
   {
    "duration": 301,
    "start_time": "2024-05-31T08:37:01.466Z"
   },
   {
    "duration": 232,
    "start_time": "2024-05-31T08:37:01.769Z"
   },
   {
    "duration": 231,
    "start_time": "2024-05-31T08:37:02.002Z"
   },
   {
    "duration": 250,
    "start_time": "2024-05-31T08:37:02.234Z"
   },
   {
    "duration": 3,
    "start_time": "2024-05-31T08:37:02.486Z"
   },
   {
    "duration": 52,
    "start_time": "2024-05-31T08:37:02.491Z"
   },
   {
    "duration": 5,
    "start_time": "2024-05-31T08:37:02.545Z"
   },
   {
    "duration": 14,
    "start_time": "2024-05-31T08:37:02.552Z"
   },
   {
    "duration": 115,
    "start_time": "2024-05-31T08:37:02.567Z"
   },
   {
    "duration": 0,
    "start_time": "2024-05-31T08:37:02.683Z"
   },
   {
    "duration": 0,
    "start_time": "2024-05-31T08:37:02.684Z"
   },
   {
    "duration": 0,
    "start_time": "2024-05-31T08:37:02.686Z"
   },
   {
    "duration": 0,
    "start_time": "2024-05-31T08:37:02.687Z"
   },
   {
    "duration": 4,
    "start_time": "2024-05-31T08:37:12.509Z"
   },
   {
    "duration": 4,
    "start_time": "2024-05-31T08:38:08.381Z"
   },
   {
    "duration": 3,
    "start_time": "2024-05-31T08:38:18.285Z"
   },
   {
    "duration": 63,
    "start_time": "2024-05-31T08:38:18.690Z"
   },
   {
    "duration": 14,
    "start_time": "2024-05-31T08:38:18.894Z"
   },
   {
    "duration": 16,
    "start_time": "2024-05-31T08:38:19.093Z"
   },
   {
    "duration": 13,
    "start_time": "2024-05-31T08:38:19.296Z"
   },
   {
    "duration": 5,
    "start_time": "2024-05-31T08:38:20.552Z"
   },
   {
    "duration": 6,
    "start_time": "2024-05-31T08:38:20.745Z"
   },
   {
    "duration": 4,
    "start_time": "2024-05-31T08:38:20.950Z"
   },
   {
    "duration": 9,
    "start_time": "2024-05-31T08:38:21.777Z"
   },
   {
    "duration": 4,
    "start_time": "2024-05-31T08:38:21.979Z"
   },
   {
    "duration": 846,
    "start_time": "2024-05-31T08:38:22.182Z"
   },
   {
    "duration": 6,
    "start_time": "2024-05-31T08:38:23.184Z"
   },
   {
    "duration": 125,
    "start_time": "2024-05-31T08:38:23.389Z"
   },
   {
    "duration": 5,
    "start_time": "2024-05-31T08:38:24.596Z"
   },
   {
    "duration": 86,
    "start_time": "2024-05-31T08:38:24.792Z"
   },
   {
    "duration": 221,
    "start_time": "2024-05-31T08:38:25.414Z"
   },
   {
    "duration": 5,
    "start_time": "2024-05-31T08:38:25.843Z"
   },
   {
    "duration": 8,
    "start_time": "2024-05-31T08:38:26.241Z"
   },
   {
    "duration": 210,
    "start_time": "2024-05-31T08:38:26.656Z"
   },
   {
    "duration": 8,
    "start_time": "2024-05-31T08:38:27.266Z"
   },
   {
    "duration": 215,
    "start_time": "2024-05-31T08:38:27.479Z"
   },
   {
    "duration": 162,
    "start_time": "2024-05-31T08:38:27.896Z"
   },
   {
    "duration": 12,
    "start_time": "2024-05-31T08:38:28.707Z"
   },
   {
    "duration": 8,
    "start_time": "2024-05-31T08:38:28.908Z"
   },
   {
    "duration": 17,
    "start_time": "2024-05-31T08:38:29.743Z"
   },
   {
    "duration": 12,
    "start_time": "2024-05-31T08:38:29.957Z"
   },
   {
    "duration": 8,
    "start_time": "2024-05-31T08:38:30.977Z"
   },
   {
    "duration": 16,
    "start_time": "2024-05-31T08:38:31.192Z"
   },
   {
    "duration": 5,
    "start_time": "2024-05-31T08:38:31.612Z"
   },
   {
    "duration": 17,
    "start_time": "2024-05-31T08:38:31.837Z"
   },
   {
    "duration": 222,
    "start_time": "2024-05-31T08:38:32.508Z"
   },
   {
    "duration": 231,
    "start_time": "2024-05-31T08:38:32.732Z"
   },
   {
    "duration": 223,
    "start_time": "2024-05-31T08:38:33.807Z"
   },
   {
    "duration": 245,
    "start_time": "2024-05-31T08:38:34.032Z"
   },
   {
    "duration": 3,
    "start_time": "2024-05-31T08:38:34.844Z"
   },
   {
    "duration": 41,
    "start_time": "2024-05-31T08:38:35.062Z"
   },
   {
    "duration": 5,
    "start_time": "2024-05-31T08:38:36.385Z"
   },
   {
    "duration": 4,
    "start_time": "2024-05-31T08:38:36.587Z"
   },
   {
    "duration": 9,
    "start_time": "2024-05-31T08:38:37.956Z"
   },
   {
    "duration": 766,
    "start_time": "2024-05-31T08:38:38.163Z"
   },
   {
    "duration": 5,
    "start_time": "2024-05-31T08:38:40.699Z"
   },
   {
    "duration": 4,
    "start_time": "2024-05-31T08:38:41.965Z"
   },
   {
    "duration": 46,
    "start_time": "2024-05-31T13:27:48.815Z"
   },
   {
    "duration": 1326,
    "start_time": "2024-06-06T23:05:08.816Z"
   },
   {
    "duration": 209,
    "start_time": "2024-06-06T23:05:10.144Z"
   },
   {
    "duration": 20,
    "start_time": "2024-06-06T23:05:10.354Z"
   },
   {
    "duration": 26,
    "start_time": "2024-06-06T23:05:10.376Z"
   },
   {
    "duration": 17,
    "start_time": "2024-06-06T23:05:10.404Z"
   },
   {
    "duration": 16,
    "start_time": "2024-06-06T23:05:10.422Z"
   },
   {
    "duration": 14,
    "start_time": "2024-06-06T23:05:10.439Z"
   },
   {
    "duration": 5,
    "start_time": "2024-06-06T23:05:10.454Z"
   },
   {
    "duration": 9,
    "start_time": "2024-06-06T23:05:10.460Z"
   },
   {
    "duration": 8,
    "start_time": "2024-06-06T23:05:10.472Z"
   },
   {
    "duration": 938,
    "start_time": "2024-06-06T23:05:10.481Z"
   },
   {
    "duration": 8,
    "start_time": "2024-06-06T23:05:11.420Z"
   },
   {
    "duration": 148,
    "start_time": "2024-06-06T23:05:11.430Z"
   },
   {
    "duration": 4,
    "start_time": "2024-06-06T23:05:11.579Z"
   },
   {
    "duration": 86,
    "start_time": "2024-06-06T23:05:11.585Z"
   },
   {
    "duration": 208,
    "start_time": "2024-06-06T23:05:11.672Z"
   },
   {
    "duration": 4,
    "start_time": "2024-06-06T23:05:11.881Z"
   },
   {
    "duration": 29,
    "start_time": "2024-06-06T23:05:11.886Z"
   },
   {
    "duration": 196,
    "start_time": "2024-06-06T23:05:11.917Z"
   },
   {
    "duration": 9,
    "start_time": "2024-06-06T23:05:12.115Z"
   },
   {
    "duration": 219,
    "start_time": "2024-06-06T23:05:12.126Z"
   },
   {
    "duration": 94,
    "start_time": "2024-06-06T23:05:12.346Z"
   },
   {
    "duration": 9,
    "start_time": "2024-06-06T23:05:12.441Z"
   },
   {
    "duration": 8,
    "start_time": "2024-06-06T23:05:12.452Z"
   },
   {
    "duration": 17,
    "start_time": "2024-06-06T23:05:12.461Z"
   },
   {
    "duration": 30,
    "start_time": "2024-06-06T23:05:12.479Z"
   },
   {
    "duration": 95,
    "start_time": "2024-06-06T23:05:12.510Z"
   },
   {
    "duration": 20,
    "start_time": "2024-06-06T23:05:12.609Z"
   },
   {
    "duration": 58,
    "start_time": "2024-06-06T23:05:12.631Z"
   },
   {
    "duration": 32,
    "start_time": "2024-06-06T23:05:12.690Z"
   },
   {
    "duration": 231,
    "start_time": "2024-06-06T23:05:12.724Z"
   },
   {
    "duration": 226,
    "start_time": "2024-06-06T23:05:12.956Z"
   },
   {
    "duration": 218,
    "start_time": "2024-06-06T23:05:13.183Z"
   },
   {
    "duration": 223,
    "start_time": "2024-06-06T23:05:13.403Z"
   },
   {
    "duration": 5,
    "start_time": "2024-06-06T23:05:13.627Z"
   },
   {
    "duration": 37,
    "start_time": "2024-06-06T23:05:13.633Z"
   },
   {
    "duration": 4,
    "start_time": "2024-06-06T23:05:13.671Z"
   },
   {
    "duration": 10,
    "start_time": "2024-06-06T23:05:13.676Z"
   },
   {
    "duration": 109,
    "start_time": "2024-06-06T23:05:13.687Z"
   },
   {
    "duration": 0,
    "start_time": "2024-06-06T23:05:13.801Z"
   },
   {
    "duration": 0,
    "start_time": "2024-06-06T23:05:13.802Z"
   },
   {
    "duration": 0,
    "start_time": "2024-06-06T23:05:13.803Z"
   },
   {
    "duration": 0,
    "start_time": "2024-06-06T23:05:13.804Z"
   },
   {
    "duration": 5,
    "start_time": "2024-06-06T23:05:56.446Z"
   },
   {
    "duration": 742,
    "start_time": "2024-06-06T23:05:59.574Z"
   },
   {
    "duration": 6,
    "start_time": "2024-06-06T23:06:05.725Z"
   },
   {
    "duration": 4,
    "start_time": "2024-06-06T23:06:08.541Z"
   },
   {
    "duration": 7,
    "start_time": "2024-06-06T23:06:11.893Z"
   }
  ],
  "kernelspec": {
   "display_name": "Python 3 (ipykernel)",
   "language": "python",
   "name": "python3"
  },
  "language_info": {
   "codemirror_mode": {
    "name": "ipython",
    "version": 3
   },
   "file_extension": ".py",
   "mimetype": "text/x-python",
   "name": "python",
   "nbconvert_exporter": "python",
   "pygments_lexer": "ipython3",
   "version": "3.9.5"
  },
  "toc": {
   "base_numbering": 1,
   "nav_menu": {},
   "number_sections": true,
   "sideBar": true,
   "skip_h1_title": true,
   "title_cell": "Table of Contents",
   "title_sidebar": "Contents",
   "toc_cell": false,
   "toc_position": {},
   "toc_section_display": true,
   "toc_window_display": true
  }
 },
 "nbformat": 4,
 "nbformat_minor": 5
}
