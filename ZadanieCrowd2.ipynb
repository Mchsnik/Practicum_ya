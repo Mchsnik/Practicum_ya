{
  "nbformat": 4,
  "nbformat_minor": 0,
  "metadata": {
    "colab": {
      "provenance": [],
      "authorship_tag": "ABX9TyN5WcXty5sYUk6F1UnxA9Mt",
      "include_colab_link": true
    },
    "kernelspec": {
      "name": "python3",
      "display_name": "Python 3"
    },
    "language_info": {
      "name": "python"
    }
  },
  "cells": [
    {
      "cell_type": "markdown",
      "metadata": {
        "id": "view-in-github",
        "colab_type": "text"
      },
      "source": [
        "<a href=\"https://colab.research.google.com/github/Mchsnik/Practicum_ya/blob/main/ZadanieCrowd2.ipynb\" target=\"_parent\"><img src=\"https://colab.research.google.com/assets/colab-badge.svg\" alt=\"Open In Colab\"/></a>"
      ]
    },
    {
      "cell_type": "code",
      "execution_count": 84,
      "metadata": {
        "id": "e3bBmrW3x1d8"
      },
      "outputs": [],
      "source": [
        "import pandas as pd\n",
        "import numpy as np"
      ]
    },
    {
      "cell_type": "code",
      "source": [
        "df = pd.read_csv(\"/content/imdb_top_250+(1)+(1).csv\")"
      ],
      "metadata": {
        "id": "5mzQVnACyKTh"
      },
      "execution_count": 85,
      "outputs": []
    },
    {
      "cell_type": "code",
      "source": [
        "print(df.head(2))"
      ],
      "metadata": {
        "colab": {
          "base_uri": "https://localhost:8080/"
        },
        "id": "8Znh9pguyQn-",
        "outputId": "2901415e-71c8-4947-8dc7-5edd31b04332"
      },
      "execution_count": 86,
      "outputs": [
        {
          "output_type": "stream",
          "name": "stdout",
          "text": [
            "   rank                      name  year  rating        genre certificate  \\\n",
            "0     1  The Shawshank Redemption  1994     9.3        Drama           R   \n",
            "1     2             The Godfather  1972     9.2  Crime,Drama           R   \n",
            "\n",
            "  run_time                                            tagline    budget  \\\n",
            "0   2h 22m  Fear can hold you prisoner. Hope can set you f...  25000000   \n",
            "1   2h 55m                         An offer you can't refuse.   6000000   \n",
            "\n",
            "  box_office                                              casts  \\\n",
            "0   28884504  Tim Robbins,Morgan Freeman,Bob Gunton,William ...   \n",
            "1  250341816  Marlon Brando,Al Pacino,James Caan,Diane Keato...   \n",
            "\n",
            "              directors                          writers  \n",
            "0        Frank Darabont      Stephen King,Frank Darabont  \n",
            "1  Francis Ford Coppola  Mario Puzo,Francis Ford Coppola  \n"
          ]
        }
      ]
    },
    {
      "cell_type": "code",
      "source": [
        "# группируем по году и находим средний рейтинг для каждого года\n",
        "avg_rating_by_year = df.groupby('year')['rating'].mean()"
      ],
      "metadata": {
        "id": "qBxbTDsc0Gl8"
      },
      "execution_count": 87,
      "outputs": []
    },
    {
      "cell_type": "code",
      "source": [
        "# находим год с максимальным средним рейтингом\n",
        "max_avg_rating_year = avg_rating_by_year.idxmax()"
      ],
      "metadata": {
        "id": "OIo54GdA0M7I"
      },
      "execution_count": 88,
      "outputs": []
    },
    {
      "cell_type": "code",
      "source": [
        "# Ответ на первый вопрос\n",
        "print(max_avg_rating_year)"
      ],
      "metadata": {
        "colab": {
          "base_uri": "https://localhost:8080/"
        },
        "id": "I9BJNTP-0PYK",
        "outputId": "4cd16158-ef85-4503-bd63-9b1a01061f29"
      },
      "execution_count": 89,
      "outputs": [
        {
          "output_type": "stream",
          "name": "stdout",
          "text": [
            "1972\n"
          ]
        }
      ]
    },
    {
      "cell_type": "code",
      "source": [
        "# Преобразовываем \"certificate\" в верхний регистр для обеспечения единообразия\n",
        "df['certificate'] = df['certificate'].str.upper()"
      ],
      "metadata": {
        "id": "R8ckscfs0mdr"
      },
      "execution_count": 90,
      "outputs": []
    },
    {
      "cell_type": "code",
      "source": [
        "# Создаем новый столбец для классификации фильмов по 10-летнему интервалу\n",
        "df['decade'] = pd.cut(df['year'], bins=[1990, 2000, 2010], labels=['1991-2000', '2001-2010'])"
      ],
      "metadata": {
        "id": "aa4NM0MW1QQ9"
      },
      "execution_count": 91,
      "outputs": []
    },
    {
      "cell_type": "code",
      "source": [
        "# Подсчитаем количество фильмов с \"certificate\" = R за каждое десятилетие\n",
        "r_count = df[df['certificate'] == 'R'].groupby('decade').size()"
      ],
      "metadata": {
        "id": "RJht8bDh1WCE"
      },
      "execution_count": 92,
      "outputs": []
    },
    {
      "cell_type": "code",
      "source": [
        "# Вычесляем разницу между двумя десятилетиями\n",
        "difference = r_count['2001-2010'] - r_count['1991-2000']"
      ],
      "metadata": {
        "id": "hclQjoCH1Ypp"
      },
      "execution_count": 93,
      "outputs": []
    },
    {
      "cell_type": "code",
      "source": [
        "# Ответ на второй вопрос\n",
        "print(difference)"
      ],
      "metadata": {
        "colab": {
          "base_uri": "https://localhost:8080/"
        },
        "id": "u19vaNP71bEf",
        "outputId": "a7661cbe-e48c-4e9b-c3c5-1a032f1a9275"
      },
      "execution_count": 94,
      "outputs": [
        {
          "output_type": "stream",
          "name": "stdout",
          "text": [
            "-11\n"
          ]
        }
      ]
    },
    {
      "cell_type": "code",
      "source": [
        "# Функция для преобразования времени в минуты\n",
        "def convert_time_to_minutes(time_str):\n",
        "    minutes = 0\n",
        "    time_list = time_str.split()\n",
        "\n",
        "    for item in time_list:\n",
        "        if 'h' in item:\n",
        "            hours = int(item[:-1])\n",
        "            minutes += hours * 60\n",
        "        elif 'm' in item:\n",
        "            minutes += int(item[:-1])\n",
        "\n",
        "    return minutes\n",
        "\n",
        "# Применяем функцию к столбцу 'run_time'\n",
        "df['run_time'] = df['run_time'].apply(convert_time_to_minutes)"
      ],
      "metadata": {
        "colab": {
          "base_uri": "https://localhost:8080/"
        },
        "id": "AOMxYMWN-2o3",
        "outputId": "9d72b9c8-6c12-4b7a-f737-9fd463df2d4b"
      },
      "execution_count": 95,
      "outputs": [
        {
          "output_type": "stream",
          "name": "stdout",
          "text": [
            "     rank                      name  year  rating                       genre  \\\n",
            "0       1  The Shawshank Redemption  1994     9.3                       Drama   \n",
            "1       2             The Godfather  1972     9.2                 Crime,Drama   \n",
            "2       3           The Dark Knight  2008     9.0          Action,Crime,Drama   \n",
            "3       4     The Godfather Part II  1974     9.0                 Crime,Drama   \n",
            "4       5              12 Angry Men  1957     9.0                 Crime,Drama   \n",
            "..    ...                       ...   ...     ...                         ...   \n",
            "245   246                  The Help  2011     8.1                       Drama   \n",
            "246   247               Dersu Uzala  1975     8.2   Adventure,Biography,Drama   \n",
            "247   248                   Aladdin  1992     8.0  Animation,Adventure,Comedy   \n",
            "248   249                    Gandhi  1982     8.0     Biography,Drama,History   \n",
            "249   250        Dances with Wolves  1990     8.0     Adventure,Drama,Western   \n",
            "\n",
            "    certificate  run_time                                            tagline  \\\n",
            "0             R       142  Fear can hold you prisoner. Hope can set you f...   \n",
            "1             R       175                         An offer you can't refuse.   \n",
            "2         PG-13       152                                    Why So Serious?   \n",
            "3             R       202       All the power on earth can't change destiny.   \n",
            "4      APPROVED        96  Life Is In Their Hands -- Death Is On Their Mi...   \n",
            "..          ...       ...                                                ...   \n",
            "245       PG-13       146                      Change begins with a whisper.   \n",
            "246           G       142  There is man and beast at nature's mercy. Ther...   \n",
            "247           G        90                     Wish granted! (DVD re-release)   \n",
            "248          PG       191             His Triumph Changed The World Forever.   \n",
            "249       PG-13       181  Inside everyone is a frontier waiting to be di...   \n",
            "\n",
            "            budget     box_office  \\\n",
            "0         25000000       28884504   \n",
            "1          6000000      250341816   \n",
            "2        185000000     1006234167   \n",
            "3         13000000       47961919   \n",
            "4           350000            955   \n",
            "..             ...            ...   \n",
            "245       25000000      216639112   \n",
            "246        4000000          14480   \n",
            "247  Not Available  Not Available   \n",
            "248       22000000       52767889   \n",
            "249       22000000      424208848   \n",
            "\n",
            "                                                 casts  \\\n",
            "0    Tim Robbins,Morgan Freeman,Bob Gunton,William ...   \n",
            "1    Marlon Brando,Al Pacino,James Caan,Diane Keato...   \n",
            "2    Christian Bale,Heath Ledger,Aaron Eckhart,Mich...   \n",
            "3    Al Pacino,Robert De Niro,Robert Duvall,Diane K...   \n",
            "4    Henry Fonda,Lee J. Cobb,Martin Balsam,John Fie...   \n",
            "..                                                 ...   \n",
            "245  Viola Davis,Emma Stone,Octavia Spencer,Bryce D...   \n",
            "246  Maksim Munzuk,Yuriy Solomin,Mikhail Bychkov,Vl...   \n",
            "247  Scott Weinger,Robin Williams,Linda Larkin,Jona...   \n",
            "248  Ben Kingsley,John Gielgud,Rohini Hattangadi,Ro...   \n",
            "249  Kevin Costner,Mary McDonnell,Graham Greene,Rod...   \n",
            "\n",
            "                    directors  \\\n",
            "0              Frank Darabont   \n",
            "1        Francis Ford Coppola   \n",
            "2           Christopher Nolan   \n",
            "3        Francis Ford Coppola   \n",
            "4                Sidney Lumet   \n",
            "..                        ...   \n",
            "245               Tate Taylor   \n",
            "246            Akira Kurosawa   \n",
            "247  Ron Clements,John Musker   \n",
            "248      Richard Attenborough   \n",
            "249             Kevin Costner   \n",
            "\n",
            "                                             writers     decade  \n",
            "0                        Stephen King,Frank Darabont  1991-2000  \n",
            "1                    Mario Puzo,Francis Ford Coppola        NaN  \n",
            "2    Jonathan Nolan,Christopher Nolan,David S. Goyer  2001-2010  \n",
            "3                    Francis Ford Coppola,Mario Puzo        NaN  \n",
            "4                                      Reginald Rose        NaN  \n",
            "..                                               ...        ...  \n",
            "245                     Tate Taylor,Kathryn Stockett        NaN  \n",
            "246    Akira Kurosawa,Yuriy Nagibin,Vladimir Arsenev        NaN  \n",
            "247             Ron Clements,John Musker,Ted Elliott  1991-2000  \n",
            "248                                      John Briley        NaN  \n",
            "249                                    Michael Blake        NaN  \n",
            "\n",
            "[250 rows x 14 columns]\n"
          ]
        }
      ]
    },
    {
      "cell_type": "code",
      "source": [
        "# Выбор фильмов с годом выпуска от 1990 до 2022\n",
        "df = df[(df['year'] >= 1990) & (df['year'] <= 2022)]"
      ],
      "metadata": {
        "id": "1ciA-B3tC93-"
      },
      "execution_count": 99,
      "outputs": []
    },
    {
      "cell_type": "code",
      "source": [
        "# Группировка по году и подсчет среднего значения время фильмов\n",
        "average_runtimes = df.groupby('year')['run_time'].mean().astype(int)"
      ],
      "metadata": {
        "id": "kKR1UPRbDDvp"
      },
      "execution_count": 103,
      "outputs": []
    },
    {
      "cell_type": "code",
      "source": [
        "# Нахождение медианы полученного списка\n",
        "median_runtime = average_runtimes.median()\n",
        "\n",
        "print(median_runtime)"
      ],
      "metadata": {
        "colab": {
          "base_uri": "https://localhost:8080/"
        },
        "id": "7xCZOQFQDJ-J",
        "outputId": "c300d140-246b-478f-be69-453d7b37660a"
      },
      "execution_count": 105,
      "outputs": [
        {
          "output_type": "stream",
          "name": "stdout",
          "text": [
            "129.0\n"
          ]
        }
      ]
    },
    {
      "cell_type": "code",
      "source": [],
      "metadata": {
        "id": "fsg_BD38Ee8_"
      },
      "execution_count": null,
      "outputs": []
    }
  ]
}