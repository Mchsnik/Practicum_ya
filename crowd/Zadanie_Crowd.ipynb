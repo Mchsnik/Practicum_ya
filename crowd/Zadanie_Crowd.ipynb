{
  "nbformat": 4,
  "nbformat_minor": 0,
  "metadata": {
    "colab": {
      "provenance": [],
      "authorship_tag": "ABX9TyNh3vp2V+Ih4jqgMyvoUlEO",
      "include_colab_link": true
    },
    "kernelspec": {
      "name": "python3",
      "display_name": "Python 3"
    },
    "language_info": {
      "name": "python"
    }
  },
  "cells": [
    {
      "cell_type": "markdown",
      "metadata": {
        "id": "view-in-github",
        "colab_type": "text"
      },
      "source": [
        "<a href=\"https://colab.research.google.com/github/Mchsnik/Practicum_ya/blob/main/Zadanie_Crowd.ipynb\" target=\"_parent\"><img src=\"https://colab.research.google.com/assets/colab-badge.svg\" alt=\"Open In Colab\"/></a>"
      ]
    },
    {
      "cell_type": "markdown",
      "source": [
        "В файле log.csv хранятся логи пользовательской активности. Каждая строка в файле — это одно событие, которое описано в формате: время, идентификатор пользователя, тип события, параметр события.\n",
        "\n",
        "На основе файла log.csv выполните следующие задания:\n",
        "\n",
        "Назовем сессией последовательный набор событий одного пользователя. Сессия заканчивается, если пользователь не совершал действий в течение 30 минут или более. Склейте события в сессии. В ответе укажите число сессий, которые начались 2020-04-14.\n",
        "Будем считать, что пользователь слушал музыку, если у него было событие с типом 1 и параметром music. Найдите день, когда число уникальных пользователей, слушавших музыку, было максимальным. В ответе укажите этот максимум.\n",
        "Найдите пятнадцатиминутный интервал [time; time + 15 minutes), в течение которого произошло больше всего событий. В ответе укажите время начала интервала в формате YYYY-MM-DD_hh:mm:ss. Если таких интервалов несколько, укажите начало наиболее позднего интервала. Обратите внимание, что началом интервала может быть произвольный момент времени.\n",
        "Формат вывода\n",
        "Запишите ответы на первой, второй и третий вопрос, разделив их одним пробелом. Если вы хотите пропустить какой-то из вопросов, поставьте вместо соответствующего ответа NO.\n",
        "\n",
        "\n",
        "\n",
        "Пример\n",
        "\n",
        "Если ответ на второй вопрос хочется пропустить:\n",
        "\n",
        "67890 NO 2020-01-31_10:09:12\n",
        "\n",
        "Примечания\n",
        "Данная задача состоит из нескольких пунктов, каждый из которых оценивается отдельно. За каждый пункт можно получить 1 балл.\n",
        "\n",
        "Набор данных для тестирования можно найти во вкладке \"Скачать условие задачи\""
      ],
      "metadata": {
        "id": "i9QtAdXSvuqv"
      }
    },
    {
      "cell_type": "code",
      "execution_count": 79,
      "metadata": {
        "id": "thFuOfn5e2HA"
      },
      "outputs": [],
      "source": [
        "# Загрузка библиотек\n",
        "import pandas as pd\n",
        "from datetime import datetime, timedelta"
      ]
    },
    {
      "cell_type": "code",
      "source": [
        "# Чтение файла\n",
        "data = pd.read_csv(\"//content/log.csv\")"
      ],
      "metadata": {
        "id": "M8t-CPs7fJyo"
      },
      "execution_count": 80,
      "outputs": []
    },
    {
      "cell_type": "code",
      "source": [
        "# Преобразование столбца 'date' в формат datetime\n",
        "data['date'] = pd.to_datetime(data['date'], format='%Y-%m-%d_%H:%M:%S')"
      ],
      "metadata": {
        "id": "y4o93SG5pPvI"
      },
      "execution_count": 82,
      "outputs": []
    },
    {
      "cell_type": "code",
      "source": [
        "# сортировка данных по пользователю и дате\n",
        "data.sort_values(by=['user', 'date'], inplace=True)"
      ],
      "metadata": {
        "id": "FpWkkwYos_Hv"
      },
      "execution_count": 83,
      "outputs": []
    },
    {
      "cell_type": "code",
      "source": [
        "# определение начала каждой сессии\n",
        "sessions_started = 0\n",
        "last_user = None\n",
        "last_date = None\n",
        "for index, row in data.iterrows():\n",
        "    if row['user'] != last_user or (row['date'] - last_date) > timedelta(minutes=30):\n",
        "        if row['date'].date() == datetime.strptime('2020-04-14', '%Y-%m-%d').date():\n",
        "            sessions_started += 1\n",
        "    last_user = row['user']\n",
        "    last_date = row['date']\n"
      ],
      "metadata": {
        "id": "Gbegq1trtFcT"
      },
      "execution_count": 84,
      "outputs": []
    },
    {
      "cell_type": "code",
      "source": [
        "# Решение первого пункта задачи\n",
        "print(sessions_started)"
      ],
      "metadata": {
        "colab": {
          "base_uri": "https://localhost:8080/"
        },
        "id": "SaXG0XV_tRUr",
        "outputId": "ea48e3b5-eede-40fc-8b1f-da945a8a5652"
      },
      "execution_count": 86,
      "outputs": [
        {
          "output_type": "stream",
          "name": "stdout",
          "text": [
            "4066\n"
          ]
        }
      ]
    },
    {
      "cell_type": "code",
      "source": [
        "# Выбор строк, где было событие с типом 1 и параметром music\n",
        "filtered_data = data[(data['event_type'] == 1) & (data['parameter'] == 'music')]"
      ],
      "metadata": {
        "id": "CjdNeg6Vtq7k"
      },
      "execution_count": 66,
      "outputs": []
    },
    {
      "cell_type": "code",
      "source": [
        "# Группировка данных по дню и подсчет уникальных пользователей\n",
        "daily_unique_users = filtered_data.groupby(data['date'].dt.date)['user'].nunique()"
      ],
      "metadata": {
        "id": "8a0Kn3ljtubM"
      },
      "execution_count": 67,
      "outputs": []
    },
    {
      "cell_type": "code",
      "source": [
        "# Находим день с максимальным числом уникальных пользователей\n",
        "max_unique_users_day = daily_unique_users.idxmax()\n",
        "max_unique_users = daily_unique_users.max()\n",
        "\n",
        "print(max_unique_users)"
      ],
      "metadata": {
        "colab": {
          "base_uri": "https://localhost:8080/"
        },
        "id": "nNyKXTsVtvvL",
        "outputId": "ba841305-ba1b-48fa-e986-d588482c4abd"
      },
      "execution_count": 87,
      "outputs": [
        {
          "output_type": "stream",
          "name": "stdout",
          "text": [
            "378\n"
          ]
        }
      ]
    },
    {
      "cell_type": "code",
      "source": [
        "# Создание нового столбца с пятнадцатиминутным интервалом\n",
        "data['interval'] = data['date'].dt.floor('15Min')"
      ],
      "metadata": {
        "id": "3Nw1qqAJuHva"
      },
      "execution_count": 71,
      "outputs": []
    },
    {
      "cell_type": "code",
      "source": [
        "# Подсчет количества событий в каждом интервале\n",
        "event_counts = data['interval'].value_counts()"
      ],
      "metadata": {
        "id": "1SJnfniGu-cZ"
      },
      "execution_count": 72,
      "outputs": []
    },
    {
      "cell_type": "code",
      "source": [
        "# Нахождение интервала с наибольшим количеством событий\n",
        "most_events_interval = event_counts.idxmax()"
      ],
      "metadata": {
        "id": "FRmZ4U0wvCm9"
      },
      "execution_count": 73,
      "outputs": []
    },
    {
      "cell_type": "code",
      "source": [
        "# Ответ на третье задание\n",
        "print(most_events_interval.strftime('%Y-%m-%d_%H:%M:%S'))"
      ],
      "metadata": {
        "colab": {
          "base_uri": "https://localhost:8080/"
        },
        "id": "AW7Z4XUSvFNq",
        "outputId": "f392fd05-9bff-4d90-f2c5-886709987813"
      },
      "execution_count": 74,
      "outputs": [
        {
          "output_type": "stream",
          "name": "stdout",
          "text": [
            "2020-04-18_15:15:00\n"
          ]
        }
      ]
    }
  ]
}
